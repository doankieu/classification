{
 "cells": [
  {
   "cell_type": "code",
   "execution_count": 81,
   "id": "3dfde81f",
   "metadata": {},
   "outputs": [],
   "source": [
    "import pandas as pd\n",
    "import seaborn as sns\n",
    "import numpy as np"
   ]
  },
  {
   "cell_type": "code",
   "execution_count": 82,
   "id": "6ff98499",
   "metadata": {},
   "outputs": [],
   "source": [
    "df = pd.read_csv(\"Airlines.csv\")"
   ]
  },
  {
   "cell_type": "code",
   "execution_count": 83,
   "id": "6b445962",
   "metadata": {},
   "outputs": [
    {
     "data": {
      "text/html": [
       "<div>\n",
       "<style scoped>\n",
       "    .dataframe tbody tr th:only-of-type {\n",
       "        vertical-align: middle;\n",
       "    }\n",
       "\n",
       "    .dataframe tbody tr th {\n",
       "        vertical-align: top;\n",
       "    }\n",
       "\n",
       "    .dataframe thead th {\n",
       "        text-align: right;\n",
       "    }\n",
       "</style>\n",
       "<table border=\"1\" class=\"dataframe\">\n",
       "  <thead>\n",
       "    <tr style=\"text-align: right;\">\n",
       "      <th></th>\n",
       "      <th>id</th>\n",
       "      <th>Airline</th>\n",
       "      <th>Flight</th>\n",
       "      <th>AirportFrom</th>\n",
       "      <th>AirportTo</th>\n",
       "      <th>DayOfWeek</th>\n",
       "      <th>Time</th>\n",
       "      <th>Length</th>\n",
       "      <th>Delay</th>\n",
       "    </tr>\n",
       "  </thead>\n",
       "  <tbody>\n",
       "    <tr>\n",
       "      <th>0</th>\n",
       "      <td>1</td>\n",
       "      <td>CO</td>\n",
       "      <td>269</td>\n",
       "      <td>SFO</td>\n",
       "      <td>IAH</td>\n",
       "      <td>3</td>\n",
       "      <td>15</td>\n",
       "      <td>205</td>\n",
       "      <td>1</td>\n",
       "    </tr>\n",
       "    <tr>\n",
       "      <th>1</th>\n",
       "      <td>2</td>\n",
       "      <td>US</td>\n",
       "      <td>1558</td>\n",
       "      <td>PHX</td>\n",
       "      <td>CLT</td>\n",
       "      <td>3</td>\n",
       "      <td>15</td>\n",
       "      <td>222</td>\n",
       "      <td>1</td>\n",
       "    </tr>\n",
       "    <tr>\n",
       "      <th>2</th>\n",
       "      <td>3</td>\n",
       "      <td>AA</td>\n",
       "      <td>2400</td>\n",
       "      <td>LAX</td>\n",
       "      <td>DFW</td>\n",
       "      <td>3</td>\n",
       "      <td>20</td>\n",
       "      <td>165</td>\n",
       "      <td>1</td>\n",
       "    </tr>\n",
       "    <tr>\n",
       "      <th>3</th>\n",
       "      <td>4</td>\n",
       "      <td>AA</td>\n",
       "      <td>2466</td>\n",
       "      <td>SFO</td>\n",
       "      <td>DFW</td>\n",
       "      <td>3</td>\n",
       "      <td>20</td>\n",
       "      <td>195</td>\n",
       "      <td>1</td>\n",
       "    </tr>\n",
       "    <tr>\n",
       "      <th>4</th>\n",
       "      <td>5</td>\n",
       "      <td>AS</td>\n",
       "      <td>108</td>\n",
       "      <td>ANC</td>\n",
       "      <td>SEA</td>\n",
       "      <td>3</td>\n",
       "      <td>30</td>\n",
       "      <td>202</td>\n",
       "      <td>0</td>\n",
       "    </tr>\n",
       "  </tbody>\n",
       "</table>\n",
       "</div>"
      ],
      "text/plain": [
       "   id Airline  Flight AirportFrom AirportTo  DayOfWeek  Time  Length  Delay\n",
       "0   1      CO     269         SFO       IAH          3    15     205      1\n",
       "1   2      US    1558         PHX       CLT          3    15     222      1\n",
       "2   3      AA    2400         LAX       DFW          3    20     165      1\n",
       "3   4      AA    2466         SFO       DFW          3    20     195      1\n",
       "4   5      AS     108         ANC       SEA          3    30     202      0"
      ]
     },
     "execution_count": 83,
     "metadata": {},
     "output_type": "execute_result"
    }
   ],
   "source": [
    "df.head()"
   ]
  },
  {
   "cell_type": "code",
   "execution_count": 84,
   "id": "ea02a72a",
   "metadata": {},
   "outputs": [
    {
     "data": {
      "text/plain": [
       "id             0\n",
       "Airline        0\n",
       "Flight         0\n",
       "AirportFrom    0\n",
       "AirportTo      0\n",
       "DayOfWeek      0\n",
       "Time           0\n",
       "Length         0\n",
       "Delay          0\n",
       "dtype: int64"
      ]
     },
     "execution_count": 84,
     "metadata": {},
     "output_type": "execute_result"
    }
   ],
   "source": [
    "df.isna().sum()"
   ]
  },
  {
   "cell_type": "code",
   "execution_count": 85,
   "id": "8e145b5d",
   "metadata": {},
   "outputs": [
    {
     "data": {
      "text/plain": [
       "array(['CO', 'US', 'AA', 'AS', 'DL', 'B6', 'HA', 'OO', '9E', 'OH', 'EV',\n",
       "       'XE', 'YV', 'UA', 'MQ', 'FL', 'F9', 'WN'], dtype=object)"
      ]
     },
     "execution_count": 85,
     "metadata": {},
     "output_type": "execute_result"
    }
   ],
   "source": [
    "df.Airline.unique()"
   ]
  },
  {
   "cell_type": "code",
   "execution_count": 86,
   "id": "e19b01ed",
   "metadata": {},
   "outputs": [
    {
     "data": {
      "text/plain": [
       "293"
      ]
     },
     "execution_count": 86,
     "metadata": {},
     "output_type": "execute_result"
    }
   ],
   "source": [
    "df.AirportFrom.nunique()"
   ]
  },
  {
   "cell_type": "code",
   "execution_count": 87,
   "id": "3267d386",
   "metadata": {},
   "outputs": [
    {
     "data": {
      "text/plain": [
       "293"
      ]
     },
     "execution_count": 87,
     "metadata": {},
     "output_type": "execute_result"
    }
   ],
   "source": [
    "df.AirportTo.nunique()"
   ]
  },
  {
   "cell_type": "code",
   "execution_count": 88,
   "id": "12937f44",
   "metadata": {},
   "outputs": [
    {
     "data": {
      "text/html": [
       "<div>\n",
       "<style scoped>\n",
       "    .dataframe tbody tr th:only-of-type {\n",
       "        vertical-align: middle;\n",
       "    }\n",
       "\n",
       "    .dataframe tbody tr th {\n",
       "        vertical-align: top;\n",
       "    }\n",
       "\n",
       "    .dataframe thead th {\n",
       "        text-align: right;\n",
       "    }\n",
       "</style>\n",
       "<table border=\"1\" class=\"dataframe\">\n",
       "  <thead>\n",
       "    <tr style=\"text-align: right;\">\n",
       "      <th></th>\n",
       "      <th>id</th>\n",
       "      <th>Flight</th>\n",
       "      <th>DayOfWeek</th>\n",
       "      <th>Time</th>\n",
       "      <th>Length</th>\n",
       "      <th>Delay</th>\n",
       "    </tr>\n",
       "  </thead>\n",
       "  <tbody>\n",
       "    <tr>\n",
       "      <th>count</th>\n",
       "      <td>539383.00000</td>\n",
       "      <td>539383.000000</td>\n",
       "      <td>539383.000000</td>\n",
       "      <td>539383.000000</td>\n",
       "      <td>539383.000000</td>\n",
       "      <td>539383.000000</td>\n",
       "    </tr>\n",
       "    <tr>\n",
       "      <th>mean</th>\n",
       "      <td>269692.00000</td>\n",
       "      <td>2427.928630</td>\n",
       "      <td>3.929668</td>\n",
       "      <td>802.728963</td>\n",
       "      <td>132.202007</td>\n",
       "      <td>0.445442</td>\n",
       "    </tr>\n",
       "    <tr>\n",
       "      <th>std</th>\n",
       "      <td>155706.60446</td>\n",
       "      <td>2067.429837</td>\n",
       "      <td>1.914664</td>\n",
       "      <td>278.045911</td>\n",
       "      <td>70.117016</td>\n",
       "      <td>0.497015</td>\n",
       "    </tr>\n",
       "    <tr>\n",
       "      <th>min</th>\n",
       "      <td>1.00000</td>\n",
       "      <td>1.000000</td>\n",
       "      <td>1.000000</td>\n",
       "      <td>10.000000</td>\n",
       "      <td>0.000000</td>\n",
       "      <td>0.000000</td>\n",
       "    </tr>\n",
       "    <tr>\n",
       "      <th>25%</th>\n",
       "      <td>134846.50000</td>\n",
       "      <td>712.000000</td>\n",
       "      <td>2.000000</td>\n",
       "      <td>565.000000</td>\n",
       "      <td>81.000000</td>\n",
       "      <td>0.000000</td>\n",
       "    </tr>\n",
       "    <tr>\n",
       "      <th>50%</th>\n",
       "      <td>269692.00000</td>\n",
       "      <td>1809.000000</td>\n",
       "      <td>4.000000</td>\n",
       "      <td>795.000000</td>\n",
       "      <td>115.000000</td>\n",
       "      <td>0.000000</td>\n",
       "    </tr>\n",
       "    <tr>\n",
       "      <th>75%</th>\n",
       "      <td>404537.50000</td>\n",
       "      <td>3745.000000</td>\n",
       "      <td>5.000000</td>\n",
       "      <td>1035.000000</td>\n",
       "      <td>162.000000</td>\n",
       "      <td>1.000000</td>\n",
       "    </tr>\n",
       "    <tr>\n",
       "      <th>max</th>\n",
       "      <td>539383.00000</td>\n",
       "      <td>7814.000000</td>\n",
       "      <td>7.000000</td>\n",
       "      <td>1439.000000</td>\n",
       "      <td>655.000000</td>\n",
       "      <td>1.000000</td>\n",
       "    </tr>\n",
       "  </tbody>\n",
       "</table>\n",
       "</div>"
      ],
      "text/plain": [
       "                 id         Flight      DayOfWeek           Time  \\\n",
       "count  539383.00000  539383.000000  539383.000000  539383.000000   \n",
       "mean   269692.00000    2427.928630       3.929668     802.728963   \n",
       "std    155706.60446    2067.429837       1.914664     278.045911   \n",
       "min         1.00000       1.000000       1.000000      10.000000   \n",
       "25%    134846.50000     712.000000       2.000000     565.000000   \n",
       "50%    269692.00000    1809.000000       4.000000     795.000000   \n",
       "75%    404537.50000    3745.000000       5.000000    1035.000000   \n",
       "max    539383.00000    7814.000000       7.000000    1439.000000   \n",
       "\n",
       "              Length          Delay  \n",
       "count  539383.000000  539383.000000  \n",
       "mean      132.202007       0.445442  \n",
       "std        70.117016       0.497015  \n",
       "min         0.000000       0.000000  \n",
       "25%        81.000000       0.000000  \n",
       "50%       115.000000       0.000000  \n",
       "75%       162.000000       1.000000  \n",
       "max       655.000000       1.000000  "
      ]
     },
     "execution_count": 88,
     "metadata": {},
     "output_type": "execute_result"
    }
   ],
   "source": [
    "df.describe()"
   ]
  },
  {
   "cell_type": "code",
   "execution_count": 89,
   "id": "b2ed8d4b",
   "metadata": {
    "scrolled": true
   },
   "outputs": [
    {
     "data": {
      "text/html": [
       "<div>\n",
       "<style scoped>\n",
       "    .dataframe tbody tr th:only-of-type {\n",
       "        vertical-align: middle;\n",
       "    }\n",
       "\n",
       "    .dataframe tbody tr th {\n",
       "        vertical-align: top;\n",
       "    }\n",
       "\n",
       "    .dataframe thead th {\n",
       "        text-align: right;\n",
       "    }\n",
       "</style>\n",
       "<table border=\"1\" class=\"dataframe\">\n",
       "  <thead>\n",
       "    <tr style=\"text-align: right;\">\n",
       "      <th></th>\n",
       "      <th>id</th>\n",
       "      <th>Flight</th>\n",
       "      <th>DayOfWeek</th>\n",
       "      <th>Time</th>\n",
       "      <th>Length</th>\n",
       "      <th>Delay</th>\n",
       "    </tr>\n",
       "  </thead>\n",
       "  <tbody>\n",
       "    <tr>\n",
       "      <th>id</th>\n",
       "      <td>1.000000</td>\n",
       "      <td>-0.006156</td>\n",
       "      <td>-0.055474</td>\n",
       "      <td>0.029156</td>\n",
       "      <td>0.020781</td>\n",
       "      <td>0.139762</td>\n",
       "    </tr>\n",
       "    <tr>\n",
       "      <th>Flight</th>\n",
       "      <td>-0.006156</td>\n",
       "      <td>1.000000</td>\n",
       "      <td>0.000416</td>\n",
       "      <td>-0.005750</td>\n",
       "      <td>-0.341481</td>\n",
       "      <td>-0.046175</td>\n",
       "    </tr>\n",
       "    <tr>\n",
       "      <th>DayOfWeek</th>\n",
       "      <td>-0.055474</td>\n",
       "      <td>0.000416</td>\n",
       "      <td>1.000000</td>\n",
       "      <td>0.001273</td>\n",
       "      <td>0.013397</td>\n",
       "      <td>-0.026199</td>\n",
       "    </tr>\n",
       "    <tr>\n",
       "      <th>Time</th>\n",
       "      <td>0.029156</td>\n",
       "      <td>-0.005750</td>\n",
       "      <td>0.001273</td>\n",
       "      <td>1.000000</td>\n",
       "      <td>-0.020612</td>\n",
       "      <td>0.150454</td>\n",
       "    </tr>\n",
       "    <tr>\n",
       "      <th>Length</th>\n",
       "      <td>0.020781</td>\n",
       "      <td>-0.341481</td>\n",
       "      <td>0.013397</td>\n",
       "      <td>-0.020612</td>\n",
       "      <td>1.000000</td>\n",
       "      <td>0.040489</td>\n",
       "    </tr>\n",
       "    <tr>\n",
       "      <th>Delay</th>\n",
       "      <td>0.139762</td>\n",
       "      <td>-0.046175</td>\n",
       "      <td>-0.026199</td>\n",
       "      <td>0.150454</td>\n",
       "      <td>0.040489</td>\n",
       "      <td>1.000000</td>\n",
       "    </tr>\n",
       "  </tbody>\n",
       "</table>\n",
       "</div>"
      ],
      "text/plain": [
       "                 id    Flight  DayOfWeek      Time    Length     Delay\n",
       "id         1.000000 -0.006156  -0.055474  0.029156  0.020781  0.139762\n",
       "Flight    -0.006156  1.000000   0.000416 -0.005750 -0.341481 -0.046175\n",
       "DayOfWeek -0.055474  0.000416   1.000000  0.001273  0.013397 -0.026199\n",
       "Time       0.029156 -0.005750   0.001273  1.000000 -0.020612  0.150454\n",
       "Length     0.020781 -0.341481   0.013397 -0.020612  1.000000  0.040489\n",
       "Delay      0.139762 -0.046175  -0.026199  0.150454  0.040489  1.000000"
      ]
     },
     "execution_count": 89,
     "metadata": {},
     "output_type": "execute_result"
    }
   ],
   "source": [
    "df.corr()"
   ]
  },
  {
   "cell_type": "markdown",
   "id": "30eeb031",
   "metadata": {},
   "source": [
    "<h1 style=\"color:green\"> DAY OF THE WEEK</h1>"
   ]
  },
  {
   "cell_type": "code",
   "execution_count": 90,
   "id": "dd9b767f",
   "metadata": {},
   "outputs": [
    {
     "data": {
      "text/plain": [
       "<AxesSubplot:xlabel='DayOfWeek'>"
      ]
     },
     "execution_count": 90,
     "metadata": {},
     "output_type": "execute_result"
    },
    {
     "data": {
      "image/png": "[encoded data removed]",
      "text/plain": [
       "<Figure size 432x288 with 1 Axes>"
      ]
     },
     "metadata": {
      "needs_background": "light"
     },
     "output_type": "display_data"
    }
   ],
   "source": [
    "df.groupby(by = [\"DayOfWeek\",\"Delay\"]).agg({\"Delay\":\"count\"}).unstack().plot.bar()"
   ]
  },
  {
   "cell_type": "markdown",
   "id": "b6c12466",
   "metadata": {},
   "source": [
    "### Friday and saturday has less delay than the rest of the week. but the difference is not significant. (Can probably perform a hypothesis test here)"
   ]
  },
  {
   "cell_type": "markdown",
   "id": "1e79dffc",
   "metadata": {},
   "source": [
    "<h1 style=\"color:green\"> AIRLINE</h1>"
   ]
  },
  {
   "cell_type": "code",
   "execution_count": 91,
   "id": "28946781",
   "metadata": {},
   "outputs": [
    {
     "data": {
      "text/plain": [
       "<AxesSubplot:xlabel='Airline'>"
      ]
     },
     "execution_count": 91,
     "metadata": {},
     "output_type": "execute_result"
    },
    {
     "data": {
      "image/png": "[encoded data removed]",
      "text/plain": [
       "<Figure size 432x288 with 1 Axes>"
      ]
     },
     "metadata": {
      "needs_background": "light"
     },
     "output_type": "display_data"
    }
   ],
   "source": [
    "df.groupby(by = [\"Airline\",\"Delay\"]).agg({\"Delay\":\"count\"}).unstack().plot.bar()"
   ]
  },
  {
   "cell_type": "markdown",
   "id": "1a95a727",
   "metadata": {},
   "source": [
    "### F9, CO, WN, DL, B6, OO have high delay rate"
   ]
  },
  {
   "cell_type": "code",
   "execution_count": 92,
   "id": "de979b58",
   "metadata": {},
   "outputs": [
    {
     "data": {
      "text/plain": [
       "count    18.000000\n",
       "mean      0.731688\n",
       "std       0.456504\n",
       "min       0.320855\n",
       "25%       0.485805\n",
       "50%       0.622702\n",
       "75%       0.818570\n",
       "max       2.308615\n",
       "Name: delay_rate, dtype: float64"
      ]
     },
     "execution_count": 92,
     "metadata": {},
     "output_type": "execute_result"
    }
   ],
   "source": [
    "df_by_airline_delayrate = df.groupby(by = [\"Airline\", \"Delay\"]).agg({\"Delay\":\"count\"}).unstack()\n",
    "df_by_airline_delayrate[\"delay_rate\"]= np.divide(df_by_airline_delayrate.iloc[:,1],\n",
    "                                                     df_by_airline_delayrate.iloc[:,0])\n",
    "df_by_airline_delayrate.delay_rate.describe()"
   ]
  },
  {
   "cell_type": "markdown",
   "id": "d0386c3b",
   "metadata": {},
   "source": [
    "<h1 style=\"color:green\"> AIRPORT</h1>"
   ]
  },
  {
   "cell_type": "code",
   "execution_count": 93,
   "id": "f3536770",
   "metadata": {},
   "outputs": [],
   "source": [
    "df_by_airportfrom_delayrate = df.groupby(by = [\"AirportFrom\", \"Delay\"]).agg({\"Delay\":\"count\"}).unstack()\n",
    "df_by_airportfrom_delayrate[\"delay_rate\"]= np.divide(df_by_airportfrom_delayrate.iloc[:,1],\n",
    "                                                     df_by_airportfrom_delayrate.iloc[:,0])"
   ]
  },
  {
   "cell_type": "code",
   "execution_count": 94,
   "id": "8f4e717a",
   "metadata": {},
   "outputs": [],
   "source": [
    "df_by_airportto_delayrate = df.groupby(by = [\"AirportTo\", \"Delay\"]).agg({\"Delay\":\"count\"}).unstack()\n",
    "df_by_airportto_delayrate[\"delay_rate\"]= np.divide(df_by_airportto_delayrate.iloc[:,1],\n",
    "                                                     df_by_airportto_delayrate.iloc[:,0])"
   ]
  },
  {
   "cell_type": "code",
   "execution_count": 95,
   "id": "a140ddee",
   "metadata": {},
   "outputs": [
    {
     "name": "stderr",
     "output_type": "stream",
     "text": [
      "C:\\Users\\Clivia\\Anaconda3-2019.10\\envs\\IOD\\lib\\site-packages\\seaborn\\_decorators.py:36: FutureWarning: Pass the following variable as a keyword arg: x. From version 0.12, the only valid positional argument will be `data`, and passing other arguments without an explicit keyword will result in an error or misinterpretation.\n",
      "  warnings.warn(\n"
     ]
    },
    {
     "data": {
      "text/plain": [
       "<AxesSubplot:xlabel='delay_rate'>"
      ]
     },
     "execution_count": 95,
     "metadata": {},
     "output_type": "execute_result"
    },
    {
     "data": {
      "image/png": "[encoded data removed]",
      "text/plain": [
       "<Figure size 432x288 with 1 Axes>"
      ]
     },
     "metadata": {
      "needs_background": "light"
     },
     "output_type": "display_data"
    }
   ],
   "source": [
    "sns.boxplot(df_by_airportto_delayrate.delay_rate)"
   ]
  },
  {
   "cell_type": "code",
   "execution_count": 96,
   "id": "d01504bb",
   "metadata": {},
   "outputs": [
    {
     "data": {
      "text/plain": [
       "count    292.000000\n",
       "mean       0.783180\n",
       "std        0.318774\n",
       "min        0.192308\n",
       "25%        0.551974\n",
       "50%        0.720338\n",
       "75%        0.992003\n",
       "max        1.755831\n",
       "Name: delay_rate, dtype: float64"
      ]
     },
     "execution_count": 96,
     "metadata": {},
     "output_type": "execute_result"
    }
   ],
   "source": [
    "df_by_airportto_delayrate.delay_rate.describe()"
   ]
  },
  {
   "cell_type": "code",
   "execution_count": 97,
   "id": "5acf3717",
   "metadata": {},
   "outputs": [
    {
     "data": {
      "text/plain": [
       "count    293.000000\n",
       "mean       0.648578\n",
       "std        0.352572\n",
       "min        0.132353\n",
       "25%        0.421053\n",
       "50%        0.583463\n",
       "75%        0.775391\n",
       "max        2.776183\n",
       "Name: delay_rate, dtype: float64"
      ]
     },
     "execution_count": 97,
     "metadata": {},
     "output_type": "execute_result"
    }
   ],
   "source": [
    "df_by_airportfrom_delayrate.delay_rate.describe()"
   ]
  },
  {
   "cell_type": "markdown",
   "id": "df86d527",
   "metadata": {},
   "source": [
    "<h1 style=\"color:green\"> FEATURE ENGINEERING ON AIRLINE & AIRPORT</h1>"
   ]
  },
  {
   "cell_type": "markdown",
   "id": "7589c0d8",
   "metadata": {},
   "source": [
    "## Airline, Airport from and Airport to are categorical features, but they have too many categories. We will divide each of the feature into 2 categories: below & above the delay rate mean "
   ]
  },
  {
   "cell_type": "code",
   "execution_count": 98,
   "id": "4b733b9b",
   "metadata": {},
   "outputs": [],
   "source": [
    "#calculate the delay rate mean for each Airline:\n",
    "airline_delay_rate_mean = df_by_airline_delayrate.delay_rate.mean()\n",
    "\n",
    "#Generate a list of airline that delay more than average:\n",
    "list_more_delay_airline = df_by_airline_delayrate[df_by_airline_delayrate.delay_rate>\n",
    "                                                  airline_delay_rate_mean].index.values.tolist()\n",
    "\n",
    "df[\"more_delay_airline\"] = df[\"Airline\"].apply(lambda x : 1 if x in list_more_delay_airline\n",
    "                                               else 0)"
   ]
  },
  {
   "cell_type": "code",
   "execution_count": 99,
   "id": "92fae0d1",
   "metadata": {},
   "outputs": [],
   "source": [
    "#calculate the delay rate mean for each AirportFrom:\n",
    "airportfrom_delay_rate_mean = df_by_airportfrom_delayrate.delay_rate.mean()\n",
    "\n",
    "#Generate a list of airportfrom that delay more than average:\n",
    "list_more_delay_airportfrom = df_by_airportfrom_delayrate[df_by_airportfrom_delayrate.delay_rate>\n",
    "                                                  airportfrom_delay_rate_mean].index.values.tolist()\n",
    "\n",
    "df[\"more_delay_airportfrom\"] = df[\"AirportFrom\"].apply(lambda x : 1 if x in list_more_delay_airportfrom\n",
    "                                               else 0)"
   ]
  },
  {
   "cell_type": "code",
   "execution_count": 100,
   "id": "741d7788",
   "metadata": {},
   "outputs": [],
   "source": [
    "#calculate the delay rate mean for each AirportTo:\n",
    "airportto_delay_rate_mean = df_by_airportto_delayrate.delay_rate.mean()\n",
    "\n",
    "#Generate a list of airportto that delay more than average:\n",
    "list_more_delay_airportto = df_by_airportto_delayrate[df_by_airportto_delayrate.delay_rate>\n",
    "                                                  airportto_delay_rate_mean].index.values.tolist()\n",
    "\n",
    "df[\"more_delay_airportto\"] = df[\"AirportTo\"].apply(lambda x : 1 if x in list_more_delay_airportto\n",
    "                                               else 0)"
   ]
  },
  {
   "cell_type": "code",
   "execution_count": 101,
   "id": "5d395414",
   "metadata": {},
   "outputs": [],
   "source": [
    "airportto_most_delay_rate_75 = df_by_airportto_delayrate.delay_rate.quantile(q=0.75)\n",
    "list_most_delay_airportto = df_by_airportto_delayrate[df_by_airportto_delayrate.delay_rate>\n",
    "                                                  airportto_most_delay_rate_75].index.values.tolist()\n",
    "df[\"most_delay_airportto\"] = df[\"AirportTo\"].apply(lambda x : 1 if x in list_most_delay_airportto\n",
    "                                               else 0)"
   ]
  },
  {
   "cell_type": "code",
   "execution_count": 102,
   "id": "31ef706c",
   "metadata": {},
   "outputs": [],
   "source": [
    "airportfrom_most_delay_rate_75 = df_by_airportfrom_delayrate.delay_rate.quantile(q=0.75)\n",
    "list_most_delay_airportfrom = df_by_airportfrom_delayrate[df_by_airportfrom_delayrate.delay_rate>\n",
    "                                                  airportfrom_most_delay_rate_75].index.values.tolist()\n",
    "df[\"most_delay_airportfrom\"] = df[\"AirportFrom\"].apply(lambda x : 1 if x in list_most_delay_airportfrom\n",
    "                                               else 0)"
   ]
  },
  {
   "cell_type": "markdown",
   "id": "0caf78ec",
   "metadata": {},
   "source": [
    "<h1 style=\"color:green\">TIME & LENGTH</h1>"
   ]
  },
  {
   "cell_type": "code",
   "execution_count": 103,
   "id": "f44548b9",
   "metadata": {},
   "outputs": [
    {
     "data": {
      "text/plain": [
       "<AxesSubplot:xlabel='Time', ylabel='Length'>"
      ]
     },
     "execution_count": 103,
     "metadata": {},
     "output_type": "execute_result"
    },
    {
     "data": {
      "image/png": "[encoded data removed]",
      "text/plain": [
       "<Figure size 432x288 with 1 Axes>"
      ]
     },
     "metadata": {
      "needs_background": "light"
     },
     "output_type": "display_data"
    }
   ],
   "source": [
    "sns.scatterplot(x = df.Time, y = df.Length, hue = df.Delay)"
   ]
  },
  {
   "cell_type": "code",
   "execution_count": 104,
   "id": "35726fa6",
   "metadata": {},
   "outputs": [],
   "source": [
    "df[\"timeofday\"] = pd.cut(df.Time,bins = 3, labels = [\"morning\",\"afternoon\",\"evening\"])"
   ]
  },
  {
   "cell_type": "code",
   "execution_count": 105,
   "id": "250c990c",
   "metadata": {},
   "outputs": [
    {
     "data": {
      "text/plain": [
       "<AxesSubplot:xlabel='timeofday'>"
      ]
     },
     "execution_count": 105,
     "metadata": {},
     "output_type": "execute_result"
    },
    {
     "data": {
      "image/png": "[encoded data removed]",
      "text/plain": [
       "<Figure size 432x288 with 1 Axes>"
      ]
     },
     "metadata": {
      "needs_background": "light"
     },
     "output_type": "display_data"
    }
   ],
   "source": [
    "df.groupby(by = [\"timeofday\",\"Delay\"]).agg({\"Delay\":\"count\"}).unstack().plot.bar()"
   ]
  },
  {
   "cell_type": "markdown",
   "id": "4e15639d",
   "metadata": {},
   "source": [
    "### We can see that it is less delay in the morning and more delays occur later in the day"
   ]
  },
  {
   "cell_type": "code",
   "execution_count": 106,
   "id": "f2add77f",
   "metadata": {},
   "outputs": [],
   "source": [
    "a = df[df.Time <720][\"Delay\"].sample(100,random_state=1)\n",
    "b = df[df.Time >720][\"Delay\"].sample(100,random_state=1)"
   ]
  },
  {
   "cell_type": "code",
   "execution_count": 107,
   "id": "3f2d0e12",
   "metadata": {},
   "outputs": [
    {
     "name": "stdout",
     "output_type": "stream",
     "text": [
      "t = -3.6663769890642195\n",
      "p = 0.00031600666081269284\n"
     ]
    }
   ],
   "source": [
    "from scipy import stats\n",
    "t,p = stats.ttest_ind(a,b)\n",
    "print(\"t = \" + str(t))\n",
    "print(\"p = \" + str(p))"
   ]
  },
  {
   "cell_type": "markdown",
   "id": "011ee169",
   "metadata": {},
   "source": [
    "### there is a significantly difference in delay rate between early and later in the day."
   ]
  },
  {
   "cell_type": "code",
   "execution_count": 108,
   "id": "10324473",
   "metadata": {},
   "outputs": [
    {
     "data": {
      "text/plain": [
       "count    539383.000000\n",
       "mean        132.202007\n",
       "std          70.117016\n",
       "min           0.000000\n",
       "25%          81.000000\n",
       "50%         115.000000\n",
       "75%         162.000000\n",
       "max         655.000000\n",
       "Name: Length, dtype: float64"
      ]
     },
     "execution_count": 108,
     "metadata": {},
     "output_type": "execute_result"
    }
   ],
   "source": [
    "df.Length.describe()"
   ]
  },
  {
   "cell_type": "code",
   "execution_count": 109,
   "id": "c9509ea9",
   "metadata": {},
   "outputs": [],
   "source": [
    "c = df[df.Length <115][\"Delay\"].sample(100,random_state=1)\n",
    "d = df[df.Length >115][\"Delay\"].sample(100,random_state=1)"
   ]
  },
  {
   "cell_type": "code",
   "execution_count": 110,
   "id": "7b3348d6",
   "metadata": {},
   "outputs": [
    {
     "name": "stdout",
     "output_type": "stream",
     "text": [
      "t = -1.4167918937066917\n",
      "p = 0.1581152309552422\n"
     ]
    }
   ],
   "source": [
    "t2,p2 = stats.ttest_ind(c,d)\n",
    "print(\"t = \" + str(t2))\n",
    "print(\"p = \" + str(p2))"
   ]
  },
  {
   "cell_type": "markdown",
   "id": "76bb3617",
   "metadata": {},
   "source": [
    "### There is no difference in delay rate between long & short flights"
   ]
  },
  {
   "cell_type": "markdown",
   "id": "593eb3b5",
   "metadata": {},
   "source": [
    "<h1 style=\"color:green\">CLASSIFICATION</h1>"
   ]
  },
  {
   "cell_type": "code",
   "execution_count": 111,
   "id": "39eb77f9",
   "metadata": {},
   "outputs": [
    {
     "data": {
      "text/html": [
       "<div>\n",
       "<style scoped>\n",
       "    .dataframe tbody tr th:only-of-type {\n",
       "        vertical-align: middle;\n",
       "    }\n",
       "\n",
       "    .dataframe tbody tr th {\n",
       "        vertical-align: top;\n",
       "    }\n",
       "\n",
       "    .dataframe thead th {\n",
       "        text-align: right;\n",
       "    }\n",
       "</style>\n",
       "<table border=\"1\" class=\"dataframe\">\n",
       "  <thead>\n",
       "    <tr style=\"text-align: right;\">\n",
       "      <th></th>\n",
       "      <th>id</th>\n",
       "      <th>Airline</th>\n",
       "      <th>Flight</th>\n",
       "      <th>AirportFrom</th>\n",
       "      <th>AirportTo</th>\n",
       "      <th>DayOfWeek</th>\n",
       "      <th>Time</th>\n",
       "      <th>Length</th>\n",
       "      <th>Delay</th>\n",
       "      <th>more_delay_airline</th>\n",
       "      <th>more_delay_airportfrom</th>\n",
       "      <th>more_delay_airportto</th>\n",
       "      <th>most_delay_airportto</th>\n",
       "      <th>most_delay_airportfrom</th>\n",
       "      <th>timeofday</th>\n",
       "    </tr>\n",
       "  </thead>\n",
       "  <tbody>\n",
       "    <tr>\n",
       "      <th>0</th>\n",
       "      <td>1</td>\n",
       "      <td>CO</td>\n",
       "      <td>269</td>\n",
       "      <td>SFO</td>\n",
       "      <td>IAH</td>\n",
       "      <td>3</td>\n",
       "      <td>15</td>\n",
       "      <td>205</td>\n",
       "      <td>1</td>\n",
       "      <td>1</td>\n",
       "      <td>1</td>\n",
       "      <td>0</td>\n",
       "      <td>0</td>\n",
       "      <td>1</td>\n",
       "      <td>morning</td>\n",
       "    </tr>\n",
       "  </tbody>\n",
       "</table>\n",
       "</div>"
      ],
      "text/plain": [
       "   id Airline  Flight AirportFrom AirportTo  DayOfWeek  Time  Length  Delay  \\\n",
       "0   1      CO     269         SFO       IAH          3    15     205      1   \n",
       "\n",
       "   more_delay_airline  more_delay_airportfrom  more_delay_airportto  \\\n",
       "0                   1                       1                     0   \n",
       "\n",
       "   most_delay_airportto  most_delay_airportfrom timeofday  \n",
       "0                     0                       1   morning  "
      ]
     },
     "execution_count": 111,
     "metadata": {},
     "output_type": "execute_result"
    }
   ],
   "source": [
    "from sklearn.model_selection import train_test_split\n",
    "from sklearn.linear_model import LogisticRegression\n",
    "from sklearn import metrics\n",
    "import matplotlib.pyplot as plt\n",
    "%matplotlib inline\n",
    "df.head(1)"
   ]
  },
  {
   "cell_type": "code",
   "execution_count": 112,
   "id": "3481ffc0",
   "metadata": {},
   "outputs": [],
   "source": [
    "#Define tested features and target variable\n",
    "tested_feature_list = [\"more_delay_airline\",\"Time\"]\n",
    "X = df.loc[:,tested_feature_list]\n",
    "y = df.Delay"
   ]
  },
  {
   "cell_type": "code",
   "execution_count": 113,
   "id": "3d25c708",
   "metadata": {},
   "outputs": [],
   "source": [
    "#Spliting datasest\n",
    "X_train,X_test, y_train,y_test = train_test_split(X,y, test_size = 0.2,random_state = 1)"
   ]
  },
  {
   "cell_type": "markdown",
   "id": "9d3beed3",
   "metadata": {},
   "source": [
    "## Logistic Regression"
   ]
  },
  {
   "cell_type": "code",
   "execution_count": 114,
   "id": "23c5685b",
   "metadata": {},
   "outputs": [
    {
     "data": {
      "text/plain": [
       "0.6284454909085853"
      ]
     },
     "execution_count": 114,
     "metadata": {},
     "output_type": "execute_result"
    }
   ],
   "source": [
    "logreg = LogisticRegression()\n",
    "model =logreg.fit(X_train,y_train)\n",
    "model.score(X_train,y_train)"
   ]
  },
  {
   "cell_type": "code",
   "execution_count": 115,
   "id": "d0ff1020",
   "metadata": {},
   "outputs": [
    {
     "data": {
      "text/plain": [
       "0.6274831521084198"
      ]
     },
     "execution_count": 115,
     "metadata": {},
     "output_type": "execute_result"
    }
   ],
   "source": [
    "model.score(X_test,y_test)"
   ]
  },
  {
   "cell_type": "code",
   "execution_count": 116,
   "id": "c5513490",
   "metadata": {},
   "outputs": [
    {
     "name": "stdout",
     "output_type": "stream",
     "text": [
      "[[45752 14007]\n",
      " [26179 21939]]\n"
     ]
    }
   ],
   "source": [
    "# ANSWER\n",
    "y_pred_class = logreg.predict(X_test)\n",
    "print(metrics.confusion_matrix(y_test, y_pred_class))"
   ]
  },
  {
   "cell_type": "code",
   "execution_count": 117,
   "id": "101fdaf1",
   "metadata": {},
   "outputs": [
    {
     "name": "stdout",
     "output_type": "stream",
     "text": [
      "[['TN' 'FP']\n",
      " ['FN' 'TP']]\n"
     ]
    }
   ],
   "source": [
    "print(np.asarray([['TN', 'FP'], ['FN', 'TP']]))"
   ]
  },
  {
   "cell_type": "code",
   "execution_count": 118,
   "id": "3fdb9536",
   "metadata": {},
   "outputs": [],
   "source": [
    "# ANSWER\n",
    "def plot_roc_curve(X_test, y_test):\n",
    "    # Generate the prediction values for each of the test observations using predict_proba() \n",
    "    #function rather than just predict\n",
    "    preds = logreg.predict_proba(X_test)[:,1]\n",
    "\n",
    "    # Store the false positive rate(fpr), true positive rate (tpr) in vectors for use in the graph\n",
    "    fpr, tpr, _ = metrics.roc_curve(y_test, preds)\n",
    "\n",
    "    # Store the Area Under the Curve (AUC) so we can annotate our graph with theis metric\n",
    "    roc_auc = metrics.auc(fpr, tpr)\n",
    "\n",
    "    # Plot the ROC Curve\n",
    "    plt.figure()\n",
    "    lw = 2\n",
    "    plt.plot(fpr, tpr, color='darkorange', lw = lw, label = 'ROC curve (area = %0.2f)' % roc_auc)\n",
    "    plt.plot([0, 1], [0, 1], color = 'navy', lw = lw, linestyle = '--')\n",
    "    plt.xlim([0.0, 1.0])\n",
    "    plt.ylim([0.0, 1.0])\n",
    "    plt.xlabel('False Positive Rate')\n",
    "    plt.ylabel('True Positive Rate')\n",
    "    plt.title('Receiver operating characteristic example')\n",
    "    plt.legend(loc = \"lower right\")\n",
    "    plt.show()"
   ]
  },
  {
   "cell_type": "code",
   "execution_count": 119,
   "id": "901c25f5",
   "metadata": {},
   "outputs": [
    {
     "data": {
      "image/png": "[encoded data removed]",
      "text/plain": [
       "<Figure size 432x288 with 1 Axes>"
      ]
     },
     "metadata": {
      "needs_background": "light"
     },
     "output_type": "display_data"
    }
   ],
   "source": [
    "plot_roc_curve(X_test, y_test)"
   ]
  },
  {
   "cell_type": "code",
   "execution_count": 120,
   "id": "55b3e8fd",
   "metadata": {},
   "outputs": [
    {
     "data": {
      "text/plain": [
       "0.628004622701361"
      ]
     },
     "execution_count": 120,
     "metadata": {},
     "output_type": "execute_result"
    }
   ],
   "source": [
    "from sklearn.model_selection import cross_val_score\n",
    "target_col = 'Delay'\n",
    "feature_cols = tested_feature_list\n",
    "logreg = LogisticRegression()\n",
    "scores = cross_val_score(logreg, df[feature_cols], df[target_col], cv=5)\n",
    "scores.mean()"
   ]
  },
  {
   "cell_type": "code",
   "execution_count": 121,
   "id": "f2821971-efe6-4959-8e43-df341e847722",
   "metadata": {},
   "outputs": [],
   "source": [
    "def score_heatmap_cl(X_test, y_pred):\n",
    "    y_pred = model.predict(X_test)\n",
    "    ac = accuracy_score(y_test, y_pred)\n",
    "    print('Accuracy:', ac)\n",
    "    cm = confusion_matrix(y_test,y_pred)\n",
    "    sns.heatmap(cm, annot=True, fmt='d');\n",
    "    print(classification_report(y_test,y_pred))"
   ]
  },
  {
   "cell_type": "code",
   "execution_count": 122,
   "id": "ea4cc2da-88d3-40bf-9dbe-d18a73f73526",
   "metadata": {},
   "outputs": [
    {
     "name": "stdout",
     "output_type": "stream",
     "text": [
      "Accuracy: 0.6274831521084198\n",
      "              precision    recall  f1-score   support\n",
      "\n",
      "           0       0.64      0.77      0.69     59759\n",
      "           1       0.61      0.46      0.52     48118\n",
      "\n",
      "    accuracy                           0.63    107877\n",
      "   macro avg       0.62      0.61      0.61    107877\n",
      "weighted avg       0.62      0.63      0.62    107877\n",
      "\n"
     ]
    },
    {
     "data": {
      "image/png": "[encoded data removed]",
      "text/plain": [
       "<Figure size 432x288 with 2 Axes>"
      ]
     },
     "metadata": {
      "needs_background": "light"
     },
     "output_type": "display_data"
    }
   ],
   "source": [
    "score_heatmap_cl(X_test, y_pred_class)"
   ]
  },
  {
   "cell_type": "markdown",
   "id": "fea2f2d1",
   "metadata": {},
   "source": [
    "## Support Vector Machine"
   ]
  },
  {
   "cell_type": "code",
   "execution_count": 123,
   "id": "08daa839",
   "metadata": {},
   "outputs": [],
   "source": [
    "from sklearn import svm\n",
    "from sklearn.datasets import make_blobs"
   ]
  },
  {
   "cell_type": "markdown",
   "id": "ed27dbef-2cff-4752-8f57-e94cbda7d183",
   "metadata": {},
   "source": [
    "# Naive Bayes"
   ]
  },
  {
   "cell_type": "code",
   "execution_count": 124,
   "id": "e7e9347c-7405-41ba-8313-888491a60b1d",
   "metadata": {},
   "outputs": [],
   "source": [
    "from sklearn.naive_bayes import GaussianNB\n",
    "from sklearn.metrics import accuracy_score, confusion_matrix\n",
    "from sklearn.metrics import classification_report"
   ]
  },
  {
   "cell_type": "code",
   "execution_count": 125,
   "id": "c40132b7-0776-4768-b441-97b8d66e0a74",
   "metadata": {},
   "outputs": [
    {
     "data": {
      "text/plain": [
       "0.6305242569048866"
      ]
     },
     "execution_count": 125,
     "metadata": {},
     "output_type": "execute_result"
    }
   ],
   "source": [
    "Nb_model = GaussianNB()\n",
    "Nb_model.fit(X_train, y_train)\n",
    "Nb_model.score(X_train,y_train)"
   ]
  },
  {
   "cell_type": "code",
   "execution_count": 126,
   "id": "60807aee-1f80-42d6-8cc4-349f675c7449",
   "metadata": {},
   "outputs": [
    {
     "data": {
      "text/plain": [
       "0.6306719690017335"
      ]
     },
     "execution_count": 126,
     "metadata": {},
     "output_type": "execute_result"
    }
   ],
   "source": [
    "Nb_model.score(X_test,y_test)"
   ]
  },
  {
   "cell_type": "code",
   "execution_count": 127,
   "id": "efa28bc4-53b6-4f0e-a1b2-bbcb6742acfe",
   "metadata": {},
   "outputs": [
    {
     "name": "stdout",
     "output_type": "stream",
     "text": [
      "[[45579 14180]\n",
      " [25662 22456]]\n"
     ]
    }
   ],
   "source": [
    "y_pred_Nb = Nb_model.predict(X_test)\n",
    "print(metrics.confusion_matrix(y_test, y_pred_Nb))"
   ]
  },
  {
   "cell_type": "code",
   "execution_count": 128,
   "id": "d95ba624-58fe-4442-86ae-d76bab24b619",
   "metadata": {},
   "outputs": [
    {
     "name": "stdout",
     "output_type": "stream",
     "text": [
      "[['TN' 'FP']\n",
      " ['FN' 'TP']]\n"
     ]
    }
   ],
   "source": [
    "print(np.asarray([['TN', 'FP'], ['FN', 'TP']]))"
   ]
  },
  {
   "cell_type": "code",
   "execution_count": 144,
   "id": "3c1e5b2b-efa8-4703-b828-56df390776c2",
   "metadata": {},
   "outputs": [],
   "source": [
    "def plot_roc_curve_nb_model(X_test, y_test):\n",
    "    # Generate the prediction values for each of the test observations using predict_proba() \n",
    "    #function rather than just predict\n",
    "    preds = Nb_model.predict_proba(X_test)[:,1]\n",
    "\n",
    "    # Store the false positive rate(fpr), true positive rate (tpr) in vectors for use in the graph\n",
    "    fpr, tpr, _ = metrics.roc_curve(y_test, preds)\n",
    "\n",
    "    # Store the Area Under the Curve (AUC) so we can annotate our graph with theis metric\n",
    "    roc_auc = metrics.auc(fpr, tpr)\n",
    "\n",
    "    # Plot the ROC Curve\n",
    "    plt.figure()\n",
    "    lw = 2\n",
    "    plt.plot(fpr, tpr, color='darkorange', lw = lw, label = 'ROC curve (area = %0.2f)' % roc_auc)\n",
    "    plt.plot([0, 1], [0, 1], color = 'navy', lw = lw, linestyle = '--')\n",
    "    plt.xlim([0.0, 1.0])\n",
    "    plt.ylim([0.0, 1.0])\n",
    "    plt.xlabel('False Positive Rate')\n",
    "    plt.ylabel('True Positive Rate')\n",
    "    plt.title('Receiver operating characteristic example-Naive Bayes model')\n",
    "    plt.legend(loc = \"lower right\")\n",
    "    plt.show()"
   ]
  },
  {
   "cell_type": "code",
   "execution_count": 145,
   "id": "63f43606-926d-489f-8410-550c254c84a8",
   "metadata": {},
   "outputs": [
    {
     "data": {
      "image/png": "[encoded data removed]",
      "text/plain": [
       "<Figure size 432x288 with 1 Axes>"
      ]
     },
     "metadata": {
      "needs_background": "light"
     },
     "output_type": "display_data"
    }
   ],
   "source": [
    "plot_roc_curve_nb_model(X_test, y_test)"
   ]
  },
  {
   "cell_type": "code",
   "execution_count": 131,
   "id": "956eaf96-ffdd-4a32-a741-3c792a978e86",
   "metadata": {},
   "outputs": [],
   "source": [
    "def score_heatmap_nb(X_test, y_pred):\n",
    "    y_pred = Nb_model.predict(X_test)\n",
    "    ac = accuracy_score(y_test, y_pred)\n",
    "    print('Accuracy:', ac)\n",
    "    cm = confusion_matrix(y_test,y_pred)\n",
    "    sns.heatmap(cm, annot=True, fmt='d');\n",
    "    print(classification_report(y_test,y_pred))"
   ]
  },
  {
   "cell_type": "code",
   "execution_count": 133,
   "id": "06e00e60-3331-4b4e-91bd-2d8e0f1f1e97",
   "metadata": {},
   "outputs": [
    {
     "data": {
      "text/plain": [
       "0.6303499012060941"
      ]
     },
     "execution_count": 133,
     "metadata": {},
     "output_type": "execute_result"
    }
   ],
   "source": [
    "scores_nb = cross_val_score(Nb_model, df[feature_cols], df[target_col], cv=5)\n",
    "scores_nb.mean()"
   ]
  },
  {
   "cell_type": "code",
   "execution_count": 132,
   "id": "2cb472e0-c018-4122-bc99-00921eb20cd2",
   "metadata": {},
   "outputs": [
    {
     "name": "stdout",
     "output_type": "stream",
     "text": [
      "Accuracy: 0.6306719690017335\n",
      "              precision    recall  f1-score   support\n",
      "\n",
      "           0       0.64      0.76      0.70     59759\n",
      "           1       0.61      0.47      0.53     48118\n",
      "\n",
      "    accuracy                           0.63    107877\n",
      "   macro avg       0.63      0.61      0.61    107877\n",
      "weighted avg       0.63      0.63      0.62    107877\n",
      "\n"
     ]
    },
    {
     "data": {
      "image/png": "[encoded data removed]",
      "text/plain": [
       "<Figure size 432x288 with 2 Axes>"
      ]
     },
     "metadata": {
      "needs_background": "light"
     },
     "output_type": "display_data"
    }
   ],
   "source": [
    "score_heatmap_nb(X_test, y_pred_Nb )"
   ]
  },
  {
   "cell_type": "code",
   "execution_count": null,
   "id": "221136ec-fe73-4eee-b10d-40b4e343a850",
   "metadata": {},
   "outputs": [],
   "source": [
    "# true positve is higher than the logistic classification"
   ]
  },
  {
   "cell_type": "markdown",
   "id": "7b42f192-67e0-4b88-9d3a-dd84541de391",
   "metadata": {},
   "source": [
    "# Perceptron/Neural network"
   ]
  },
  {
   "cell_type": "code",
   "execution_count": 135,
   "id": "0cdec557-f9c5-45e9-8c8f-b8d3ad7ee45e",
   "metadata": {},
   "outputs": [],
   "source": [
    "from sklearn.linear_model import Perceptron"
   ]
  },
  {
   "cell_type": "code",
   "execution_count": 136,
   "id": "f2b48be2-7144-47b4-a563-7ea2924ff06c",
   "metadata": {},
   "outputs": [
    {
     "data": {
      "text/plain": [
       "0.5392555375823279"
      ]
     },
     "execution_count": 136,
     "metadata": {},
     "output_type": "execute_result"
    }
   ],
   "source": [
    "pcptn_model  = Perceptron()\n",
    "pcptn_model.fit(X_train, y_train)\n",
    "pcptn_model.score(X_train,y_train)"
   ]
  },
  {
   "cell_type": "code",
   "execution_count": 138,
   "id": "fe72bd29-fe40-4c45-8fec-6f0cc0ff96c1",
   "metadata": {},
   "outputs": [
    {
     "name": "stdout",
     "output_type": "stream",
     "text": [
      "[[16443 43316]\n",
      " [ 6275 41843]]\n"
     ]
    }
   ],
   "source": [
    "y_pred_pcptn = pcptn_model.predict(X_test)\n",
    "print(metrics.confusion_matrix(y_test, y_pred_pcptn))"
   ]
  },
  {
   "cell_type": "code",
   "execution_count": 139,
   "id": "5d5d0b11-168c-429f-a826-75bd0306eaaa",
   "metadata": {},
   "outputs": [
    {
     "name": "stdout",
     "output_type": "stream",
     "text": [
      "[['TN' 'FP']\n",
      " ['FN' 'TP']]\n"
     ]
    }
   ],
   "source": [
    "print(np.asarray([['TN', 'FP'], ['FN', 'TP']]))"
   ]
  },
  {
   "cell_type": "code",
   "execution_count": 152,
   "id": "2afdbc17-ac5c-4220-8fe2-748340b8bcc0",
   "metadata": {},
   "outputs": [],
   "source": [
    "def plot_roc_curve_pcptn_model(X_test, y_test):\n",
    "    # Generate the prediction values for each of the test observations using predict_proba() \n",
    "    #function rather than just predict\n",
    "    preds = Perceptron.predict_proba(X_test)[:,1]\n",
    "\n",
    "    # Store the false positive rate(fpr), true positive rate (tpr) in vectors for use in the graph\n",
    "    fpr, tpr, _ = metrics.roc_curve(y_test, preds)\n",
    "\n",
    "    # Store the Area Under the Curve (AUC) so we can annotate our graph with theis metric\n",
    "    roc_auc = metrics.auc(fpr, tpr)\n",
    "\n",
    "    # Plot the ROC Curve\n",
    "    plt.figure()\n",
    "    lw = 2\n",
    "    plt.plot(fpr, tpr, color='darkorange', lw = lw, label = 'ROC curve (area = %0.2f)' % roc_auc)\n",
    "    plt.plot([0, 1], [0, 1], color = 'navy', lw = lw, linestyle = '--')\n",
    "    plt.xlim([0.0, 1.0])\n",
    "    plt.ylim([0.0, 1.0])\n",
    "    plt.xlabel('False Positive Rate')\n",
    "    plt.ylabel('True Positive Rate')\n",
    "    plt.title('Naive Bayes model')\n",
    "    plt.legend(loc = \"lower right\")\n",
    "    plt.show()\n",
    "# perceptron doesn't have a method of predict_proba"
   ]
  },
  {
   "cell_type": "code",
   "execution_count": 150,
   "id": "12ece82f-51f5-4e1a-8b00-7698c5e45d04",
   "metadata": {},
   "outputs": [],
   "source": [
    "def score_heatmap_pcptn(X_test, y_pred):\n",
    "    y_pred = pcptn_model.predict(X_test)\n",
    "    ac = accuracy_score(y_test, y_pred)\n",
    "    print('Accuracy:', ac)\n",
    "    cm = confusion_matrix(y_test,y_pred)\n",
    "    sns.heatmap(cm, annot=True, fmt='d');\n",
    "    print(classification_report(y_test,y_pred))"
   ]
  },
  {
   "cell_type": "code",
   "execution_count": 151,
   "id": "81602c4a-ee8d-4443-bc27-2fdfeef48f78",
   "metadata": {},
   "outputs": [
    {
     "name": "stdout",
     "output_type": "stream",
     "text": [
      "Accuracy: 0.5403005274525617\n",
      "              precision    recall  f1-score   support\n",
      "\n",
      "           0       0.72      0.28      0.40     59759\n",
      "           1       0.49      0.87      0.63     48118\n",
      "\n",
      "    accuracy                           0.54    107877\n",
      "   macro avg       0.61      0.57      0.51    107877\n",
      "weighted avg       0.62      0.54      0.50    107877\n",
      "\n"
     ]
    },
    {
     "data": {
      "image/png": "[encoded data removed]",
      "text/plain": [
       "<Figure size 432x288 with 2 Axes>"
      ]
     },
     "metadata": {
      "needs_background": "light"
     },
     "output_type": "display_data"
    }
   ],
   "source": [
    "score_heatmap_pcptn(X_test, y_pred_pcptn )"
   ]
  },
  {
   "cell_type": "code",
   "execution_count": null,
   "id": "f90cb5e3-8776-4301-95fd-cd1f6942c94f",
   "metadata": {},
   "outputs": [],
   "source": []
  }
 ],
 "metadata": {
  "kernelspec": {
   "display_name": "Python 3 (ipykernel)",
   "language": "python",
   "name": "python3"
  },
  "language_info": {
   "codemirror_mode": {
    "name": "ipython",
    "version": 3
   },
   "file_extension": ".py",
   "mimetype": "text/x-python",
   "name": "python",
   "nbconvert_exporter": "python",
   "pygments_lexer": "ipython3",
   "version": "3.8.13"
  }
 },
 "nbformat": 4,
 "nbformat_minor": 5
}
