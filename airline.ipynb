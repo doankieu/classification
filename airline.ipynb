{
 "cells": [
  {
   "cell_type": "markdown",
   "id": "f3551adc-95dd-44a7-8029-44fbdd21a99f",
   "metadata": {
    "tags": []
   },
   "source": [
    "# <span style=\"color:red\"> Business Goal: Improving Customer Experience</span>\n",
    "# Q : How to prevent aircraft delay?\n",
    "# <span style=\"color:blue\"> Models : Predicting aircraft delay.</span>\n",
    "Team member: Doan Kieu, Clivia Kong, Nina Huang"
   ]
  },
  {
   "cell_type": "code",
   "execution_count": 1,
   "id": "3dfde81f",
   "metadata": {
    "tags": []
   },
   "outputs": [],
   "source": [
    "import pandas as pd\n",
    "import seaborn as sns\n",
    "import numpy as np"
   ]
  },
  {
   "cell_type": "code",
   "execution_count": 2,
   "id": "6ff98499",
   "metadata": {},
   "outputs": [],
   "source": [
    "df = pd.read_csv(\"Airlines.csv\")"
   ]
  },
  {
   "cell_type": "code",
   "execution_count": 3,
   "id": "6b445962",
   "metadata": {},
   "outputs": [
    {
     "data": {
      "text/html": [
       "<div>\n",
       "<style scoped>\n",
       "    .dataframe tbody tr th:only-of-type {\n",
       "        vertical-align: middle;\n",
       "    }\n",
       "\n",
       "    .dataframe tbody tr th {\n",
       "        vertical-align: top;\n",
       "    }\n",
       "\n",
       "    .dataframe thead th {\n",
       "        text-align: right;\n",
       "    }\n",
       "</style>\n",
       "<table border=\"1\" class=\"dataframe\">\n",
       "  <thead>\n",
       "    <tr style=\"text-align: right;\">\n",
       "      <th></th>\n",
       "      <th>id</th>\n",
       "      <th>Airline</th>\n",
       "      <th>Flight</th>\n",
       "      <th>AirportFrom</th>\n",
       "      <th>AirportTo</th>\n",
       "      <th>DayOfWeek</th>\n",
       "      <th>Time</th>\n",
       "      <th>Length</th>\n",
       "      <th>Delay</th>\n",
       "    </tr>\n",
       "  </thead>\n",
       "  <tbody>\n",
       "    <tr>\n",
       "      <th>0</th>\n",
       "      <td>1</td>\n",
       "      <td>CO</td>\n",
       "      <td>269</td>\n",
       "      <td>SFO</td>\n",
       "      <td>IAH</td>\n",
       "      <td>3</td>\n",
       "      <td>15</td>\n",
       "      <td>205</td>\n",
       "      <td>1</td>\n",
       "    </tr>\n",
       "    <tr>\n",
       "      <th>1</th>\n",
       "      <td>2</td>\n",
       "      <td>US</td>\n",
       "      <td>1558</td>\n",
       "      <td>PHX</td>\n",
       "      <td>CLT</td>\n",
       "      <td>3</td>\n",
       "      <td>15</td>\n",
       "      <td>222</td>\n",
       "      <td>1</td>\n",
       "    </tr>\n",
       "    <tr>\n",
       "      <th>2</th>\n",
       "      <td>3</td>\n",
       "      <td>AA</td>\n",
       "      <td>2400</td>\n",
       "      <td>LAX</td>\n",
       "      <td>DFW</td>\n",
       "      <td>3</td>\n",
       "      <td>20</td>\n",
       "      <td>165</td>\n",
       "      <td>1</td>\n",
       "    </tr>\n",
       "    <tr>\n",
       "      <th>3</th>\n",
       "      <td>4</td>\n",
       "      <td>AA</td>\n",
       "      <td>2466</td>\n",
       "      <td>SFO</td>\n",
       "      <td>DFW</td>\n",
       "      <td>3</td>\n",
       "      <td>20</td>\n",
       "      <td>195</td>\n",
       "      <td>1</td>\n",
       "    </tr>\n",
       "    <tr>\n",
       "      <th>4</th>\n",
       "      <td>5</td>\n",
       "      <td>AS</td>\n",
       "      <td>108</td>\n",
       "      <td>ANC</td>\n",
       "      <td>SEA</td>\n",
       "      <td>3</td>\n",
       "      <td>30</td>\n",
       "      <td>202</td>\n",
       "      <td>0</td>\n",
       "    </tr>\n",
       "  </tbody>\n",
       "</table>\n",
       "</div>"
      ],
      "text/plain": [
       "   id Airline  Flight AirportFrom AirportTo  DayOfWeek  Time  Length  Delay\n",
       "0   1      CO     269         SFO       IAH          3    15     205      1\n",
       "1   2      US    1558         PHX       CLT          3    15     222      1\n",
       "2   3      AA    2400         LAX       DFW          3    20     165      1\n",
       "3   4      AA    2466         SFO       DFW          3    20     195      1\n",
       "4   5      AS     108         ANC       SEA          3    30     202      0"
      ]
     },
     "execution_count": 3,
     "metadata": {},
     "output_type": "execute_result"
    }
   ],
   "source": [
    "df.head()"
   ]
  },
  {
   "cell_type": "markdown",
   "id": "3edb440f-8fcf-42b0-87d9-5a8d4654c398",
   "metadata": {
    "jp-MarkdownHeadingCollapsed": true,
    "tags": []
   },
   "source": [
    "# Exploratory Data Analysis (EDA)"
   ]
  },
  {
   "cell_type": "code",
   "execution_count": 4,
   "id": "ea02a72a",
   "metadata": {
    "tags": []
   },
   "outputs": [
    {
     "data": {
      "text/plain": [
       "id             0\n",
       "Airline        0\n",
       "Flight         0\n",
       "AirportFrom    0\n",
       "AirportTo      0\n",
       "DayOfWeek      0\n",
       "Time           0\n",
       "Length         0\n",
       "Delay          0\n",
       "dtype: int64"
      ]
     },
     "execution_count": 4,
     "metadata": {},
     "output_type": "execute_result"
    }
   ],
   "source": [
    "df.isna().sum()"
   ]
  },
  {
   "cell_type": "code",
   "execution_count": 5,
   "id": "8e145b5d",
   "metadata": {
    "tags": []
   },
   "outputs": [
    {
     "data": {
      "text/plain": [
       "array(['CO', 'US', 'AA', 'AS', 'DL', 'B6', 'HA', 'OO', '9E', 'OH', 'EV',\n",
       "       'XE', 'YV', 'UA', 'MQ', 'FL', 'F9', 'WN'], dtype=object)"
      ]
     },
     "execution_count": 5,
     "metadata": {},
     "output_type": "execute_result"
    }
   ],
   "source": [
    "df.Airline.unique()"
   ]
  },
  {
   "cell_type": "code",
   "execution_count": 6,
   "id": "e19b01ed",
   "metadata": {},
   "outputs": [
    {
     "data": {
      "text/plain": [
       "293"
      ]
     },
     "execution_count": 6,
     "metadata": {},
     "output_type": "execute_result"
    }
   ],
   "source": [
    "df.AirportFrom.nunique()"
   ]
  },
  {
   "cell_type": "code",
   "execution_count": 7,
   "id": "3267d386",
   "metadata": {},
   "outputs": [
    {
     "data": {
      "text/plain": [
       "293"
      ]
     },
     "execution_count": 7,
     "metadata": {},
     "output_type": "execute_result"
    }
   ],
   "source": [
    "df.AirportTo.nunique()"
   ]
  },
  {
   "cell_type": "code",
   "execution_count": 8,
   "id": "12937f44",
   "metadata": {},
   "outputs": [
    {
     "data": {
      "text/html": [
       "<div>\n",
       "<style scoped>\n",
       "    .dataframe tbody tr th:only-of-type {\n",
       "        vertical-align: middle;\n",
       "    }\n",
       "\n",
       "    .dataframe tbody tr th {\n",
       "        vertical-align: top;\n",
       "    }\n",
       "\n",
       "    .dataframe thead th {\n",
       "        text-align: right;\n",
       "    }\n",
       "</style>\n",
       "<table border=\"1\" class=\"dataframe\">\n",
       "  <thead>\n",
       "    <tr style=\"text-align: right;\">\n",
       "      <th></th>\n",
       "      <th>id</th>\n",
       "      <th>Flight</th>\n",
       "      <th>DayOfWeek</th>\n",
       "      <th>Time</th>\n",
       "      <th>Length</th>\n",
       "      <th>Delay</th>\n",
       "    </tr>\n",
       "  </thead>\n",
       "  <tbody>\n",
       "    <tr>\n",
       "      <th>count</th>\n",
       "      <td>539383.00000</td>\n",
       "      <td>539383.000000</td>\n",
       "      <td>539383.000000</td>\n",
       "      <td>539383.000000</td>\n",
       "      <td>539383.000000</td>\n",
       "      <td>539383.000000</td>\n",
       "    </tr>\n",
       "    <tr>\n",
       "      <th>mean</th>\n",
       "      <td>269692.00000</td>\n",
       "      <td>2427.928630</td>\n",
       "      <td>3.929668</td>\n",
       "      <td>802.728963</td>\n",
       "      <td>132.202007</td>\n",
       "      <td>0.445442</td>\n",
       "    </tr>\n",
       "    <tr>\n",
       "      <th>std</th>\n",
       "      <td>155706.60446</td>\n",
       "      <td>2067.429837</td>\n",
       "      <td>1.914664</td>\n",
       "      <td>278.045911</td>\n",
       "      <td>70.117016</td>\n",
       "      <td>0.497015</td>\n",
       "    </tr>\n",
       "    <tr>\n",
       "      <th>min</th>\n",
       "      <td>1.00000</td>\n",
       "      <td>1.000000</td>\n",
       "      <td>1.000000</td>\n",
       "      <td>10.000000</td>\n",
       "      <td>0.000000</td>\n",
       "      <td>0.000000</td>\n",
       "    </tr>\n",
       "    <tr>\n",
       "      <th>25%</th>\n",
       "      <td>134846.50000</td>\n",
       "      <td>712.000000</td>\n",
       "      <td>2.000000</td>\n",
       "      <td>565.000000</td>\n",
       "      <td>81.000000</td>\n",
       "      <td>0.000000</td>\n",
       "    </tr>\n",
       "    <tr>\n",
       "      <th>50%</th>\n",
       "      <td>269692.00000</td>\n",
       "      <td>1809.000000</td>\n",
       "      <td>4.000000</td>\n",
       "      <td>795.000000</td>\n",
       "      <td>115.000000</td>\n",
       "      <td>0.000000</td>\n",
       "    </tr>\n",
       "    <tr>\n",
       "      <th>75%</th>\n",
       "      <td>404537.50000</td>\n",
       "      <td>3745.000000</td>\n",
       "      <td>5.000000</td>\n",
       "      <td>1035.000000</td>\n",
       "      <td>162.000000</td>\n",
       "      <td>1.000000</td>\n",
       "    </tr>\n",
       "    <tr>\n",
       "      <th>max</th>\n",
       "      <td>539383.00000</td>\n",
       "      <td>7814.000000</td>\n",
       "      <td>7.000000</td>\n",
       "      <td>1439.000000</td>\n",
       "      <td>655.000000</td>\n",
       "      <td>1.000000</td>\n",
       "    </tr>\n",
       "  </tbody>\n",
       "</table>\n",
       "</div>"
      ],
      "text/plain": [
       "                 id         Flight      DayOfWeek           Time  \\\n",
       "count  539383.00000  539383.000000  539383.000000  539383.000000   \n",
       "mean   269692.00000    2427.928630       3.929668     802.728963   \n",
       "std    155706.60446    2067.429837       1.914664     278.045911   \n",
       "min         1.00000       1.000000       1.000000      10.000000   \n",
       "25%    134846.50000     712.000000       2.000000     565.000000   \n",
       "50%    269692.00000    1809.000000       4.000000     795.000000   \n",
       "75%    404537.50000    3745.000000       5.000000    1035.000000   \n",
       "max    539383.00000    7814.000000       7.000000    1439.000000   \n",
       "\n",
       "              Length          Delay  \n",
       "count  539383.000000  539383.000000  \n",
       "mean      132.202007       0.445442  \n",
       "std        70.117016       0.497015  \n",
       "min         0.000000       0.000000  \n",
       "25%        81.000000       0.000000  \n",
       "50%       115.000000       0.000000  \n",
       "75%       162.000000       1.000000  \n",
       "max       655.000000       1.000000  "
      ]
     },
     "execution_count": 8,
     "metadata": {},
     "output_type": "execute_result"
    }
   ],
   "source": [
    "df.describe()"
   ]
  },
  {
   "cell_type": "code",
   "execution_count": 9,
   "id": "b2ed8d4b",
   "metadata": {
    "scrolled": true
   },
   "outputs": [
    {
     "data": {
      "text/html": [
       "<div>\n",
       "<style scoped>\n",
       "    .dataframe tbody tr th:only-of-type {\n",
       "        vertical-align: middle;\n",
       "    }\n",
       "\n",
       "    .dataframe tbody tr th {\n",
       "        vertical-align: top;\n",
       "    }\n",
       "\n",
       "    .dataframe thead th {\n",
       "        text-align: right;\n",
       "    }\n",
       "</style>\n",
       "<table border=\"1\" class=\"dataframe\">\n",
       "  <thead>\n",
       "    <tr style=\"text-align: right;\">\n",
       "      <th></th>\n",
       "      <th>id</th>\n",
       "      <th>Flight</th>\n",
       "      <th>DayOfWeek</th>\n",
       "      <th>Time</th>\n",
       "      <th>Length</th>\n",
       "      <th>Delay</th>\n",
       "    </tr>\n",
       "  </thead>\n",
       "  <tbody>\n",
       "    <tr>\n",
       "      <th>id</th>\n",
       "      <td>1.000000</td>\n",
       "      <td>-0.006156</td>\n",
       "      <td>-0.055474</td>\n",
       "      <td>0.029156</td>\n",
       "      <td>0.020781</td>\n",
       "      <td>0.139762</td>\n",
       "    </tr>\n",
       "    <tr>\n",
       "      <th>Flight</th>\n",
       "      <td>-0.006156</td>\n",
       "      <td>1.000000</td>\n",
       "      <td>0.000416</td>\n",
       "      <td>-0.005750</td>\n",
       "      <td>-0.341481</td>\n",
       "      <td>-0.046175</td>\n",
       "    </tr>\n",
       "    <tr>\n",
       "      <th>DayOfWeek</th>\n",
       "      <td>-0.055474</td>\n",
       "      <td>0.000416</td>\n",
       "      <td>1.000000</td>\n",
       "      <td>0.001273</td>\n",
       "      <td>0.013397</td>\n",
       "      <td>-0.026199</td>\n",
       "    </tr>\n",
       "    <tr>\n",
       "      <th>Time</th>\n",
       "      <td>0.029156</td>\n",
       "      <td>-0.005750</td>\n",
       "      <td>0.001273</td>\n",
       "      <td>1.000000</td>\n",
       "      <td>-0.020612</td>\n",
       "      <td>0.150454</td>\n",
       "    </tr>\n",
       "    <tr>\n",
       "      <th>Length</th>\n",
       "      <td>0.020781</td>\n",
       "      <td>-0.341481</td>\n",
       "      <td>0.013397</td>\n",
       "      <td>-0.020612</td>\n",
       "      <td>1.000000</td>\n",
       "      <td>0.040489</td>\n",
       "    </tr>\n",
       "    <tr>\n",
       "      <th>Delay</th>\n",
       "      <td>0.139762</td>\n",
       "      <td>-0.046175</td>\n",
       "      <td>-0.026199</td>\n",
       "      <td>0.150454</td>\n",
       "      <td>0.040489</td>\n",
       "      <td>1.000000</td>\n",
       "    </tr>\n",
       "  </tbody>\n",
       "</table>\n",
       "</div>"
      ],
      "text/plain": [
       "                 id    Flight  DayOfWeek      Time    Length     Delay\n",
       "id         1.000000 -0.006156  -0.055474  0.029156  0.020781  0.139762\n",
       "Flight    -0.006156  1.000000   0.000416 -0.005750 -0.341481 -0.046175\n",
       "DayOfWeek -0.055474  0.000416   1.000000  0.001273  0.013397 -0.026199\n",
       "Time       0.029156 -0.005750   0.001273  1.000000 -0.020612  0.150454\n",
       "Length     0.020781 -0.341481   0.013397 -0.020612  1.000000  0.040489\n",
       "Delay      0.139762 -0.046175  -0.026199  0.150454  0.040489  1.000000"
      ]
     },
     "execution_count": 9,
     "metadata": {},
     "output_type": "execute_result"
    }
   ],
   "source": [
    "df.corr()"
   ]
  },
  {
   "cell_type": "markdown",
   "id": "30eeb031",
   "metadata": {
    "tags": []
   },
   "source": [
    "## <h1 style=\"color:green\"> DAY OF THE WEEK</h1>"
   ]
  },
  {
   "cell_type": "code",
   "execution_count": 10,
   "id": "dd9b767f",
   "metadata": {},
   "outputs": [
    {
     "data": {
      "text/plain": [
       "<AxesSubplot:xlabel='DayOfWeek'>"
      ]
     },
     "execution_count": 10,
     "metadata": {},
     "output_type": "execute_result"
    },
    {
     "data": {
      "image/png": "[encoded data removed]",
      "text/plain": [
       "<Figure size 432x288 with 1 Axes>"
      ]
     },
     "metadata": {
      "needs_background": "light"
     },
     "output_type": "display_data"
    }
   ],
   "source": [
    "df.groupby(by = [\"DayOfWeek\",\"Delay\"]).agg({\"Delay\":\"count\"}).unstack().plot.bar()"
   ]
  },
  {
   "cell_type": "markdown",
   "id": "b6c12466",
   "metadata": {},
   "source": [
    " <span style=\"color:blue\"> Friday and saturday has less delay than the rest of the week. but the difference is not significant.</span> <span style=\"color:red\">(Can probably perform a hypothesis test here) </span> "
   ]
  },
  {
   "cell_type": "markdown",
   "id": "1e79dffc",
   "metadata": {
    "tags": []
   },
   "source": [
    "## <h1 style=\"color:green\"> AIRLINE</h1>"
   ]
  },
  {
   "cell_type": "code",
   "execution_count": 11,
   "id": "28946781",
   "metadata": {},
   "outputs": [
    {
     "data": {
      "text/plain": [
       "<AxesSubplot:xlabel='Airline'>"
      ]
     },
     "execution_count": 11,
     "metadata": {},
     "output_type": "execute_result"
    },
    {
     "data": {
      "image/png": "[encoded data removed]",
      "text/plain": [
       "<Figure size 432x288 with 1 Axes>"
      ]
     },
     "metadata": {
      "needs_background": "light"
     },
     "output_type": "display_data"
    }
   ],
   "source": [
    "df.groupby(by = [\"Airline\",\"Delay\"]).agg({\"Delay\":\"count\"}).unstack().plot.bar()"
   ]
  },
  {
   "cell_type": "markdown",
   "id": "1a95a727",
   "metadata": {},
   "source": [
    "### F9, CO, WN, DL, B6, OO have high delay rate"
   ]
  },
  {
   "cell_type": "code",
   "execution_count": 12,
   "id": "de979b58",
   "metadata": {},
   "outputs": [
    {
     "data": {
      "text/plain": [
       "count    18.000000\n",
       "mean      0.731688\n",
       "std       0.456504\n",
       "min       0.320855\n",
       "25%       0.485805\n",
       "50%       0.622702\n",
       "75%       0.818570\n",
       "max       2.308615\n",
       "Name: delay_rate, dtype: float64"
      ]
     },
     "execution_count": 12,
     "metadata": {},
     "output_type": "execute_result"
    }
   ],
   "source": [
    "df_by_airline_delayrate = df.groupby(by = [\"Airline\", \"Delay\"]).agg({\"Delay\":\"count\"}).unstack()\n",
    "df_by_airline_delayrate[\"delay_rate\"]= np.divide(df_by_airline_delayrate.iloc[:,1],\n",
    "                                                     df_by_airline_delayrate.iloc[:,0])\n",
    "df_by_airline_delayrate.delay_rate.describe()"
   ]
  },
  {
   "cell_type": "markdown",
   "id": "d0386c3b",
   "metadata": {
    "tags": []
   },
   "source": [
    "## <h1 style=\"color:green\"> AIRPORT</h1>"
   ]
  },
  {
   "cell_type": "code",
   "execution_count": 13,
   "id": "f3536770",
   "metadata": {},
   "outputs": [],
   "source": [
    "df_by_airportfrom_delayrate = df.groupby(by = [\"AirportFrom\", \"Delay\"]).agg({\"Delay\":\"count\"}).unstack()\n",
    "df_by_airportfrom_delayrate[\"delay_rate\"]= np.divide(df_by_airportfrom_delayrate.iloc[:,1],\n",
    "                                                     df_by_airportfrom_delayrate.iloc[:,0])"
   ]
  },
  {
   "cell_type": "code",
   "execution_count": 14,
   "id": "8f4e717a",
   "metadata": {},
   "outputs": [],
   "source": [
    "df_by_airportto_delayrate = df.groupby(by = [\"AirportTo\", \"Delay\"]).agg({\"Delay\":\"count\"}).unstack()\n",
    "df_by_airportto_delayrate[\"delay_rate\"]= np.divide(df_by_airportto_delayrate.iloc[:,1],\n",
    "                                                     df_by_airportto_delayrate.iloc[:,0])"
   ]
  },
  {
   "cell_type": "code",
   "execution_count": 15,
   "id": "a140ddee",
   "metadata": {},
   "outputs": [
    {
     "name": "stderr",
     "output_type": "stream",
     "text": [
      "/Users/linhvien/opt/anaconda3/envs/iod/lib/python3.9/site-packages/seaborn/_decorators.py:36: FutureWarning: Pass the following variable as a keyword arg: x. From version 0.12, the only valid positional argument will be `data`, and passing other arguments without an explicit keyword will result in an error or misinterpretation.\n",
      "  warnings.warn(\n"
     ]
    },
    {
     "data": {
      "text/plain": [
       "<AxesSubplot:xlabel='delay_rate'>"
      ]
     },
     "execution_count": 15,
     "metadata": {},
     "output_type": "execute_result"
    },
    {
     "data": {
      "image/png": "[encoded data removed]",
      "text/plain": [
       "<Figure size 432x288 with 1 Axes>"
      ]
     },
     "metadata": {
      "needs_background": "light"
     },
     "output_type": "display_data"
    }
   ],
   "source": [
    "sns.boxplot(df_by_airportto_delayrate.delay_rate)"
   ]
  },
  {
   "cell_type": "code",
   "execution_count": 16,
   "id": "d01504bb",
   "metadata": {},
   "outputs": [
    {
     "data": {
      "text/plain": [
       "count    292.000000\n",
       "mean       0.783180\n",
       "std        0.318774\n",
       "min        0.192308\n",
       "25%        0.551974\n",
       "50%        0.720338\n",
       "75%        0.992003\n",
       "max        1.755831\n",
       "Name: delay_rate, dtype: float64"
      ]
     },
     "execution_count": 16,
     "metadata": {},
     "output_type": "execute_result"
    }
   ],
   "source": [
    "df_by_airportto_delayrate.delay_rate.describe()"
   ]
  },
  {
   "cell_type": "code",
   "execution_count": 17,
   "id": "5acf3717",
   "metadata": {},
   "outputs": [
    {
     "data": {
      "text/plain": [
       "count    293.000000\n",
       "mean       0.648578\n",
       "std        0.352572\n",
       "min        0.132353\n",
       "25%        0.421053\n",
       "50%        0.583463\n",
       "75%        0.775391\n",
       "max        2.776183\n",
       "Name: delay_rate, dtype: float64"
      ]
     },
     "execution_count": 17,
     "metadata": {},
     "output_type": "execute_result"
    }
   ],
   "source": [
    "df_by_airportfrom_delayrate.delay_rate.describe()"
   ]
  },
  {
   "cell_type": "markdown",
   "id": "df86d527",
   "metadata": {
    "tags": []
   },
   "source": [
    "## <h1 style=\"color:green\"> FEATURE ENGINEERING ON AIRLINE & AIRPORT</h1>"
   ]
  },
  {
   "cell_type": "markdown",
   "id": "7589c0d8",
   "metadata": {},
   "source": [
    "## Airline, Airport from and Airport to are categorical features, but they have too many categories. We will divide each of the feature into 2 categories: below & above the delay rate mean "
   ]
  },
  {
   "cell_type": "code",
   "execution_count": 18,
   "id": "4b733b9b",
   "metadata": {},
   "outputs": [],
   "source": [
    "#calculate the delay rate mean for each Airline:\n",
    "airline_delay_rate_mean = df_by_airline_delayrate.delay_rate.mean()\n",
    "\n",
    "#Generate a list of airline that delay more than average:\n",
    "list_more_delay_airline = df_by_airline_delayrate[df_by_airline_delayrate.delay_rate>\n",
    "                                                  airline_delay_rate_mean].index.values.tolist()\n",
    "\n",
    "df[\"more_delay_airline\"] = df[\"Airline\"].apply(lambda x : 1 if x in list_more_delay_airline\n",
    "                                               else 0)"
   ]
  },
  {
   "cell_type": "code",
   "execution_count": 19,
   "id": "92fae0d1",
   "metadata": {},
   "outputs": [],
   "source": [
    "#calculate the delay rate mean for each AirportFrom:\n",
    "airportfrom_delay_rate_mean = df_by_airportfrom_delayrate.delay_rate.mean()\n",
    "\n",
    "#Generate a list of airportfrom that delay more than average:\n",
    "list_more_delay_airportfrom = df_by_airportfrom_delayrate[df_by_airportfrom_delayrate.delay_rate>\n",
    "                                                  airportfrom_delay_rate_mean].index.values.tolist()\n",
    "\n",
    "df[\"more_delay_airportfrom\"] = df[\"AirportFrom\"].apply(lambda x : 1 if x in list_more_delay_airportfrom\n",
    "                                               else 0)"
   ]
  },
  {
   "cell_type": "code",
   "execution_count": 20,
   "id": "741d7788",
   "metadata": {},
   "outputs": [],
   "source": [
    "#calculate the delay rate mean for each AirportTo:\n",
    "airportto_delay_rate_mean = df_by_airportto_delayrate.delay_rate.mean()\n",
    "\n",
    "#Generate a list of airportto that delay more than average:\n",
    "list_more_delay_airportto = df_by_airportto_delayrate[df_by_airportto_delayrate.delay_rate>\n",
    "                                                  airportto_delay_rate_mean].index.values.tolist()\n",
    "\n",
    "df[\"more_delay_airportto\"] = df[\"AirportTo\"].apply(lambda x : 1 if x in list_more_delay_airportto\n",
    "                                               else 0)"
   ]
  },
  {
   "cell_type": "code",
   "execution_count": 21,
   "id": "5d395414",
   "metadata": {},
   "outputs": [],
   "source": [
    "airportto_most_delay_rate_75 = df_by_airportto_delayrate.delay_rate.quantile(q=0.75)\n",
    "list_most_delay_airportto = df_by_airportto_delayrate[df_by_airportto_delayrate.delay_rate>\n",
    "                                                  airportto_most_delay_rate_75].index.values.tolist()\n",
    "df[\"most_delay_airportto\"] = df[\"AirportTo\"].apply(lambda x : 1 if x in list_most_delay_airportto\n",
    "                                               else 0)"
   ]
  },
  {
   "cell_type": "code",
   "execution_count": 22,
   "id": "31ef706c",
   "metadata": {},
   "outputs": [],
   "source": [
    "airportfrom_most_delay_rate_75 = df_by_airportfrom_delayrate.delay_rate.quantile(q=0.75)\n",
    "list_most_delay_airportfrom = df_by_airportfrom_delayrate[df_by_airportfrom_delayrate.delay_rate>\n",
    "                                                  airportfrom_most_delay_rate_75].index.values.tolist()\n",
    "df[\"most_delay_airportfrom\"] = df[\"AirportFrom\"].apply(lambda x : 1 if x in list_most_delay_airportfrom\n",
    "                                               else 0)"
   ]
  },
  {
   "cell_type": "markdown",
   "id": "0caf78ec",
   "metadata": {
    "tags": []
   },
   "source": [
    "## <h1 style=\"color:green\">TIME & LENGTH</h1>"
   ]
  },
  {
   "cell_type": "code",
   "execution_count": 24,
   "id": "35726fa6",
   "metadata": {},
   "outputs": [],
   "source": [
    "df[\"timeofday\"] = pd.cut(df.Time,bins = 3, labels = [\"morning\",\"afternoon\",\"evening\"])"
   ]
  },
  {
   "cell_type": "code",
   "execution_count": 25,
   "id": "250c990c",
   "metadata": {},
   "outputs": [
    {
     "data": {
      "text/plain": [
       "<AxesSubplot:xlabel='timeofday'>"
      ]
     },
     "execution_count": 25,
     "metadata": {},
     "output_type": "execute_result"
    },
    {
     "data": {
      "image/png": "[encoded data removed]",
      "text/plain": [
       "<Figure size 432x288 with 1 Axes>"
      ]
     },
     "metadata": {
      "needs_background": "light"
     },
     "output_type": "display_data"
    }
   ],
   "source": [
    "df.groupby(by = [\"timeofday\",\"Delay\"]).agg({\"Delay\":\"count\"}).unstack().plot.bar()"
   ]
  },
  {
   "cell_type": "markdown",
   "id": "4e15639d",
   "metadata": {
    "tags": []
   },
   "source": [
    "## We can see that it is <span style=\"color:red\"> less delay in the morning </span> and more delays occur later in the day "
   ]
  },
  {
   "cell_type": "code",
   "execution_count": 26,
   "id": "f2add77f",
   "metadata": {},
   "outputs": [],
   "source": [
    "a = df[df.Time <720][\"Delay\"].sample(100,random_state=1)\n",
    "b = df[df.Time >720][\"Delay\"].sample(100,random_state=1)"
   ]
  },
  {
   "cell_type": "code",
   "execution_count": 27,
   "id": "3f2d0e12",
   "metadata": {},
   "outputs": [
    {
     "name": "stdout",
     "output_type": "stream",
     "text": [
      "t = -3.6663769890642195\n",
      "p = 0.00031600666081269284\n"
     ]
    }
   ],
   "source": [
    "from scipy import stats\n",
    "t,p = stats.ttest_ind(a,b)\n",
    "print(\"t = \" + str(t))\n",
    "print(\"p = \" + str(p))"
   ]
  },
  {
   "cell_type": "markdown",
   "id": "011ee169",
   "metadata": {},
   "source": [
    "<span style=\"color:blue\"> There is a significantly difference in delay rate between early and later in the day. </span>"
   ]
  },
  {
   "cell_type": "code",
   "execution_count": 28,
   "id": "10324473",
   "metadata": {},
   "outputs": [
    {
     "data": {
      "text/plain": [
       "count    539383.000000\n",
       "mean        132.202007\n",
       "std          70.117016\n",
       "min           0.000000\n",
       "25%          81.000000\n",
       "50%         115.000000\n",
       "75%         162.000000\n",
       "max         655.000000\n",
       "Name: Length, dtype: float64"
      ]
     },
     "execution_count": 28,
     "metadata": {},
     "output_type": "execute_result"
    }
   ],
   "source": [
    "df.Length.describe()"
   ]
  },
  {
   "cell_type": "code",
   "execution_count": 29,
   "id": "c9509ea9",
   "metadata": {},
   "outputs": [],
   "source": [
    "c = df[df.Length <115][\"Delay\"].sample(100,random_state=1)\n",
    "d = df[df.Length >115][\"Delay\"].sample(100,random_state=1)"
   ]
  },
  {
   "cell_type": "code",
   "execution_count": 30,
   "id": "7b3348d6",
   "metadata": {},
   "outputs": [
    {
     "name": "stdout",
     "output_type": "stream",
     "text": [
      "t = -1.4167918937066917\n",
      "p = 0.1581152309552422\n"
     ]
    }
   ],
   "source": [
    "t2,p2 = stats.ttest_ind(c,d)\n",
    "print(\"t = \" + str(t2))\n",
    "print(\"p = \" + str(p2))"
   ]
  },
  {
   "cell_type": "markdown",
   "id": "76bb3617",
   "metadata": {
    "jp-MarkdownHeadingCollapsed": true,
    "tags": []
   },
   "source": [
    "## There is <span style=\"color:red\">  no difference in delay rate </span> between long & short flights "
   ]
  },
  {
   "cell_type": "markdown",
   "id": "593eb3b5",
   "metadata": {
    "tags": []
   },
   "source": [
    "<h1 style=\"color:green\">CLASSIFICATION</h1>"
   ]
  },
  {
   "cell_type": "code",
   "execution_count": 79,
   "id": "39eb77f9",
   "metadata": {
    "tags": []
   },
   "outputs": [
    {
     "data": {
      "text/html": [
       "<div>\n",
       "<style scoped>\n",
       "    .dataframe tbody tr th:only-of-type {\n",
       "        vertical-align: middle;\n",
       "    }\n",
       "\n",
       "    .dataframe tbody tr th {\n",
       "        vertical-align: top;\n",
       "    }\n",
       "\n",
       "    .dataframe thead th {\n",
       "        text-align: right;\n",
       "    }\n",
       "</style>\n",
       "<table border=\"1\" class=\"dataframe\">\n",
       "  <thead>\n",
       "    <tr style=\"text-align: right;\">\n",
       "      <th></th>\n",
       "      <th>id</th>\n",
       "      <th>Airline</th>\n",
       "      <th>Flight</th>\n",
       "      <th>AirportFrom</th>\n",
       "      <th>AirportTo</th>\n",
       "      <th>DayOfWeek</th>\n",
       "      <th>Time</th>\n",
       "      <th>Length</th>\n",
       "      <th>Delay</th>\n",
       "      <th>more_delay_airline</th>\n",
       "      <th>more_delay_airportfrom</th>\n",
       "      <th>more_delay_airportto</th>\n",
       "      <th>most_delay_airportto</th>\n",
       "      <th>most_delay_airportfrom</th>\n",
       "      <th>timeofday</th>\n",
       "    </tr>\n",
       "  </thead>\n",
       "  <tbody>\n",
       "    <tr>\n",
       "      <th>0</th>\n",
       "      <td>1</td>\n",
       "      <td>CO</td>\n",
       "      <td>269</td>\n",
       "      <td>SFO</td>\n",
       "      <td>IAH</td>\n",
       "      <td>3</td>\n",
       "      <td>15</td>\n",
       "      <td>205</td>\n",
       "      <td>1</td>\n",
       "      <td>1</td>\n",
       "      <td>1</td>\n",
       "      <td>0</td>\n",
       "      <td>0</td>\n",
       "      <td>1</td>\n",
       "      <td>morning</td>\n",
       "    </tr>\n",
       "  </tbody>\n",
       "</table>\n",
       "</div>"
      ],
      "text/plain": [
       "   id Airline  Flight AirportFrom AirportTo  DayOfWeek  Time  Length  Delay  \\\n",
       "0   1      CO     269         SFO       IAH          3    15     205      1   \n",
       "\n",
       "   more_delay_airline  more_delay_airportfrom  more_delay_airportto  \\\n",
       "0                   1                       1                     0   \n",
       "\n",
       "   most_delay_airportto  most_delay_airportfrom timeofday  \n",
       "0                     0                       1   morning  "
      ]
     },
     "execution_count": 79,
     "metadata": {},
     "output_type": "execute_result"
    }
   ],
   "source": [
    "from sklearn.model_selection import train_test_split\n",
    "from sklearn import metrics\n",
    "from sklearn.metrics import accuracy_score, confusion_matrix\n",
    "from sklearn.metrics import classification_report\n",
    "from sklearn.preprocessing import StandardScaler\n",
    "import matplotlib.pyplot as plt\n",
    "from colorama import Fore\n",
    "from colorama import Style\n",
    "\n",
    "%matplotlib inline\n",
    "df.head(1)"
   ]
  },
  {
   "cell_type": "code",
   "execution_count": 80,
   "id": "3481ffc0",
   "metadata": {},
   "outputs": [],
   "source": [
    "#Define tested features and target variable\n",
    "tested_feature_list = [\"more_delay_airline\",\"Time\"]\n",
    "scaler = StandardScaler()\n",
    "# transform data\n",
    "X = scaler.fit_transform(df.loc[:,tested_feature_list])\n",
    "y = df.Delay"
   ]
  },
  {
   "cell_type": "code",
   "execution_count": 81,
   "id": "3d25c708",
   "metadata": {},
   "outputs": [],
   "source": [
    "#Spliting datasest\n",
    "X_train,X_test, y_train,y_test = train_test_split(X,y, test_size = 0.2,random_state = 1)"
   ]
  },
  {
   "cell_type": "code",
   "execution_count": 82,
   "id": "8777d6e4-d0c6-4c4b-85cf-42cf300279e0",
   "metadata": {
    "tags": []
   },
   "outputs": [],
   "source": [
    "  # Plot the ROC Curve\n",
    "def plot_model(X_test, y_test, MODELs):\n",
    "    fpr, tpr, _ = metrics.roc_curve(y_test, MODELs)    \n",
    "\n",
    "    # Store the Area Under the Curve (AUC) so we can annotate our graph with theis metric\n",
    "    roc_auc = metrics.auc(fpr, tpr)\n",
    "    \n",
    "    # Calculate AUC of model\n",
    "    AUC = metrics.roc_auc_score(y_test, MODELs)\n",
    "    print(f\"{Fore.GREEN}The area under the curve is{Style.RESET_ALL}\", AUC)\n",
    "\n",
    "    plt.figure()\n",
    "    lw = 2\n",
    "    plt.plot(fpr, tpr, color='darkorange', lw = lw, label = 'ROC curve (area = %0.2f)' % roc_auc)\n",
    "    plt.plot([0, 1], [0, 1], color = 'navy', lw = lw, linestyle = '--')\n",
    "    plt.xlim([0.0, 1.0])\n",
    "    plt.ylim([0.0, 1.0])\n",
    "    plt.xlabel('False Positive Rate')\n",
    "    plt.ylabel('True Positive Rate')\n",
    "    plt.title('ROC Curve for current model')\n",
    "    plt.legend(loc = \"lower right\")\n",
    "    plt.show()"
   ]
  },
  {
   "cell_type": "code",
   "execution_count": 83,
   "id": "f2821971-efe6-4959-8e43-df341e847722",
   "metadata": {},
   "outputs": [],
   "source": [
    " # Plot heatmap\n",
    "def score_heatmap(X_test, y_pred):\n",
    "    ac = accuracy_score(y_test, y_pred)\n",
    "    print('Accuracy:', ac)\n",
    "    cm = confusion_matrix(y_test,y_pred)\n",
    "    sns.heatmap(cm, annot=True, fmt='d');\n",
    "    print(classification_report(y_test,y_pred))"
   ]
  },
  {
   "cell_type": "code",
   "execution_count": 84,
   "id": "c933a0ff-81f9-440b-894f-8bf8a8619fb8",
   "metadata": {},
   "outputs": [],
   "source": [
    "    # Calculate accuracy, precision, recall, f1-score, and kappa score\n",
    "def evaluate_model(y_test, y_pred):\n",
    "     acc = metrics.accuracy_score(y_test, y_pred)\n",
    "     prec = metrics.precision_score(y_test, y_pred)\n",
    "     rec = metrics.recall_score(y_test, y_pred)\n",
    "     f1 = metrics.f1_score(y_test, y_pred)\n",
    "     kappa = metrics.cohen_kappa_score(y_test, y_pred)\n",
    "    \n",
    "     print(\"Accuracy: \", acc)\n",
    "     print(\"Precision: \", prec)\n",
    "     print(\"Recall:\", rec)\n",
    "     print(\"f1 Score:\", f1)\n",
    "     print(\"Cohens Kappa Score:\", kappa)"
   ]
  },
  {
   "cell_type": "markdown",
   "id": "9d3beed3",
   "metadata": {
    "jp-MarkdownHeadingCollapsed": true,
    "tags": []
   },
   "source": [
    "# Logistic Regression"
   ]
  },
  {
   "cell_type": "code",
   "execution_count": 85,
   "id": "698ebbe5-473a-406d-a44f-4225f3b47138",
   "metadata": {},
   "outputs": [],
   "source": [
    "from sklearn.linear_model import LogisticRegression"
   ]
  },
  {
   "cell_type": "code",
   "execution_count": 86,
   "id": "23c5685b",
   "metadata": {},
   "outputs": [
    {
     "name": "stdout",
     "output_type": "stream",
     "text": [
      "Model score in Train Dataset is  0.6284454909085853\n",
      "Model score in Test Dataset is  0.6274831521084198\n"
     ]
    }
   ],
   "source": [
    "logreg = LogisticRegression()\n",
    "model =logreg.fit(X_train,y_train)\n",
    "# Scores in Train vs Test Dataset\n",
    "print(\"Model score in Train Dataset is \", model.score(X_train,y_train))\n",
    "print(\"Model score in Test Dataset is \", model.score(X_test,y_test))"
   ]
  },
  {
   "cell_type": "code",
   "execution_count": 87,
   "id": "c5513490",
   "metadata": {},
   "outputs": [
    {
     "name": "stdout",
     "output_type": "stream",
     "text": [
      "[['TN' 'FP']\n",
      " ['FN' 'TP']]\n",
      "[[45752 14007]\n",
      " [26179 21939]]\n"
     ]
    }
   ],
   "source": [
    "# Confussion Matrics\n",
    "y_pred_class = logreg.predict(X_test)\n",
    "print(np.asarray([['TN', 'FP'], ['FN', 'TP']]))\n",
    "print(metrics.confusion_matrix(y_test, y_pred_class))"
   ]
  },
  {
   "cell_type": "code",
   "execution_count": 88,
   "id": "d3968556-5464-4a9f-9752-d5533f410e2b",
   "metadata": {},
   "outputs": [
    {
     "name": "stdout",
     "output_type": "stream",
     "text": [
      "Accuracy:  0.6274831521084198\n",
      "Precision:  0.6103321649140377\n",
      "Recall: 0.4559416434598279\n",
      "f1 Score: 0.5219594594594594\n",
      "Cohens Kappa Score: 0.22714668711520658\n"
     ]
    }
   ],
   "source": [
    "evaluate_model(y_test, y_pred_class)"
   ]
  },
  {
   "cell_type": "code",
   "execution_count": 89,
   "id": "b5d41d3a-a008-4dc5-8473-8e45efa44366",
   "metadata": {},
   "outputs": [
    {
     "name": "stdout",
     "output_type": "stream",
     "text": [
      "\u001b[32mThe area under the curve is\u001b[0m 0.6480746778130947\n"
     ]
    },
    {
     "data": {
      "image/png": "[encoded data removed]",
      "text/plain": [
       "<Figure size 432x288 with 1 Axes>"
      ]
     },
     "metadata": {
      "needs_background": "light"
     },
     "output_type": "display_data"
    }
   ],
   "source": [
    "preds_log = logreg.predict_proba(X_test)[:,1]\n",
    "# Generate the prediction values for each of the test observations using predict_proba() \n",
    "# function rather than just predict\n",
    "\n",
    "plot_model(X_test, y_test, preds_log)"
   ]
  },
  {
   "cell_type": "code",
   "execution_count": 90,
   "id": "55b3e8fd",
   "metadata": {
    "tags": []
   },
   "outputs": [
    {
     "name": "stdout",
     "output_type": "stream",
     "text": [
      "0.628004622701361\n"
     ]
    }
   ],
   "source": [
    "from sklearn.model_selection import cross_val_score\n",
    "target_col = 'Delay'\n",
    "feature_cols = tested_feature_list\n",
    "logreg = LogisticRegression()\n",
    "scores_log = cross_val_score(logreg, df[feature_cols], df[target_col], cv=5)\n",
    "Score_log_mean = scores_log.mean()\n",
    "print (Score_log_mean)"
   ]
  },
  {
   "cell_type": "code",
   "execution_count": 91,
   "id": "ea3dfe52-0d37-4da1-90d2-26037a4c25b5",
   "metadata": {},
   "outputs": [
    {
     "name": "stdout",
     "output_type": "stream",
     "text": [
      "Accuracy: 0.6274831521084198\n",
      "              precision    recall  f1-score   support\n",
      "\n",
      "           0       0.64      0.77      0.69     59759\n",
      "           1       0.61      0.46      0.52     48118\n",
      "\n",
      "    accuracy                           0.63    107877\n",
      "   macro avg       0.62      0.61      0.61    107877\n",
      "weighted avg       0.62      0.63      0.62    107877\n",
      "\n"
     ]
    },
    {
     "data": {
      "image/png": "[encoded data removed]",
      "text/plain": [
       "<Figure size 432x288 with 2 Axes>"
      ]
     },
     "metadata": {
      "needs_background": "light"
     },
     "output_type": "display_data"
    }
   ],
   "source": [
    "score_heatmap(X_test, y_pred_class)"
   ]
  },
  {
   "cell_type": "markdown",
   "id": "ed27dbef-2cff-4752-8f57-e94cbda7d183",
   "metadata": {
    "jp-MarkdownHeadingCollapsed": true,
    "tags": []
   },
   "source": [
    "# Naive Bayes"
   ]
  },
  {
   "cell_type": "code",
   "execution_count": 92,
   "id": "e7e9347c-7405-41ba-8313-888491a60b1d",
   "metadata": {},
   "outputs": [],
   "source": [
    "from sklearn.naive_bayes import GaussianNB"
   ]
  },
  {
   "cell_type": "code",
   "execution_count": 93,
   "id": "c40132b7-0776-4768-b441-97b8d66e0a74",
   "metadata": {},
   "outputs": [
    {
     "name": "stdout",
     "output_type": "stream",
     "text": [
      "Model score in Train Dataset is  0.6305242569048866\n",
      "Model score in Test Dataset is  0.6306719690017335\n"
     ]
    }
   ],
   "source": [
    "Nb_model = GaussianNB()\n",
    "Nb_model.fit(X_train, y_train)\n",
    "# Scores in Train vs Test Dataset\n",
    "print(\"Model score in Train Dataset is \", Nb_model.score(X_train,y_train))\n",
    "print(\"Model score in Test Dataset is \", Nb_model.score(X_test,y_test))"
   ]
  },
  {
   "cell_type": "code",
   "execution_count": 94,
   "id": "efa28bc4-53b6-4f0e-a1b2-bbcb6742acfe",
   "metadata": {},
   "outputs": [
    {
     "name": "stdout",
     "output_type": "stream",
     "text": [
      "[['TN' 'FP']\n",
      " ['FN' 'TP']]\n",
      "[[45579 14180]\n",
      " [25662 22456]]\n"
     ]
    }
   ],
   "source": [
    "y_pred_Nb = Nb_model.predict(X_test)\n",
    "print(np.asarray([['TN', 'FP'], ['FN', 'TP']]))\n",
    "print(metrics.confusion_matrix(y_test, y_pred_Nb))"
   ]
  },
  {
   "cell_type": "code",
   "execution_count": 95,
   "id": "3c356a2c-2530-4f13-a45e-d0d3a3ddd685",
   "metadata": {},
   "outputs": [
    {
     "name": "stdout",
     "output_type": "stream",
     "text": [
      "Accuracy:  0.6306719690017335\n",
      "Precision:  0.6129490119008626\n",
      "Recall: 0.46668606342740765\n",
      "f1 Score: 0.5299100927389859\n",
      "Cohens Kappa Score: 0.23485811967713777\n"
     ]
    }
   ],
   "source": [
    "evaluate_model(y_test, y_pred_Nb)"
   ]
  },
  {
   "cell_type": "code",
   "execution_count": 96,
   "id": "754aa0c9-cc86-43d5-94b8-e07af981ce8e",
   "metadata": {},
   "outputs": [
    {
     "name": "stdout",
     "output_type": "stream",
     "text": [
      "\u001b[32mThe area under the curve is\u001b[0m 0.6492491856574905\n"
     ]
    },
    {
     "data": {
      "image/png": "[encoded data removed]",
      "text/plain": [
       "<Figure size 432x288 with 1 Axes>"
      ]
     },
     "metadata": {
      "needs_background": "light"
     },
     "output_type": "display_data"
    }
   ],
   "source": [
    "preds_Nb = Nb_model.predict_proba(X_test)[:,1]\n",
    "plot_model(X_test, y_test, preds_Nb)"
   ]
  },
  {
   "cell_type": "code",
   "execution_count": 97,
   "id": "06e00e60-3331-4b4e-91bd-2d8e0f1f1e97",
   "metadata": {},
   "outputs": [
    {
     "name": "stdout",
     "output_type": "stream",
     "text": [
      "0.6303499012060941\n"
     ]
    }
   ],
   "source": [
    "scores_nb = cross_val_score(Nb_model, df[feature_cols], df[target_col], cv=5)\n",
    "Score_nb_mean = scores_nb.mean()\n",
    "print (Score_nb_mean)"
   ]
  },
  {
   "cell_type": "code",
   "execution_count": 98,
   "id": "ec21f113-fcbc-4699-beab-687fa320f5d9",
   "metadata": {},
   "outputs": [
    {
     "name": "stdout",
     "output_type": "stream",
     "text": [
      "Accuracy: 0.6306719690017335\n",
      "              precision    recall  f1-score   support\n",
      "\n",
      "           0       0.64      0.76      0.70     59759\n",
      "           1       0.61      0.47      0.53     48118\n",
      "\n",
      "    accuracy                           0.63    107877\n",
      "   macro avg       0.63      0.61      0.61    107877\n",
      "weighted avg       0.63      0.63      0.62    107877\n",
      "\n"
     ]
    },
    {
     "data": {
      "image/png": "[encoded data removed]",
      "text/plain": [
       "<Figure size 432x288 with 2 Axes>"
      ]
     },
     "metadata": {
      "needs_background": "light"
     },
     "output_type": "display_data"
    }
   ],
   "source": [
    "score_heatmap(X_test, y_pred_Nb)"
   ]
  },
  {
   "cell_type": "markdown",
   "id": "04515da5-7765-46cc-af97-3de3921cc475",
   "metadata": {},
   "source": [
    "## <span style=\"color:red\"> True Positive is higher than the logistic classification </span>"
   ]
  },
  {
   "cell_type": "markdown",
   "id": "7b42f192-67e0-4b88-9d3a-dd84541de391",
   "metadata": {
    "jp-MarkdownHeadingCollapsed": true,
    "tags": []
   },
   "source": [
    "# Perceptron/Neural network"
   ]
  },
  {
   "cell_type": "code",
   "execution_count": 99,
   "id": "0cdec557-f9c5-45e9-8c8f-b8d3ad7ee45e",
   "metadata": {},
   "outputs": [],
   "source": [
    "from sklearn.linear_model import Perceptron"
   ]
  },
  {
   "cell_type": "code",
   "execution_count": 100,
   "id": "f2b48be2-7144-47b4-a563-7ea2924ff06c",
   "metadata": {},
   "outputs": [
    {
     "name": "stdout",
     "output_type": "stream",
     "text": [
      "Model score in Train Dataset is  0.566434765681126\n",
      "Model score in Test Dataset is  0.5668492820527081\n"
     ]
    }
   ],
   "source": [
    "pcptn_model  = Perceptron()\n",
    "pcptn_model.fit(X_train, y_train)\n",
    "# Scores in Train vs Test Dataset\n",
    "print(\"Model score in Train Dataset is \", pcptn_model.score(X_train,y_train))\n",
    "print(\"Model score in Test Dataset is \", pcptn_model.score(X_test,y_test))"
   ]
  },
  {
   "cell_type": "code",
   "execution_count": 101,
   "id": "fe72bd29-fe40-4c45-8fec-6f0cc0ff96c1",
   "metadata": {},
   "outputs": [
    {
     "name": "stdout",
     "output_type": "stream",
     "text": [
      "[['TN' 'FP']\n",
      " ['FN' 'TP']]\n",
      "[[33951 25808]\n",
      " [20919 27199]]\n"
     ]
    }
   ],
   "source": [
    "y_pred_pcptn = pcptn_model.predict(X_test)\n",
    "print(np.asarray([['TN', 'FP'], ['FN', 'TP']]))\n",
    "print(metrics.confusion_matrix(y_test, y_pred_pcptn))"
   ]
  },
  {
   "cell_type": "code",
   "execution_count": 102,
   "id": "c2214d28-7282-4e92-9074-c5474813fc00",
   "metadata": {},
   "outputs": [
    {
     "name": "stdout",
     "output_type": "stream",
     "text": [
      "Accuracy:  0.5668492820527081\n",
      "Precision:  0.5131209085592469\n",
      "Recall: 0.5652562450642171\n",
      "f1 Score: 0.5379283065512979\n",
      "Cohens Kappa Score: 0.13208113762098928\n"
     ]
    }
   ],
   "source": [
    "evaluate_model(y_test, y_pred_pcptn)"
   ]
  },
  {
   "cell_type": "code",
   "execution_count": 103,
   "id": "3954ebe1-c698-4337-9066-c16512681a5b",
   "metadata": {
    "tags": []
   },
   "outputs": [],
   "source": [
    "#preds_pcptn = pcptn_model.predict_proba(X_test)[:,1]\n",
    "#plot_model(X_test, y_test, preds_pcptn)\n",
    "\n",
    "# perceptron doesn't have a method of predict_proba"
   ]
  },
  {
   "cell_type": "code",
   "execution_count": 104,
   "id": "839cbd39-f87f-4ed5-94dd-a661bb4acaf0",
   "metadata": {},
   "outputs": [
    {
     "name": "stdout",
     "output_type": "stream",
     "text": [
      "0.5158504816441009\n"
     ]
    }
   ],
   "source": [
    "scores_pcptn = cross_val_score(pcptn_model, df[feature_cols], df[target_col], cv=5)\n",
    "Score_pcptn_mean = scores_pcptn.mean()\n",
    "print (Score_pcptn_mean)"
   ]
  },
  {
   "cell_type": "code",
   "execution_count": 105,
   "id": "f10e0ab3-66f4-494a-aa27-2c1ca0a2fad5",
   "metadata": {},
   "outputs": [
    {
     "name": "stdout",
     "output_type": "stream",
     "text": [
      "Accuracy: 0.5668492820527081\n",
      "              precision    recall  f1-score   support\n",
      "\n",
      "           0       0.62      0.57      0.59     59759\n",
      "           1       0.51      0.57      0.54     48118\n",
      "\n",
      "    accuracy                           0.57    107877\n",
      "   macro avg       0.57      0.57      0.57    107877\n",
      "weighted avg       0.57      0.57      0.57    107877\n",
      "\n"
     ]
    },
    {
     "data": {
      "image/png": "[encoded data removed]",
      "text/plain": [
       "<Figure size 432x288 with 2 Axes>"
      ]
     },
     "metadata": {
      "needs_background": "light"
     },
     "output_type": "display_data"
    }
   ],
   "source": [
    "score_heatmap(X_test, y_pred_pcptn)"
   ]
  },
  {
   "cell_type": "markdown",
   "id": "8b4f0785-2884-478d-aeab-6d2228e0ec7a",
   "metadata": {
    "jp-MarkdownHeadingCollapsed": true,
    "tags": []
   },
   "source": [
    "# Decision Tree"
   ]
  },
  {
   "cell_type": "code",
   "execution_count": 106,
   "id": "93114586-b971-4bea-ae0a-c52c6d01d6d5",
   "metadata": {},
   "outputs": [],
   "source": [
    "from sklearn import tree"
   ]
  },
  {
   "cell_type": "code",
   "execution_count": 107,
   "id": "d81c3997-3728-4918-92ba-8d1accda96da",
   "metadata": {},
   "outputs": [
    {
     "name": "stdout",
     "output_type": "stream",
     "text": [
      "Model score in Train Dataset is  0.6390038608964881\n",
      "Model score in Test Dataset is  0.6340925313088054\n"
     ]
    }
   ],
   "source": [
    "DT_model=tree.DecisionTreeClassifier(random_state=0)\n",
    "DT_model.fit(X_train,y_train)\n",
    "# Scores in Train vs Test Dataset\n",
    "print(\"Model score in Train Dataset is \", DT_model.score(X_train,y_train))\n",
    "print(\"Model score in Test Dataset is \", DT_model.score(X_test,y_test))"
   ]
  },
  {
   "cell_type": "code",
   "execution_count": 108,
   "id": "8bd6692e-5df3-43cb-9f17-c23053498bfa",
   "metadata": {},
   "outputs": [
    {
     "name": "stdout",
     "output_type": "stream",
     "text": [
      "[['TN' 'FP']\n",
      " ['FN' 'TP']]\n",
      "[[46795 12964]\n",
      " [26509 21609]]\n"
     ]
    }
   ],
   "source": [
    "y_pred_DT = DT_model.predict(X_test)\n",
    "print(np.asarray([['TN', 'FP'], ['FN', 'TP']]))\n",
    "print(metrics.confusion_matrix(y_test, y_pred_DT))"
   ]
  },
  {
   "cell_type": "code",
   "execution_count": 109,
   "id": "c235b211-4d2d-481a-bef7-da864618d98d",
   "metadata": {},
   "outputs": [
    {
     "name": "stdout",
     "output_type": "stream",
     "text": [
      "Accuracy:  0.6340925313088054\n",
      "Precision:  0.6250253087669568\n",
      "Recall: 0.44908350305498984\n",
      "f1 Score: 0.5226445441462796\n",
      "Cohens Kappa Score: 0.23868975339208864\n"
     ]
    }
   ],
   "source": [
    "evaluate_model(y_test, y_pred_DT)"
   ]
  },
  {
   "cell_type": "code",
   "execution_count": 110,
   "id": "8b690005-efb6-4d3f-9ba9-b319e844048d",
   "metadata": {},
   "outputs": [
    {
     "name": "stdout",
     "output_type": "stream",
     "text": [
      "\u001b[32mThe area under the curve is\u001b[0m 0.6642808711350929\n"
     ]
    },
    {
     "data": {
      "image/png": "[encoded data removed]",
      "text/plain": [
       "<Figure size 432x288 with 1 Axes>"
      ]
     },
     "metadata": {
      "needs_background": "light"
     },
     "output_type": "display_data"
    }
   ],
   "source": [
    "preds_DT = DT_model.predict_proba(X_test)[:,1]\n",
    "plot_model(X_test, y_test, preds_DT)\n"
   ]
  },
  {
   "cell_type": "code",
   "execution_count": 111,
   "id": "71b8ca35-5ef3-4eec-8137-95a5111527d3",
   "metadata": {},
   "outputs": [
    {
     "name": "stdout",
     "output_type": "stream",
     "text": [
      "0.6331660742410399\n"
     ]
    }
   ],
   "source": [
    "scores_DT = cross_val_score(DT_model, df[feature_cols], df[target_col], cv=5)\n",
    "Score_DT_mean = scores_DT.mean()\n",
    "print (Score_DT_mean)"
   ]
  },
  {
   "cell_type": "code",
   "execution_count": 112,
   "id": "6b25174b-72cd-4e95-976e-d3b1181cd3a4",
   "metadata": {},
   "outputs": [
    {
     "name": "stdout",
     "output_type": "stream",
     "text": [
      "Accuracy: 0.6340925313088054\n",
      "              precision    recall  f1-score   support\n",
      "\n",
      "           0       0.64      0.78      0.70     59759\n",
      "           1       0.63      0.45      0.52     48118\n",
      "\n",
      "    accuracy                           0.63    107877\n",
      "   macro avg       0.63      0.62      0.61    107877\n",
      "weighted avg       0.63      0.63      0.62    107877\n",
      "\n"
     ]
    },
    {
     "data": {
      "image/png": "[encoded data removed]",
      "text/plain": [
       "<Figure size 432x288 with 2 Axes>"
      ]
     },
     "metadata": {
      "needs_background": "light"
     },
     "output_type": "display_data"
    }
   ],
   "source": [
    "score_heatmap(X_test, y_pred_DT)"
   ]
  },
  {
   "cell_type": "markdown",
   "id": "fea2f2d1",
   "metadata": {
    "jp-MarkdownHeadingCollapsed": true,
    "tags": []
   },
   "source": [
    "# Support Vector Machine"
   ]
  },
  {
   "cell_type": "code",
   "execution_count": 113,
   "id": "08daa839",
   "metadata": {},
   "outputs": [],
   "source": [
    "from sklearn import svm"
   ]
  },
  {
   "cell_type": "code",
   "execution_count": 114,
   "id": "f90cb5e3-8776-4301-95fd-cd1f6942c94f",
   "metadata": {},
   "outputs": [
    {
     "name": "stdout",
     "output_type": "stream",
     "text": [
      "Model score in Train Dataset is  0.6287977455701659\n",
      "Model score in Test Dataset is  0.6283823243138018\n"
     ]
    }
   ],
   "source": [
    "SVC_model=svm.LinearSVC()\n",
    "SVC_model.fit(X_train,y_train)\n",
    "# Scores in Train vs Test Dataset\n",
    "print(\"Model score in Train Dataset is \", SVC_model.score(X_train,y_train))\n",
    "print(\"Model score in Test Dataset is \", SVC_model.score(X_test,y_test))"
   ]
  },
  {
   "cell_type": "code",
   "execution_count": 115,
   "id": "8f9f242f-7b91-4095-898e-3eb7b2c97b1d",
   "metadata": {},
   "outputs": [
    {
     "name": "stdout",
     "output_type": "stream",
     "text": [
      "[['TN' 'FP']\n",
      " ['FN' 'TP']]\n",
      "[[45754 14005]\n",
      " [26084 22034]]\n"
     ]
    }
   ],
   "source": [
    "y_pred_SVC = SVC_model.predict(X_test)\n",
    "print(np.asarray([['TN', 'FP'], ['FN', 'TP']]))\n",
    "print(metrics.confusion_matrix(y_test, y_pred_SVC))"
   ]
  },
  {
   "cell_type": "code",
   "execution_count": 116,
   "id": "07d72019-c7bf-4ad6-8c78-b1c5bebcad38",
   "metadata": {},
   "outputs": [
    {
     "name": "stdout",
     "output_type": "stream",
     "text": [
      "Accuracy:  0.6283823243138018\n",
      "Precision:  0.6113932129082383\n",
      "Recall: 0.4579159566066753\n",
      "f1 Score: 0.5236403388904072\n",
      "Cohens Kappa Score: 0.22916095699058892\n"
     ]
    }
   ],
   "source": [
    "evaluate_model(y_test, y_pred_SVC)"
   ]
  },
  {
   "cell_type": "code",
   "execution_count": 119,
   "id": "236ba974-52a2-48fe-9b13-cf80b627a700",
   "metadata": {},
   "outputs": [
    {
     "name": "stderr",
     "output_type": "stream",
     "text": [
      "/Users/linhvien/opt/anaconda3/envs/iod/lib/python3.9/site-packages/sklearn/svm/_base.py:1225: ConvergenceWarning: Liblinear failed to converge, increase the number of iterations.\n",
      "  warnings.warn(\n",
      "/Users/linhvien/opt/anaconda3/envs/iod/lib/python3.9/site-packages/sklearn/svm/_base.py:1225: ConvergenceWarning: Liblinear failed to converge, increase the number of iterations.\n",
      "  warnings.warn(\n",
      "/Users/linhvien/opt/anaconda3/envs/iod/lib/python3.9/site-packages/sklearn/svm/_base.py:1225: ConvergenceWarning: Liblinear failed to converge, increase the number of iterations.\n",
      "  warnings.warn(\n",
      "/Users/linhvien/opt/anaconda3/envs/iod/lib/python3.9/site-packages/sklearn/svm/_base.py:1225: ConvergenceWarning: Liblinear failed to converge, increase the number of iterations.\n",
      "  warnings.warn(\n"
     ]
    },
    {
     "name": "stdout",
     "output_type": "stream",
     "text": [
      "0.5109320969549062\n"
     ]
    },
    {
     "name": "stderr",
     "output_type": "stream",
     "text": [
      "/Users/linhvien/opt/anaconda3/envs/iod/lib/python3.9/site-packages/sklearn/svm/_base.py:1225: ConvergenceWarning: Liblinear failed to converge, increase the number of iterations.\n",
      "  warnings.warn(\n"
     ]
    }
   ],
   "source": [
    "scores_SVC = cross_val_score(SVC_model, df[feature_cols], df[target_col], cv=5)\n",
    "Score_SVC_mean = scores_SVC.mean()\n",
    "print (Score_SVC_mean)"
   ]
  },
  {
   "cell_type": "code",
   "execution_count": 120,
   "id": "2ae866aa-52ea-4216-90d5-b3027f9db68d",
   "metadata": {},
   "outputs": [
    {
     "name": "stdout",
     "output_type": "stream",
     "text": [
      "Accuracy: 0.6283823243138018\n",
      "              precision    recall  f1-score   support\n",
      "\n",
      "           0       0.64      0.77      0.70     59759\n",
      "           1       0.61      0.46      0.52     48118\n",
      "\n",
      "    accuracy                           0.63    107877\n",
      "   macro avg       0.62      0.61      0.61    107877\n",
      "weighted avg       0.63      0.63      0.62    107877\n",
      "\n"
     ]
    },
    {
     "data": {
      "image/png": "[encoded data removed]",
      "text/plain": [
       "<Figure size 432x288 with 2 Axes>"
      ]
     },
     "metadata": {
      "needs_background": "light"
     },
     "output_type": "display_data"
    }
   ],
   "source": [
    "score_heatmap(X_test, y_pred_SVC)"
   ]
  },
  {
   "cell_type": "markdown",
   "id": "4c15ed29-2707-4606-bb0f-6840c0cc2ee6",
   "metadata": {
    "tags": []
   },
   "source": [
    "# Models Comparison"
   ]
  },
  {
   "cell_type": "code",
   "execution_count": 121,
   "id": "80cbb222-e0fb-43fc-a73b-1243e442fff9",
   "metadata": {},
   "outputs": [
    {
     "name": "stdout",
     "output_type": "stream",
     "text": [
      "Confusion matrix\n",
      "[['TN' 'FP']\n",
      " ['FN' 'TP']]\n",
      "Logistic Regression\n",
      "[[45752 14007]\n",
      " [26179 21939]]\n",
      "Naive Bayes\n",
      "[[45579 14180]\n",
      " [25662 22456]]\n",
      "Perceptron/Neural network\n",
      "[[33951 25808]\n",
      " [20919 27199]]\n",
      "Decision Tree\n",
      "[[46795 12964]\n",
      " [26509 21609]]\n",
      "Support Vector Machine\n",
      "[[45754 14005]\n",
      " [26084 22034]]\n"
     ]
    }
   ],
   "source": [
    "print(\"Confusion matrix\")\n",
    "print(np.asarray([['TN', 'FP'], ['FN', 'TP']]))\n",
    "print(\"Logistic Regression\")\n",
    "print(metrics.confusion_matrix(y_test, y_pred_class))\n",
    "print(\"Naive Bayes\")\n",
    "print(metrics.confusion_matrix(y_test, y_pred_Nb))\n",
    "print(\"Perceptron/Neural network\")\n",
    "print(metrics.confusion_matrix(y_test, y_pred_pcptn))\n",
    "print(\"Decision Tree\")\n",
    "print(metrics.confusion_matrix(y_test, y_pred_DT))\n",
    "print(\"Support Vector Machine\")\n",
    "print(metrics.confusion_matrix(y_test, y_pred_SVC))"
   ]
  },
  {
   "cell_type": "code",
   "execution_count": 123,
   "id": "7b01e0e9-aeb5-464c-b693-7ffd42e64323",
   "metadata": {},
   "outputs": [
    {
     "name": "stdout",
     "output_type": "stream",
     "text": [
      "Accuracy, Precision, Recall, f1-score, and kappa score\n",
      "\n",
      "Logistic Regression\n",
      "Accuracy:  0.6274831521084198\n",
      "Precision:  0.6103321649140377\n",
      "Recall: 0.4559416434598279\n",
      "f1 Score: 0.5219594594594594\n",
      "Cohens Kappa Score: 0.22714668711520658\n",
      "\n",
      "Naive Bayes\n",
      "Accuracy:  0.6306719690017335\n",
      "Precision:  0.6129490119008626\n",
      "Recall: 0.46668606342740765\n",
      "f1 Score: 0.5299100927389859\n",
      "Cohens Kappa Score: 0.23485811967713777\n",
      "\n",
      "Perceptron/Neural network\n",
      "Accuracy:  0.5668492820527081\n",
      "Precision:  0.5131209085592469\n",
      "Recall: 0.5652562450642171\n",
      "f1 Score: 0.5379283065512979\n",
      "Cohens Kappa Score: 0.13208113762098928\n",
      "\n",
      "Decision Tree\n",
      "Accuracy:  0.6340925313088054\n",
      "Precision:  0.6250253087669568\n",
      "Recall: 0.44908350305498984\n",
      "f1 Score: 0.5226445441462796\n",
      "Cohens Kappa Score: 0.23868975339208864\n"
     ]
    }
   ],
   "source": [
    "print(\"Accuracy, Precision, Recall, f1-score, and kappa score\\n\")\n",
    "print(\"Logistic Regression\")\n",
    "evaluate_model(y_test, y_pred_class)\n",
    "print(\"\\nNaive Bayes\")\n",
    "evaluate_model(y_test, y_pred_Nb)\n",
    "print(\"\\nPerceptron/Neural network\")\n",
    "evaluate_model(y_test, y_pred_pcptn)\n",
    "print(\"\\nDecision Tree\")\n",
    "evaluate_model(y_test, y_pred_DT)\n",
    "# print(\"\\nSupport Vector Machine\")\n",
    "#evaluate_model(y_test, y_pred_SVM)\n"
   ]
  },
  {
   "cell_type": "code",
   "execution_count": 125,
   "id": "62df9788-ae33-4578-be26-1c7e80793fbe",
   "metadata": {
    "jupyter": {
     "outputs_hidden": true
    },
    "tags": []
   },
   "outputs": [],
   "source": [
    "#fpr_pcptn, tpr_pcptn, _ = metrics.roc_curve(y_test, preds_pcptn)\n",
    "\n",
    "# perceptron doesn't have a method of predict_proba"
   ]
  },
  {
   "cell_type": "code",
   "execution_count": 136,
   "id": "baef8116-1d8e-4c98-bd07-eaa56cfb171f",
   "metadata": {},
   "outputs": [],
   "source": [
    "fpr_log, tpr_log, _ = metrics.roc_curve(y_test, preds_log)\n",
    "fpr_nb, tpr_nb, _ = metrics.roc_curve(y_test, preds_Nb)\n",
    "fpr_DT, tpr_DT, _ = metrics.roc_curve(y_test, preds_DT)\n",
    "AUC_log = metrics.roc_auc_score(y_test, preds_log)\n",
    "AUC_nb = metrics.roc_auc_score(y_test, preds_Nb)\n",
    "AUC_DT = metrics.roc_auc_score(y_test, preds_DT)\n"
   ]
  },
  {
   "cell_type": "code",
   "execution_count": 137,
   "id": "2811f2bb-f9f9-4bc3-b6d0-30581aa810b0",
   "metadata": {},
   "outputs": [
    {
     "data": {
      "image/png": "[encoded data removed]",
      "text/plain": [
       "<Figure size 432x288 with 1 Axes>"
      ]
     },
     "metadata": {
      "needs_background": "light"
     },
     "output_type": "display_data"
    }
   ],
   "source": [
    "## Comparing ROC Curve\n",
    "plt.plot([0, 1], [0, 1], color = 'navy', linestyle = '--')\n",
    "plt.plot(fpr_log, tpr_log, label='Logistic Regression, auc = {:0.5f}'.format(AUC_log))\n",
    "plt.plot(fpr_nb, tpr_nb, label='Naive Bayes, auc = {:0.5f}'.format(AUC_nb))\n",
    "plt.plot(fpr_DT, tpr_DT, label='Decision Tree, auc = {:0.5f}'.format(AUC_DT))\n",
    "\n",
    "## Configure x and y axis\n",
    "plt.xlabel('False Positive Rate', fontweight='bold')\n",
    "plt.ylabel('True Positive Rate', fontweight='bold')\n",
    "\n",
    "## Create legend & title\n",
    "plt.title('ROC Curve', fontsize=14, fontweight='bold')\n",
    "plt.legend(loc=4)\n",
    "\n",
    "plt.show()"
   ]
  },
  {
   "cell_type": "code",
   "execution_count": null,
   "id": "73609ba7",
   "metadata": {},
   "outputs": [],
   "source": []
  }
 ],
 "metadata": {
  "kernelspec": {
   "display_name": "Python 3 (ipykernel)",
   "language": "python",
   "name": "python3"
  },
  "language_info": {
   "codemirror_mode": {
    "name": "ipython",
    "version": 3
   },
   "file_extension": ".py",
   "mimetype": "text/x-python",
   "name": "python",
   "nbconvert_exporter": "python",
   "pygments_lexer": "ipython3",
   "version": "3.9.12"
  }
 },
 "nbformat": 4,
 "nbformat_minor": 5
}
