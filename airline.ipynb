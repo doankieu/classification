{
 "cells": [
  {
   "cell_type": "markdown",
   "id": "f3551adc-95dd-44a7-8029-44fbdd21a99f",
   "metadata": {
    "tags": []
   },
   "source": [
    "# <span style=\"color:red\"> Business Goal: Improving Customer Experience</span>\n",
    "# Q : How to prevent aircraft delay?\n",
    "# <span style=\"color:blue\"> Models : Predicting aircraft delay.</span>\n",
    "Team member: Doan Kieu, Clivia Kong, Nina Huang"
   ]
  },
  {
   "cell_type": "code",
   "execution_count": 1,
   "id": "3dfde81f",
   "metadata": {
    "tags": []
   },
   "outputs": [],
   "source": [
    "import pandas as pd\n",
    "import seaborn as sns\n",
    "import numpy as np"
   ]
  },
  {
   "cell_type": "code",
   "execution_count": 2,
   "id": "6ff98499",
   "metadata": {},
   "outputs": [],
   "source": [
    "df = pd.read_csv(\"Airlines.csv\")"
   ]
  },
  {
   "cell_type": "code",
   "execution_count": 3,
   "id": "6b445962",
   "metadata": {},
   "outputs": [
    {
     "data": {
      "text/html": [
       "<div>\n",
       "<style scoped>\n",
       "    .dataframe tbody tr th:only-of-type {\n",
       "        vertical-align: middle;\n",
       "    }\n",
       "\n",
       "    .dataframe tbody tr th {\n",
       "        vertical-align: top;\n",
       "    }\n",
       "\n",
       "    .dataframe thead th {\n",
       "        text-align: right;\n",
       "    }\n",
       "</style>\n",
       "<table border=\"1\" class=\"dataframe\">\n",
       "  <thead>\n",
       "    <tr style=\"text-align: right;\">\n",
       "      <th></th>\n",
       "      <th>id</th>\n",
       "      <th>Airline</th>\n",
       "      <th>Flight</th>\n",
       "      <th>AirportFrom</th>\n",
       "      <th>AirportTo</th>\n",
       "      <th>DayOfWeek</th>\n",
       "      <th>Time</th>\n",
       "      <th>Length</th>\n",
       "      <th>Delay</th>\n",
       "    </tr>\n",
       "  </thead>\n",
       "  <tbody>\n",
       "    <tr>\n",
       "      <th>0</th>\n",
       "      <td>1</td>\n",
       "      <td>CO</td>\n",
       "      <td>269</td>\n",
       "      <td>SFO</td>\n",
       "      <td>IAH</td>\n",
       "      <td>3</td>\n",
       "      <td>15</td>\n",
       "      <td>205</td>\n",
       "      <td>1</td>\n",
       "    </tr>\n",
       "    <tr>\n",
       "      <th>1</th>\n",
       "      <td>2</td>\n",
       "      <td>US</td>\n",
       "      <td>1558</td>\n",
       "      <td>PHX</td>\n",
       "      <td>CLT</td>\n",
       "      <td>3</td>\n",
       "      <td>15</td>\n",
       "      <td>222</td>\n",
       "      <td>1</td>\n",
       "    </tr>\n",
       "    <tr>\n",
       "      <th>2</th>\n",
       "      <td>3</td>\n",
       "      <td>AA</td>\n",
       "      <td>2400</td>\n",
       "      <td>LAX</td>\n",
       "      <td>DFW</td>\n",
       "      <td>3</td>\n",
       "      <td>20</td>\n",
       "      <td>165</td>\n",
       "      <td>1</td>\n",
       "    </tr>\n",
       "    <tr>\n",
       "      <th>3</th>\n",
       "      <td>4</td>\n",
       "      <td>AA</td>\n",
       "      <td>2466</td>\n",
       "      <td>SFO</td>\n",
       "      <td>DFW</td>\n",
       "      <td>3</td>\n",
       "      <td>20</td>\n",
       "      <td>195</td>\n",
       "      <td>1</td>\n",
       "    </tr>\n",
       "    <tr>\n",
       "      <th>4</th>\n",
       "      <td>5</td>\n",
       "      <td>AS</td>\n",
       "      <td>108</td>\n",
       "      <td>ANC</td>\n",
       "      <td>SEA</td>\n",
       "      <td>3</td>\n",
       "      <td>30</td>\n",
       "      <td>202</td>\n",
       "      <td>0</td>\n",
       "    </tr>\n",
       "  </tbody>\n",
       "</table>\n",
       "</div>"
      ],
      "text/plain": [
       "   id Airline  Flight AirportFrom AirportTo  DayOfWeek  Time  Length  Delay\n",
       "0   1      CO     269         SFO       IAH          3    15     205      1\n",
       "1   2      US    1558         PHX       CLT          3    15     222      1\n",
       "2   3      AA    2400         LAX       DFW          3    20     165      1\n",
       "3   4      AA    2466         SFO       DFW          3    20     195      1\n",
       "4   5      AS     108         ANC       SEA          3    30     202      0"
      ]
     },
     "execution_count": 3,
     "metadata": {},
     "output_type": "execute_result"
    }
   ],
   "source": [
    "df.head()"
   ]
  },
  {
   "cell_type": "markdown",
   "id": "3edb440f-8fcf-42b0-87d9-5a8d4654c398",
   "metadata": {
    "jp-MarkdownHeadingCollapsed": true,
    "tags": []
   },
   "source": [
    "# Exploratory Data Analysis (EDA)"
   ]
  },
  {
   "cell_type": "code",
   "execution_count": 4,
   "id": "ea02a72a",
   "metadata": {
    "tags": []
   },
   "outputs": [
    {
     "data": {
      "text/plain": [
       "id             0\n",
       "Airline        0\n",
       "Flight         0\n",
       "AirportFrom    0\n",
       "AirportTo      0\n",
       "DayOfWeek      0\n",
       "Time           0\n",
       "Length         0\n",
       "Delay          0\n",
       "dtype: int64"
      ]
     },
     "execution_count": 4,
     "metadata": {},
     "output_type": "execute_result"
    }
   ],
   "source": [
    "df.isna().sum()"
   ]
  },
  {
   "cell_type": "code",
   "execution_count": 5,
   "id": "8e145b5d",
   "metadata": {
    "tags": []
   },
   "outputs": [
    {
     "data": {
      "text/plain": [
       "array(['CO', 'US', 'AA', 'AS', 'DL', 'B6', 'HA', 'OO', '9E', 'OH', 'EV',\n",
       "       'XE', 'YV', 'UA', 'MQ', 'FL', 'F9', 'WN'], dtype=object)"
      ]
     },
     "execution_count": 5,
     "metadata": {},
     "output_type": "execute_result"
    }
   ],
   "source": [
    "df.Airline.unique()"
   ]
  },
  {
   "cell_type": "code",
   "execution_count": 6,
   "id": "e19b01ed",
   "metadata": {},
   "outputs": [
    {
     "data": {
      "text/plain": [
       "293"
      ]
     },
     "execution_count": 6,
     "metadata": {},
     "output_type": "execute_result"
    }
   ],
   "source": [
    "df.AirportFrom.nunique()"
   ]
  },
  {
   "cell_type": "code",
   "execution_count": 7,
   "id": "3267d386",
   "metadata": {},
   "outputs": [
    {
     "data": {
      "text/plain": [
       "293"
      ]
     },
     "execution_count": 7,
     "metadata": {},
     "output_type": "execute_result"
    }
   ],
   "source": [
    "df.AirportTo.nunique()"
   ]
  },
  {
   "cell_type": "code",
   "execution_count": 8,
   "id": "12937f44",
   "metadata": {},
   "outputs": [
    {
     "data": {
      "text/html": [
       "<div>\n",
       "<style scoped>\n",
       "    .dataframe tbody tr th:only-of-type {\n",
       "        vertical-align: middle;\n",
       "    }\n",
       "\n",
       "    .dataframe tbody tr th {\n",
       "        vertical-align: top;\n",
       "    }\n",
       "\n",
       "    .dataframe thead th {\n",
       "        text-align: right;\n",
       "    }\n",
       "</style>\n",
       "<table border=\"1\" class=\"dataframe\">\n",
       "  <thead>\n",
       "    <tr style=\"text-align: right;\">\n",
       "      <th></th>\n",
       "      <th>id</th>\n",
       "      <th>Flight</th>\n",
       "      <th>DayOfWeek</th>\n",
       "      <th>Time</th>\n",
       "      <th>Length</th>\n",
       "      <th>Delay</th>\n",
       "    </tr>\n",
       "  </thead>\n",
       "  <tbody>\n",
       "    <tr>\n",
       "      <th>count</th>\n",
       "      <td>539383.00000</td>\n",
       "      <td>539383.000000</td>\n",
       "      <td>539383.000000</td>\n",
       "      <td>539383.000000</td>\n",
       "      <td>539383.000000</td>\n",
       "      <td>539383.000000</td>\n",
       "    </tr>\n",
       "    <tr>\n",
       "      <th>mean</th>\n",
       "      <td>269692.00000</td>\n",
       "      <td>2427.928630</td>\n",
       "      <td>3.929668</td>\n",
       "      <td>802.728963</td>\n",
       "      <td>132.202007</td>\n",
       "      <td>0.445442</td>\n",
       "    </tr>\n",
       "    <tr>\n",
       "      <th>std</th>\n",
       "      <td>155706.60446</td>\n",
       "      <td>2067.429837</td>\n",
       "      <td>1.914664</td>\n",
       "      <td>278.045911</td>\n",
       "      <td>70.117016</td>\n",
       "      <td>0.497015</td>\n",
       "    </tr>\n",
       "    <tr>\n",
       "      <th>min</th>\n",
       "      <td>1.00000</td>\n",
       "      <td>1.000000</td>\n",
       "      <td>1.000000</td>\n",
       "      <td>10.000000</td>\n",
       "      <td>0.000000</td>\n",
       "      <td>0.000000</td>\n",
       "    </tr>\n",
       "    <tr>\n",
       "      <th>25%</th>\n",
       "      <td>134846.50000</td>\n",
       "      <td>712.000000</td>\n",
       "      <td>2.000000</td>\n",
       "      <td>565.000000</td>\n",
       "      <td>81.000000</td>\n",
       "      <td>0.000000</td>\n",
       "    </tr>\n",
       "    <tr>\n",
       "      <th>50%</th>\n",
       "      <td>269692.00000</td>\n",
       "      <td>1809.000000</td>\n",
       "      <td>4.000000</td>\n",
       "      <td>795.000000</td>\n",
       "      <td>115.000000</td>\n",
       "      <td>0.000000</td>\n",
       "    </tr>\n",
       "    <tr>\n",
       "      <th>75%</th>\n",
       "      <td>404537.50000</td>\n",
       "      <td>3745.000000</td>\n",
       "      <td>5.000000</td>\n",
       "      <td>1035.000000</td>\n",
       "      <td>162.000000</td>\n",
       "      <td>1.000000</td>\n",
       "    </tr>\n",
       "    <tr>\n",
       "      <th>max</th>\n",
       "      <td>539383.00000</td>\n",
       "      <td>7814.000000</td>\n",
       "      <td>7.000000</td>\n",
       "      <td>1439.000000</td>\n",
       "      <td>655.000000</td>\n",
       "      <td>1.000000</td>\n",
       "    </tr>\n",
       "  </tbody>\n",
       "</table>\n",
       "</div>"
      ],
      "text/plain": [
       "                 id         Flight      DayOfWeek           Time  \\\n",
       "count  539383.00000  539383.000000  539383.000000  539383.000000   \n",
       "mean   269692.00000    2427.928630       3.929668     802.728963   \n",
       "std    155706.60446    2067.429837       1.914664     278.045911   \n",
       "min         1.00000       1.000000       1.000000      10.000000   \n",
       "25%    134846.50000     712.000000       2.000000     565.000000   \n",
       "50%    269692.00000    1809.000000       4.000000     795.000000   \n",
       "75%    404537.50000    3745.000000       5.000000    1035.000000   \n",
       "max    539383.00000    7814.000000       7.000000    1439.000000   \n",
       "\n",
       "              Length          Delay  \n",
       "count  539383.000000  539383.000000  \n",
       "mean      132.202007       0.445442  \n",
       "std        70.117016       0.497015  \n",
       "min         0.000000       0.000000  \n",
       "25%        81.000000       0.000000  \n",
       "50%       115.000000       0.000000  \n",
       "75%       162.000000       1.000000  \n",
       "max       655.000000       1.000000  "
      ]
     },
     "execution_count": 8,
     "metadata": {},
     "output_type": "execute_result"
    }
   ],
   "source": [
    "df.describe()"
   ]
  },
  {
   "cell_type": "code",
   "execution_count": 9,
   "id": "b2ed8d4b",
   "metadata": {
    "scrolled": true
   },
   "outputs": [
    {
     "data": {
      "text/html": [
       "<div>\n",
       "<style scoped>\n",
       "    .dataframe tbody tr th:only-of-type {\n",
       "        vertical-align: middle;\n",
       "    }\n",
       "\n",
       "    .dataframe tbody tr th {\n",
       "        vertical-align: top;\n",
       "    }\n",
       "\n",
       "    .dataframe thead th {\n",
       "        text-align: right;\n",
       "    }\n",
       "</style>\n",
       "<table border=\"1\" class=\"dataframe\">\n",
       "  <thead>\n",
       "    <tr style=\"text-align: right;\">\n",
       "      <th></th>\n",
       "      <th>id</th>\n",
       "      <th>Flight</th>\n",
       "      <th>DayOfWeek</th>\n",
       "      <th>Time</th>\n",
       "      <th>Length</th>\n",
       "      <th>Delay</th>\n",
       "    </tr>\n",
       "  </thead>\n",
       "  <tbody>\n",
       "    <tr>\n",
       "      <th>id</th>\n",
       "      <td>1.000000</td>\n",
       "      <td>-0.006156</td>\n",
       "      <td>-0.055474</td>\n",
       "      <td>0.029156</td>\n",
       "      <td>0.020781</td>\n",
       "      <td>0.139762</td>\n",
       "    </tr>\n",
       "    <tr>\n",
       "      <th>Flight</th>\n",
       "      <td>-0.006156</td>\n",
       "      <td>1.000000</td>\n",
       "      <td>0.000416</td>\n",
       "      <td>-0.005750</td>\n",
       "      <td>-0.341481</td>\n",
       "      <td>-0.046175</td>\n",
       "    </tr>\n",
       "    <tr>\n",
       "      <th>DayOfWeek</th>\n",
       "      <td>-0.055474</td>\n",
       "      <td>0.000416</td>\n",
       "      <td>1.000000</td>\n",
       "      <td>0.001273</td>\n",
       "      <td>0.013397</td>\n",
       "      <td>-0.026199</td>\n",
       "    </tr>\n",
       "    <tr>\n",
       "      <th>Time</th>\n",
       "      <td>0.029156</td>\n",
       "      <td>-0.005750</td>\n",
       "      <td>0.001273</td>\n",
       "      <td>1.000000</td>\n",
       "      <td>-0.020612</td>\n",
       "      <td>0.150454</td>\n",
       "    </tr>\n",
       "    <tr>\n",
       "      <th>Length</th>\n",
       "      <td>0.020781</td>\n",
       "      <td>-0.341481</td>\n",
       "      <td>0.013397</td>\n",
       "      <td>-0.020612</td>\n",
       "      <td>1.000000</td>\n",
       "      <td>0.040489</td>\n",
       "    </tr>\n",
       "    <tr>\n",
       "      <th>Delay</th>\n",
       "      <td>0.139762</td>\n",
       "      <td>-0.046175</td>\n",
       "      <td>-0.026199</td>\n",
       "      <td>0.150454</td>\n",
       "      <td>0.040489</td>\n",
       "      <td>1.000000</td>\n",
       "    </tr>\n",
       "  </tbody>\n",
       "</table>\n",
       "</div>"
      ],
      "text/plain": [
       "                 id    Flight  DayOfWeek      Time    Length     Delay\n",
       "id         1.000000 -0.006156  -0.055474  0.029156  0.020781  0.139762\n",
       "Flight    -0.006156  1.000000   0.000416 -0.005750 -0.341481 -0.046175\n",
       "DayOfWeek -0.055474  0.000416   1.000000  0.001273  0.013397 -0.026199\n",
       "Time       0.029156 -0.005750   0.001273  1.000000 -0.020612  0.150454\n",
       "Length     0.020781 -0.341481   0.013397 -0.020612  1.000000  0.040489\n",
       "Delay      0.139762 -0.046175  -0.026199  0.150454  0.040489  1.000000"
      ]
     },
     "execution_count": 9,
     "metadata": {},
     "output_type": "execute_result"
    }
   ],
   "source": [
    "df.corr()"
   ]
  },
  {
   "cell_type": "markdown",
   "id": "30eeb031",
   "metadata": {
    "tags": []
   },
   "source": [
    "## <h1 style=\"color:green\"> DAY OF THE WEEK</h1>"
   ]
  },
  {
   "cell_type": "code",
   "execution_count": 10,
   "id": "dd9b767f",
   "metadata": {},
   "outputs": [
    {
     "data": {
      "text/plain": [
       "<AxesSubplot:xlabel='DayOfWeek'>"
      ]
     },
     "execution_count": 10,
     "metadata": {},
     "output_type": "execute_result"
    },
    {
     "data": {
      "image/png": "[encoded data removed]",
      "text/plain": [
       "<Figure size 432x288 with 1 Axes>"
      ]
     },
     "metadata": {
      "needs_background": "light"
     },
     "output_type": "display_data"
    }
   ],
   "source": [
    "df.groupby(by = [\"DayOfWeek\",\"Delay\"]).agg({\"Delay\":\"count\"}).unstack().plot.bar()"
   ]
  },
  {
   "cell_type": "markdown",
   "id": "b6c12466",
   "metadata": {},
   "source": [
    " <span style=\"color:blue\"> Friday and saturday has less delay than the rest of the week. but the difference is not significant.</span> <span style=\"color:red\">(Can probably perform a hypothesis test here) </span> "
   ]
  },
  {
   "cell_type": "markdown",
   "id": "1e79dffc",
   "metadata": {
    "tags": []
   },
   "source": [
    "## <h1 style=\"color:green\"> AIRLINE</h1>"
   ]
  },
  {
   "cell_type": "code",
   "execution_count": 11,
   "id": "28946781",
   "metadata": {},
   "outputs": [
    {
     "data": {
      "text/plain": [
       "<AxesSubplot:xlabel='Airline'>"
      ]
     },
     "execution_count": 11,
     "metadata": {},
     "output_type": "execute_result"
    },
    {
     "data": {
      "image/png": "[encoded data removed]",
      "text/plain": [
       "<Figure size 432x288 with 1 Axes>"
      ]
     },
     "metadata": {
      "needs_background": "light"
     },
     "output_type": "display_data"
    }
   ],
   "source": [
    "df.groupby(by = [\"Airline\",\"Delay\"]).agg({\"Delay\":\"count\"}).unstack().plot.bar()"
   ]
  },
  {
   "cell_type": "markdown",
   "id": "1a95a727",
   "metadata": {},
   "source": [
    "### F9, CO, WN, DL, B6, OO have high delay rate"
   ]
  },
  {
   "cell_type": "code",
   "execution_count": 12,
   "id": "de979b58",
   "metadata": {},
   "outputs": [
    {
     "data": {
      "text/plain": [
       "count    18.000000\n",
       "mean      0.731688\n",
       "std       0.456504\n",
       "min       0.320855\n",
       "25%       0.485805\n",
       "50%       0.622702\n",
       "75%       0.818570\n",
       "max       2.308615\n",
       "Name: delay_rate, dtype: float64"
      ]
     },
     "execution_count": 12,
     "metadata": {},
     "output_type": "execute_result"
    }
   ],
   "source": [
    "df_by_airline_delayrate = df.groupby(by = [\"Airline\", \"Delay\"]).agg({\"Delay\":\"count\"}).unstack()\n",
    "df_by_airline_delayrate[\"delay_rate\"]= np.divide(df_by_airline_delayrate.iloc[:,1],\n",
    "                                                     df_by_airline_delayrate.iloc[:,0])\n",
    "df_by_airline_delayrate.delay_rate.describe()"
   ]
  },
  {
   "cell_type": "markdown",
   "id": "d0386c3b",
   "metadata": {
    "tags": []
   },
   "source": [
    "## <h1 style=\"color:green\"> AIRPORT</h1>"
   ]
  },
  {
   "cell_type": "code",
   "execution_count": 13,
   "id": "f3536770",
   "metadata": {},
   "outputs": [],
   "source": [
    "df_by_airportfrom_delayrate = df.groupby(by = [\"AirportFrom\", \"Delay\"]).agg({\"Delay\":\"count\"}).unstack()\n",
    "df_by_airportfrom_delayrate[\"delay_rate\"]= np.divide(df_by_airportfrom_delayrate.iloc[:,1],\n",
    "                                                     df_by_airportfrom_delayrate.iloc[:,0])"
   ]
  },
  {
   "cell_type": "code",
   "execution_count": 14,
   "id": "8f4e717a",
   "metadata": {},
   "outputs": [],
   "source": [
    "df_by_airportto_delayrate = df.groupby(by = [\"AirportTo\", \"Delay\"]).agg({\"Delay\":\"count\"}).unstack()\n",
    "df_by_airportto_delayrate[\"delay_rate\"]= np.divide(df_by_airportto_delayrate.iloc[:,1],\n",
    "                                                     df_by_airportto_delayrate.iloc[:,0])"
   ]
  },
  {
   "cell_type": "code",
   "execution_count": 15,
   "id": "a140ddee",
   "metadata": {},
   "outputs": [
    {
     "name": "stderr",
     "output_type": "stream",
     "text": [
      "/Users/linhvien/opt/anaconda3/envs/iod/lib/python3.9/site-packages/seaborn/_decorators.py:36: FutureWarning: Pass the following variable as a keyword arg: x. From version 0.12, the only valid positional argument will be `data`, and passing other arguments without an explicit keyword will result in an error or misinterpretation.\n",
      "  warnings.warn(\n"
     ]
    },
    {
     "data": {
      "text/plain": [
       "<AxesSubplot:xlabel='delay_rate'>"
      ]
     },
     "execution_count": 15,
     "metadata": {},
     "output_type": "execute_result"
    },
    {
     "data": {
      "image/png": "[encoded data removed]",
      "text/plain": [
       "<Figure size 432x288 with 1 Axes>"
      ]
     },
     "metadata": {
      "needs_background": "light"
     },
     "output_type": "display_data"
    }
   ],
   "source": [
    "sns.boxplot(df_by_airportto_delayrate.delay_rate)"
   ]
  },
  {
   "cell_type": "code",
   "execution_count": 16,
   "id": "d01504bb",
   "metadata": {},
   "outputs": [
    {
     "data": {
      "text/plain": [
       "count    292.000000\n",
       "mean       0.783180\n",
       "std        0.318774\n",
       "min        0.192308\n",
       "25%        0.551974\n",
       "50%        0.720338\n",
       "75%        0.992003\n",
       "max        1.755831\n",
       "Name: delay_rate, dtype: float64"
      ]
     },
     "execution_count": 16,
     "metadata": {},
     "output_type": "execute_result"
    }
   ],
   "source": [
    "df_by_airportto_delayrate.delay_rate.describe()"
   ]
  },
  {
   "cell_type": "code",
   "execution_count": 17,
   "id": "5acf3717",
   "metadata": {},
   "outputs": [
    {
     "data": {
      "text/plain": [
       "count    293.000000\n",
       "mean       0.648578\n",
       "std        0.352572\n",
       "min        0.132353\n",
       "25%        0.421053\n",
       "50%        0.583463\n",
       "75%        0.775391\n",
       "max        2.776183\n",
       "Name: delay_rate, dtype: float64"
      ]
     },
     "execution_count": 17,
     "metadata": {},
     "output_type": "execute_result"
    }
   ],
   "source": [
    "df_by_airportfrom_delayrate.delay_rate.describe()"
   ]
  },
  {
   "cell_type": "markdown",
   "id": "df86d527",
   "metadata": {
    "tags": []
   },
   "source": [
    "## <h1 style=\"color:green\"> FEATURE ENGINEERING ON AIRLINE & AIRPORT</h1>"
   ]
  },
  {
   "cell_type": "markdown",
   "id": "7589c0d8",
   "metadata": {},
   "source": [
    "## Airline, Airport from and Airport to are categorical features, but they have too many categories. We will divide each of the feature into 2 categories: below & above the delay rate mean "
   ]
  },
  {
   "cell_type": "code",
   "execution_count": 18,
   "id": "4b733b9b",
   "metadata": {},
   "outputs": [],
   "source": [
    "#calculate the delay rate mean for each Airline:\n",
    "airline_delay_rate_mean = df_by_airline_delayrate.delay_rate.mean()\n",
    "\n",
    "#Generate a list of airline that delay more than average:\n",
    "list_more_delay_airline = df_by_airline_delayrate[df_by_airline_delayrate.delay_rate>\n",
    "                                                  airline_delay_rate_mean].index.values.tolist()\n",
    "\n",
    "df[\"more_delay_airline\"] = df[\"Airline\"].apply(lambda x : 1 if x in list_more_delay_airline\n",
    "                                               else 0)"
   ]
  },
  {
   "cell_type": "code",
   "execution_count": 19,
   "id": "92fae0d1",
   "metadata": {},
   "outputs": [],
   "source": [
    "#calculate the delay rate mean for each AirportFrom:\n",
    "airportfrom_delay_rate_mean = df_by_airportfrom_delayrate.delay_rate.mean()\n",
    "\n",
    "#Generate a list of airportfrom that delay more than average:\n",
    "list_more_delay_airportfrom = df_by_airportfrom_delayrate[df_by_airportfrom_delayrate.delay_rate>\n",
    "                                                  airportfrom_delay_rate_mean].index.values.tolist()\n",
    "\n",
    "df[\"more_delay_airportfrom\"] = df[\"AirportFrom\"].apply(lambda x : 1 if x in list_more_delay_airportfrom\n",
    "                                               else 0)"
   ]
  },
  {
   "cell_type": "code",
   "execution_count": 20,
   "id": "741d7788",
   "metadata": {},
   "outputs": [],
   "source": [
    "#calculate the delay rate mean for each AirportTo:\n",
    "airportto_delay_rate_mean = df_by_airportto_delayrate.delay_rate.mean()\n",
    "\n",
    "#Generate a list of airportto that delay more than average:\n",
    "list_more_delay_airportto = df_by_airportto_delayrate[df_by_airportto_delayrate.delay_rate>\n",
    "                                                  airportto_delay_rate_mean].index.values.tolist()\n",
    "\n",
    "df[\"more_delay_airportto\"] = df[\"AirportTo\"].apply(lambda x : 1 if x in list_more_delay_airportto\n",
    "                                               else 0)"
   ]
  },
  {
   "cell_type": "code",
   "execution_count": 21,
   "id": "5d395414",
   "metadata": {},
   "outputs": [],
   "source": [
    "airportto_most_delay_rate_75 = df_by_airportto_delayrate.delay_rate.quantile(q=0.75)\n",
    "list_most_delay_airportto = df_by_airportto_delayrate[df_by_airportto_delayrate.delay_rate>\n",
    "                                                  airportto_most_delay_rate_75].index.values.tolist()\n",
    "df[\"most_delay_airportto\"] = df[\"AirportTo\"].apply(lambda x : 1 if x in list_most_delay_airportto\n",
    "                                               else 0)"
   ]
  },
  {
   "cell_type": "code",
   "execution_count": 22,
   "id": "31ef706c",
   "metadata": {},
   "outputs": [],
   "source": [
    "airportfrom_most_delay_rate_75 = df_by_airportfrom_delayrate.delay_rate.quantile(q=0.75)\n",
    "list_most_delay_airportfrom = df_by_airportfrom_delayrate[df_by_airportfrom_delayrate.delay_rate>\n",
    "                                                  airportfrom_most_delay_rate_75].index.values.tolist()\n",
    "df[\"most_delay_airportfrom\"] = df[\"AirportFrom\"].apply(lambda x : 1 if x in list_most_delay_airportfrom\n",
    "                                               else 0)"
   ]
  },
  {
   "cell_type": "markdown",
   "id": "0caf78ec",
   "metadata": {
    "tags": []
   },
   "source": [
    "## <h1 style=\"color:green\">TIME & LENGTH</h1>"
   ]
  },
  {
   "cell_type": "code",
   "execution_count": 23,
   "id": "35726fa6",
   "metadata": {},
   "outputs": [],
   "source": [
    "df[\"timeofday\"] = pd.cut(df.Time,bins = 3, labels = [\"morning\",\"afternoon\",\"evening\"])"
   ]
  },
  {
   "cell_type": "code",
   "execution_count": 24,
   "id": "250c990c",
   "metadata": {},
   "outputs": [
    {
     "data": {
      "text/plain": [
       "<AxesSubplot:xlabel='timeofday'>"
      ]
     },
     "execution_count": 24,
     "metadata": {},
     "output_type": "execute_result"
    },
    {
     "data": {
      "image/png": "[encoded data removed]",
      "text/plain": [
       "<Figure size 432x288 with 1 Axes>"
      ]
     },
     "metadata": {
      "needs_background": "light"
     },
     "output_type": "display_data"
    }
   ],
   "source": [
    "df.groupby(by = [\"timeofday\",\"Delay\"]).agg({\"Delay\":\"count\"}).unstack().plot.bar()"
   ]
  },
  {
   "cell_type": "markdown",
   "id": "4e15639d",
   "metadata": {
    "tags": []
   },
   "source": [
    "## We can see that it is <span style=\"color:red\"> less delay in the morning </span> and more delays occur later in the day "
   ]
  },
  {
   "cell_type": "code",
   "execution_count": 25,
   "id": "f2add77f",
   "metadata": {},
   "outputs": [],
   "source": [
    "a = df[df.Time <720][\"Delay\"].sample(100,random_state=1)\n",
    "b = df[df.Time >720][\"Delay\"].sample(100,random_state=1)"
   ]
  },
  {
   "cell_type": "code",
   "execution_count": 26,
   "id": "3f2d0e12",
   "metadata": {},
   "outputs": [
    {
     "name": "stdout",
     "output_type": "stream",
     "text": [
      "t = -3.6663769890642195\n",
      "p = 0.00031600666081269284\n"
     ]
    }
   ],
   "source": [
    "from scipy import stats\n",
    "t,p = stats.ttest_ind(a,b)\n",
    "print(\"t = \" + str(t))\n",
    "print(\"p = \" + str(p))"
   ]
  },
  {
   "cell_type": "markdown",
   "id": "011ee169",
   "metadata": {},
   "source": [
    "<span style=\"color:blue\"> There is a significantly difference in delay rate between early and later in the day. </span>"
   ]
  },
  {
   "cell_type": "code",
   "execution_count": 27,
   "id": "10324473",
   "metadata": {},
   "outputs": [
    {
     "data": {
      "text/plain": [
       "count    539383.000000\n",
       "mean        132.202007\n",
       "std          70.117016\n",
       "min           0.000000\n",
       "25%          81.000000\n",
       "50%         115.000000\n",
       "75%         162.000000\n",
       "max         655.000000\n",
       "Name: Length, dtype: float64"
      ]
     },
     "execution_count": 27,
     "metadata": {},
     "output_type": "execute_result"
    }
   ],
   "source": [
    "df.Length.describe()"
   ]
  },
  {
   "cell_type": "code",
   "execution_count": 28,
   "id": "c9509ea9",
   "metadata": {},
   "outputs": [],
   "source": [
    "c = df[df.Length <115][\"Delay\"].sample(100,random_state=1)\n",
    "d = df[df.Length >115][\"Delay\"].sample(100,random_state=1)"
   ]
  },
  {
   "cell_type": "code",
   "execution_count": 29,
   "id": "7b3348d6",
   "metadata": {},
   "outputs": [
    {
     "name": "stdout",
     "output_type": "stream",
     "text": [
      "t = -1.4167918937066917\n",
      "p = 0.1581152309552422\n"
     ]
    }
   ],
   "source": [
    "t2,p2 = stats.ttest_ind(c,d)\n",
    "print(\"t = \" + str(t2))\n",
    "print(\"p = \" + str(p2))"
   ]
  },
  {
   "cell_type": "markdown",
   "id": "76bb3617",
   "metadata": {
    "jp-MarkdownHeadingCollapsed": true,
    "tags": []
   },
   "source": [
    "## There is <span style=\"color:red\">  no difference in delay rate </span> between long & short flights "
   ]
  },
  {
   "cell_type": "markdown",
   "id": "593eb3b5",
   "metadata": {
    "tags": []
   },
   "source": [
    "<h1 style=\"color:green\">CLASSIFICATION</h1>"
   ]
  },
  {
   "cell_type": "code",
   "execution_count": 30,
   "id": "39eb77f9",
   "metadata": {
    "tags": []
   },
   "outputs": [
    {
     "data": {
      "text/html": [
       "<div>\n",
       "<style scoped>\n",
       "    .dataframe tbody tr th:only-of-type {\n",
       "        vertical-align: middle;\n",
       "    }\n",
       "\n",
       "    .dataframe tbody tr th {\n",
       "        vertical-align: top;\n",
       "    }\n",
       "\n",
       "    .dataframe thead th {\n",
       "        text-align: right;\n",
       "    }\n",
       "</style>\n",
       "<table border=\"1\" class=\"dataframe\">\n",
       "  <thead>\n",
       "    <tr style=\"text-align: right;\">\n",
       "      <th></th>\n",
       "      <th>id</th>\n",
       "      <th>Airline</th>\n",
       "      <th>Flight</th>\n",
       "      <th>AirportFrom</th>\n",
       "      <th>AirportTo</th>\n",
       "      <th>DayOfWeek</th>\n",
       "      <th>Time</th>\n",
       "      <th>Length</th>\n",
       "      <th>Delay</th>\n",
       "      <th>more_delay_airline</th>\n",
       "      <th>more_delay_airportfrom</th>\n",
       "      <th>more_delay_airportto</th>\n",
       "      <th>most_delay_airportto</th>\n",
       "      <th>most_delay_airportfrom</th>\n",
       "      <th>timeofday</th>\n",
       "    </tr>\n",
       "  </thead>\n",
       "  <tbody>\n",
       "    <tr>\n",
       "      <th>0</th>\n",
       "      <td>1</td>\n",
       "      <td>CO</td>\n",
       "      <td>269</td>\n",
       "      <td>SFO</td>\n",
       "      <td>IAH</td>\n",
       "      <td>3</td>\n",
       "      <td>15</td>\n",
       "      <td>205</td>\n",
       "      <td>1</td>\n",
       "      <td>1</td>\n",
       "      <td>1</td>\n",
       "      <td>0</td>\n",
       "      <td>0</td>\n",
       "      <td>1</td>\n",
       "      <td>morning</td>\n",
       "    </tr>\n",
       "  </tbody>\n",
       "</table>\n",
       "</div>"
      ],
      "text/plain": [
       "   id Airline  Flight AirportFrom AirportTo  DayOfWeek  Time  Length  Delay  \\\n",
       "0   1      CO     269         SFO       IAH          3    15     205      1   \n",
       "\n",
       "   more_delay_airline  more_delay_airportfrom  more_delay_airportto  \\\n",
       "0                   1                       1                     0   \n",
       "\n",
       "   most_delay_airportto  most_delay_airportfrom timeofday  \n",
       "0                     0                       1   morning  "
      ]
     },
     "execution_count": 30,
     "metadata": {},
     "output_type": "execute_result"
    }
   ],
   "source": [
    "from sklearn.model_selection import train_test_split\n",
    "from sklearn import metrics\n",
    "from sklearn.metrics import accuracy_score, confusion_matrix\n",
    "from sklearn.metrics import classification_report\n",
    "from sklearn.preprocessing import StandardScaler\n",
    "import matplotlib.pyplot as plt\n",
    "from colorama import Fore\n",
    "from colorama import Style\n",
    "from sklearn.pipeline import make_pipeline\n",
    "from sklearn.model_selection import cross_val_score\n",
    "from sklearn.linear_model import LogisticRegression\n",
    "from sklearn import tree\n",
    "from sklearn.calibration import CalibratedClassifierCV\n",
    "from sklearn.svm import LinearSVC\n",
    "%matplotlib inline\n",
    "df.head(1)"
   ]
  },
  {
   "cell_type": "code",
   "execution_count": 31,
   "id": "3481ffc0",
   "metadata": {},
   "outputs": [],
   "source": [
    "#Define tested features and target variable\n",
    "tested_feature_list = [\"more_delay_airline\",\"Time\"]\n",
    "scaler = StandardScaler()\n",
    "# transform data\n",
    "X = df.loc[:,tested_feature_list]\n",
    "y = df.Delay"
   ]
  },
  {
   "cell_type": "code",
   "execution_count": 32,
   "id": "3d25c708",
   "metadata": {},
   "outputs": [],
   "source": [
    "#Spliting datasest\n",
    "X_train,X_test, y_train,y_test = train_test_split(X,y, test_size = 0.2,random_state = 1)"
   ]
  },
  {
   "cell_type": "code",
   "execution_count": 33,
   "id": "8777d6e4-d0c6-4c4b-85cf-42cf300279e0",
   "metadata": {
    "tags": []
   },
   "outputs": [],
   "source": [
    "  # Plot the ROC Curve\n",
    "def plot_model(X_test, y_test, MODELs):\n",
    "    fpr, tpr, _ = metrics.roc_curve(y_test, MODELs)    \n",
    "\n",
    "    # Store the Area Under the Curve (AUC) so we can annotate our graph with theis metric\n",
    "    roc_auc = metrics.auc(fpr, tpr)\n",
    "    \n",
    "    # Calculate AUC of model\n",
    "    AUC = metrics.roc_auc_score(y_test, MODELs)\n",
    "    print(f\"{Fore.GREEN}The area under the curve is{Style.RESET_ALL}\", AUC)\n",
    "\n",
    "    plt.figure()\n",
    "    lw = 2\n",
    "    plt.plot(fpr, tpr, color='darkorange', lw = lw, label = 'ROC curve (area = %0.2f)' % roc_auc)\n",
    "    plt.plot([0, 1], [0, 1], color = 'navy', lw = lw, linestyle = '--')\n",
    "    plt.xlim([0.0, 1.0])\n",
    "    plt.ylim([0.0, 1.0])\n",
    "    plt.xlabel('False Positive Rate')\n",
    "    plt.ylabel('True Positive Rate')\n",
    "    plt.title('ROC Curve for current model')\n",
    "    plt.legend(loc = \"lower right\")\n",
    "    plt.show()"
   ]
  },
  {
   "cell_type": "code",
   "execution_count": 34,
   "id": "f2821971-efe6-4959-8e43-df341e847722",
   "metadata": {},
   "outputs": [],
   "source": [
    " # Plot heatmap\n",
    "def score_heatmap(X_test, y_pred):\n",
    "    ac = accuracy_score(y_test, y_pred)\n",
    "    print('Accuracy:', ac)\n",
    "    cm = confusion_matrix(y_test,y_pred)\n",
    "    sns.heatmap(cm, annot=True, fmt='d');\n",
    "    print(classification_report(y_test,y_pred))"
   ]
  },
  {
   "cell_type": "code",
   "execution_count": 71,
   "id": "c933a0ff-81f9-440b-894f-8bf8a8619fb8",
   "metadata": {},
   "outputs": [],
   "source": [
    "# Calculate accuracy, precision, recall, f1-score, and kappa score\n",
    "def evaluate_model(y_test, y_pred):\n",
    "     acc = metrics.accuracy_score(y_test, y_pred)\n",
    "     prec = metrics.precision_score(y_test, y_pred)\n",
    "     rec = metrics.recall_score(y_test, y_pred)\n",
    "     f1 = metrics.f1_score(y_test, y_pred)\n",
    "     kappa = metrics.cohen_kappa_score(y_test, y_pred)\n",
    "    \n",
    "     print(\"Accuracy: \", acc)\n",
    "     print(\"Precision: \", prec)\n",
    "     print(\"Recall:\", rec)\n",
    "     print(\"f1 Score:\", f1)\n",
    "     print(\"Cohens Kappa Score:\", kappa)\n",
    "     return acc,prec"
   ]
  },
  {
   "cell_type": "markdown",
   "id": "9d3beed3",
   "metadata": {
    "jp-MarkdownHeadingCollapsed": true,
    "tags": []
   },
   "source": [
    "# Logistic Regression"
   ]
  },
  {
   "cell_type": "code",
   "execution_count": 36,
   "id": "23c5685b",
   "metadata": {},
   "outputs": [],
   "source": [
    "logreg = LogisticRegression()\n",
    "logreg_model = make_pipeline(scaler,logreg)"
   ]
  },
  {
   "cell_type": "code",
   "execution_count": 37,
   "id": "a9533bd9",
   "metadata": {},
   "outputs": [
    {
     "name": "stdout",
     "output_type": "stream",
     "text": [
      "Model score in Train Dataset is  0.6284454909085853\n",
      "Model score in Test Dataset is  0.6274831521084198\n"
     ]
    }
   ],
   "source": [
    "logreg_model.fit(X_train,y_train)\n",
    "# Scores in Train vs Test Dataset\n",
    "print(\"Model score in Train Dataset is \", logreg_model.score(X_train,y_train))\n",
    "print(\"Model score in Test Dataset is \", logreg_model.score(X_test,y_test))"
   ]
  },
  {
   "cell_type": "code",
   "execution_count": 38,
   "id": "c5513490",
   "metadata": {},
   "outputs": [
    {
     "name": "stdout",
     "output_type": "stream",
     "text": [
      "[['TN' 'FP']\n",
      " ['FN' 'TP']]\n",
      "[[45752 14007]\n",
      " [26179 21939]]\n"
     ]
    }
   ],
   "source": [
    "# Confussion Matrics\n",
    "y_pred_class = logreg_model.predict(X_test)\n",
    "print(np.asarray([['TN', 'FP'], ['FN', 'TP']]))\n",
    "print(metrics.confusion_matrix(y_test, y_pred_class))"
   ]
  },
  {
   "cell_type": "code",
   "execution_count": 39,
   "id": "d3968556-5464-4a9f-9752-d5533f410e2b",
   "metadata": {},
   "outputs": [
    {
     "name": "stdout",
     "output_type": "stream",
     "text": [
      "Accuracy:  0.6274831521084198\n",
      "Precision:  0.6103321649140377\n",
      "Recall: 0.4559416434598279\n",
      "f1 Score: 0.5219594594594594\n",
      "Cohens Kappa Score: 0.22714668711520658\n"
     ]
    }
   ],
   "source": [
    "evaluate_model(y_test, y_pred_class)"
   ]
  },
  {
   "cell_type": "code",
   "execution_count": 40,
   "id": "b5d41d3a-a008-4dc5-8473-8e45efa44366",
   "metadata": {},
   "outputs": [
    {
     "name": "stdout",
     "output_type": "stream",
     "text": [
      "\u001b[32mThe area under the curve is\u001b[0m 0.6480746778130947\n"
     ]
    },
    {
     "data": {
      "image/png": "[encoded data removed]",
      "text/plain": [
       "<Figure size 432x288 with 1 Axes>"
      ]
     },
     "metadata": {
      "needs_background": "light"
     },
     "output_type": "display_data"
    }
   ],
   "source": [
    "preds_log = logreg_model.predict_proba(X_test)[:,1]\n",
    "# Generate the prediction values for each of the test observations using predict_proba() \n",
    "# function rather than just predict\n",
    "\n",
    "plot_model(X_test, y_test, preds_log)"
   ]
  },
  {
   "cell_type": "code",
   "execution_count": 41,
   "id": "55b3e8fd",
   "metadata": {
    "tags": []
   },
   "outputs": [
    {
     "name": "stdout",
     "output_type": "stream",
     "text": [
      "0.628004622701361\n"
     ]
    }
   ],
   "source": [
    "target_col = 'Delay'\n",
    "feature_cols = tested_feature_list\n",
    "logreg = LogisticRegression()\n",
    "scores_log = cross_val_score(logreg, df[feature_cols], df[target_col], cv=5)\n",
    "Score_log_mean = scores_log.mean()\n",
    "print (Score_log_mean)"
   ]
  },
  {
   "cell_type": "code",
   "execution_count": 42,
   "id": "ea3dfe52-0d37-4da1-90d2-26037a4c25b5",
   "metadata": {},
   "outputs": [
    {
     "name": "stdout",
     "output_type": "stream",
     "text": [
      "Accuracy: 0.6274831521084198\n",
      "              precision    recall  f1-score   support\n",
      "\n",
      "           0       0.64      0.77      0.69     59759\n",
      "           1       0.61      0.46      0.52     48118\n",
      "\n",
      "    accuracy                           0.63    107877\n",
      "   macro avg       0.62      0.61      0.61    107877\n",
      "weighted avg       0.62      0.63      0.62    107877\n",
      "\n"
     ]
    },
    {
     "data": {
      "image/png": "[encoded data removed]",
      "text/plain": [
       "<Figure size 432x288 with 2 Axes>"
      ]
     },
     "metadata": {
      "needs_background": "light"
     },
     "output_type": "display_data"
    }
   ],
   "source": [
    "score_heatmap(X_test, y_pred_class)"
   ]
  },
  {
   "cell_type": "markdown",
   "id": "ed27dbef-2cff-4752-8f57-e94cbda7d183",
   "metadata": {
    "jp-MarkdownHeadingCollapsed": true,
    "tags": []
   },
   "source": [
    "# Naive Bayes"
   ]
  },
  {
   "cell_type": "code",
   "execution_count": 43,
   "id": "e7e9347c-7405-41ba-8313-888491a60b1d",
   "metadata": {},
   "outputs": [],
   "source": [
    "from sklearn.naive_bayes import GaussianNB"
   ]
  },
  {
   "cell_type": "code",
   "execution_count": 44,
   "id": "c40132b7-0776-4768-b441-97b8d66e0a74",
   "metadata": {},
   "outputs": [
    {
     "name": "stdout",
     "output_type": "stream",
     "text": [
      "Model score in Train Dataset is  0.6305242569048866\n",
      "Model score in Test Dataset is  0.6306719690017335\n"
     ]
    }
   ],
   "source": [
    "Nb = GaussianNB()\n",
    "Nb_model = make_pipeline(scaler,Nb)\n",
    "Nb_model.fit(X_train, y_train)\n",
    "# Scores in Train vs Test Dataset\n",
    "print(\"Model score in Train Dataset is \", Nb_model.score(X_train,y_train))\n",
    "print(\"Model score in Test Dataset is \", Nb_model.score(X_test,y_test))"
   ]
  },
  {
   "cell_type": "code",
   "execution_count": 45,
   "id": "efa28bc4-53b6-4f0e-a1b2-bbcb6742acfe",
   "metadata": {},
   "outputs": [
    {
     "name": "stdout",
     "output_type": "stream",
     "text": [
      "[['TN' 'FP']\n",
      " ['FN' 'TP']]\n",
      "[[45579 14180]\n",
      " [25662 22456]]\n"
     ]
    }
   ],
   "source": [
    "y_pred_Nb = Nb_model.predict(X_test)\n",
    "print(np.asarray([['TN', 'FP'], ['FN', 'TP']]))\n",
    "print(metrics.confusion_matrix(y_test, y_pred_Nb))"
   ]
  },
  {
   "cell_type": "code",
   "execution_count": 46,
   "id": "3c356a2c-2530-4f13-a45e-d0d3a3ddd685",
   "metadata": {},
   "outputs": [
    {
     "name": "stdout",
     "output_type": "stream",
     "text": [
      "Accuracy:  0.6306719690017335\n",
      "Precision:  0.6129490119008626\n",
      "Recall: 0.46668606342740765\n",
      "f1 Score: 0.5299100927389859\n",
      "Cohens Kappa Score: 0.23485811967713777\n"
     ]
    }
   ],
   "source": [
    "evaluate_model(y_test, y_pred_Nb)"
   ]
  },
  {
   "cell_type": "code",
   "execution_count": 47,
   "id": "754aa0c9-cc86-43d5-94b8-e07af981ce8e",
   "metadata": {},
   "outputs": [
    {
     "name": "stdout",
     "output_type": "stream",
     "text": [
      "\u001b[32mThe area under the curve is\u001b[0m 0.6492491856574905\n"
     ]
    },
    {
     "data": {
      "image/png": "[encoded data removed]",
      "text/plain": [
       "<Figure size 432x288 with 1 Axes>"
      ]
     },
     "metadata": {
      "needs_background": "light"
     },
     "output_type": "display_data"
    }
   ],
   "source": [
    "preds_Nb = Nb_model.predict_proba(X_test)[:,1]\n",
    "plot_model(X_test, y_test, preds_Nb)"
   ]
  },
  {
   "cell_type": "code",
   "execution_count": 48,
   "id": "06e00e60-3331-4b4e-91bd-2d8e0f1f1e97",
   "metadata": {},
   "outputs": [
    {
     "name": "stdout",
     "output_type": "stream",
     "text": [
      "0.6303499012060941\n"
     ]
    }
   ],
   "source": [
    "scores_nb = cross_val_score(Nb_model, df[feature_cols], df[target_col], cv=5)\n",
    "Score_nb_mean = scores_nb.mean()\n",
    "print (Score_nb_mean)"
   ]
  },
  {
   "cell_type": "code",
   "execution_count": 49,
   "id": "ec21f113-fcbc-4699-beab-687fa320f5d9",
   "metadata": {},
   "outputs": [
    {
     "name": "stdout",
     "output_type": "stream",
     "text": [
      "Accuracy: 0.6306719690017335\n",
      "              precision    recall  f1-score   support\n",
      "\n",
      "           0       0.64      0.76      0.70     59759\n",
      "           1       0.61      0.47      0.53     48118\n",
      "\n",
      "    accuracy                           0.63    107877\n",
      "   macro avg       0.63      0.61      0.61    107877\n",
      "weighted avg       0.63      0.63      0.62    107877\n",
      "\n"
     ]
    },
    {
     "data": {
      "image/png": "[encoded data removed]",
      "text/plain": [
       "<Figure size 432x288 with 2 Axes>"
      ]
     },
     "metadata": {
      "needs_background": "light"
     },
     "output_type": "display_data"
    }
   ],
   "source": [
    "score_heatmap(X_test, y_pred_Nb)"
   ]
  },
  {
   "cell_type": "markdown",
   "id": "04515da5-7765-46cc-af97-3de3921cc475",
   "metadata": {},
   "source": [
    "## <span style=\"color:red\"> True Positive is higher than the logistic classification </span>"
   ]
  },
  {
   "cell_type": "markdown",
   "id": "8b4f0785-2884-478d-aeab-6d2228e0ec7a",
   "metadata": {
    "jp-MarkdownHeadingCollapsed": true,
    "tags": []
   },
   "source": [
    "# Decision Tree"
   ]
  },
  {
   "cell_type": "code",
   "execution_count": 50,
   "id": "d81c3997-3728-4918-92ba-8d1accda96da",
   "metadata": {
    "scrolled": true
   },
   "outputs": [
    {
     "name": "stdout",
     "output_type": "stream",
     "text": [
      "Model score in Train Dataset is  0.6390038608964881\n",
      "Model score in Test Dataset is  0.6340925313088054\n"
     ]
    }
   ],
   "source": [
    "DT_model=tree.DecisionTreeClassifier(random_state=0)\n",
    "DT_model.fit(X_train,y_train)\n",
    "# Scores in Train vs Test Dataset\n",
    "print(\"Model score in Train Dataset is \", DT_model.score(X_train,y_train))\n",
    "print(\"Model score in Test Dataset is \", DT_model.score(X_test,y_test))"
   ]
  },
  {
   "cell_type": "code",
   "execution_count": 51,
   "id": "8bd6692e-5df3-43cb-9f17-c23053498bfa",
   "metadata": {},
   "outputs": [
    {
     "name": "stdout",
     "output_type": "stream",
     "text": [
      "[['TN' 'FP']\n",
      " ['FN' 'TP']]\n",
      "[[46795 12964]\n",
      " [26509 21609]]\n"
     ]
    }
   ],
   "source": [
    "y_pred_DT = DT_model.predict(X_test)\n",
    "print(np.asarray([['TN', 'FP'], ['FN', 'TP']]))\n",
    "print(metrics.confusion_matrix(y_test, y_pred_DT))"
   ]
  },
  {
   "cell_type": "code",
   "execution_count": 52,
   "id": "c235b211-4d2d-481a-bef7-da864618d98d",
   "metadata": {},
   "outputs": [
    {
     "name": "stdout",
     "output_type": "stream",
     "text": [
      "Accuracy:  0.6340925313088054\n",
      "Precision:  0.6250253087669568\n",
      "Recall: 0.44908350305498984\n",
      "f1 Score: 0.5226445441462796\n",
      "Cohens Kappa Score: 0.23868975339208864\n"
     ]
    }
   ],
   "source": [
    "evaluate_model(y_test, y_pred_DT)"
   ]
  },
  {
   "cell_type": "code",
   "execution_count": 53,
   "id": "8b690005-efb6-4d3f-9ba9-b319e844048d",
   "metadata": {},
   "outputs": [
    {
     "name": "stdout",
     "output_type": "stream",
     "text": [
      "\u001b[32mThe area under the curve is\u001b[0m 0.6642808711350929\n"
     ]
    },
    {
     "data": {
      "image/png": "[encoded data removed]",
      "text/plain": [
       "<Figure size 432x288 with 1 Axes>"
      ]
     },
     "metadata": {
      "needs_background": "light"
     },
     "output_type": "display_data"
    }
   ],
   "source": [
    "preds_DT = DT_model.predict_proba(X_test)[:,1]\n",
    "plot_model(X_test, y_test, preds_DT)\n"
   ]
  },
  {
   "cell_type": "code",
   "execution_count": 54,
   "id": "71b8ca35-5ef3-4eec-8137-95a5111527d3",
   "metadata": {},
   "outputs": [
    {
     "name": "stdout",
     "output_type": "stream",
     "text": [
      "0.6331660742410399\n"
     ]
    }
   ],
   "source": [
    "scores_DT = cross_val_score(DT_model, df[feature_cols], df[target_col], cv=5)\n",
    "Score_DT_mean = scores_DT.mean()\n",
    "print (Score_DT_mean)"
   ]
  },
  {
   "cell_type": "code",
   "execution_count": 55,
   "id": "6b25174b-72cd-4e95-976e-d3b1181cd3a4",
   "metadata": {},
   "outputs": [
    {
     "name": "stdout",
     "output_type": "stream",
     "text": [
      "Accuracy: 0.6340925313088054\n",
      "              precision    recall  f1-score   support\n",
      "\n",
      "           0       0.64      0.78      0.70     59759\n",
      "           1       0.63      0.45      0.52     48118\n",
      "\n",
      "    accuracy                           0.63    107877\n",
      "   macro avg       0.63      0.62      0.61    107877\n",
      "weighted avg       0.63      0.63      0.62    107877\n",
      "\n"
     ]
    },
    {
     "data": {
      "image/png": "[encoded data removed]",
      "text/plain": [
       "<Figure size 432x288 with 2 Axes>"
      ]
     },
     "metadata": {
      "needs_background": "light"
     },
     "output_type": "display_data"
    }
   ],
   "source": [
    "score_heatmap(X_test, y_pred_DT)"
   ]
  },
  {
   "cell_type": "markdown",
   "id": "fea2f2d1",
   "metadata": {
    "jp-MarkdownHeadingCollapsed": true,
    "tags": []
   },
   "source": [
    "# Support Vector Machine"
   ]
  },
  {
   "cell_type": "code",
   "execution_count": 56,
   "id": "f90cb5e3-8776-4301-95fd-cd1f6942c94f",
   "metadata": {},
   "outputs": [
    {
     "name": "stdout",
     "output_type": "stream",
     "text": [
      "Model score in Train Dataset is  0.6288626345867728\n",
      "Model score in Test Dataset is  0.6284286733965535\n"
     ]
    }
   ],
   "source": [
    "SVC_model=LinearSVC()\n",
    "SVC_model = CalibratedClassifierCV(SVC_model) \n",
    "SVC_model = make_pipeline(scaler,SVC_model)\n",
    "SVC_model.fit(X_train,y_train)\n",
    "# Scores in Train vs Test Dataset\n",
    "print(\"Model score in Train Dataset is \", SVC_model.score(X_train,y_train))\n",
    "print(\"Model score in Test Dataset is \", SVC_model.score(X_test,y_test))"
   ]
  },
  {
   "cell_type": "code",
   "execution_count": 57,
   "id": "54675319",
   "metadata": {},
   "outputs": [
    {
     "data": {
      "text/html": [
       "<style>#sk-container-id-1 {color: black;background-color: white;}#sk-container-id-1 pre{padding: 0;}#sk-container-id-1 div.sk-toggleable {background-color: white;}#sk-container-id-1 label.sk-toggleable__label {cursor: pointer;display: block;width: 100%;margin-bottom: 0;padding: 0.3em;box-sizing: border-box;text-align: center;}#sk-container-id-1 label.sk-toggleable__label-arrow:before {content: \"▸\";float: left;margin-right: 0.25em;color: #696969;}#sk-container-id-1 label.sk-toggleable__label-arrow:hover:before {color: black;}#sk-container-id-1 div.sk-estimator:hover label.sk-toggleable__label-arrow:before {color: black;}#sk-container-id-1 div.sk-toggleable__content {max-height: 0;max-width: 0;overflow: hidden;text-align: left;background-color: #f0f8ff;}#sk-container-id-1 div.sk-toggleable__content pre {margin: 0.2em;color: black;border-radius: 0.25em;background-color: #f0f8ff;}#sk-container-id-1 input.sk-toggleable__control:checked~div.sk-toggleable__content {max-height: 200px;max-width: 100%;overflow: auto;}#sk-container-id-1 input.sk-toggleable__control:checked~label.sk-toggleable__label-arrow:before {content: \"▾\";}#sk-container-id-1 div.sk-estimator input.sk-toggleable__control:checked~label.sk-toggleable__label {background-color: #d4ebff;}#sk-container-id-1 div.sk-label input.sk-toggleable__control:checked~label.sk-toggleable__label {background-color: #d4ebff;}#sk-container-id-1 input.sk-hidden--visually {border: 0;clip: rect(1px 1px 1px 1px);clip: rect(1px, 1px, 1px, 1px);height: 1px;margin: -1px;overflow: hidden;padding: 0;position: absolute;width: 1px;}#sk-container-id-1 div.sk-estimator {font-family: monospace;background-color: #f0f8ff;border: 1px dotted black;border-radius: 0.25em;box-sizing: border-box;margin-bottom: 0.5em;}#sk-container-id-1 div.sk-estimator:hover {background-color: #d4ebff;}#sk-container-id-1 div.sk-parallel-item::after {content: \"\";width: 100%;border-bottom: 1px solid gray;flex-grow: 1;}#sk-container-id-1 div.sk-label:hover label.sk-toggleable__label {background-color: #d4ebff;}#sk-container-id-1 div.sk-serial::before {content: \"\";position: absolute;border-left: 1px solid gray;box-sizing: border-box;top: 0;bottom: 0;left: 50%;z-index: 0;}#sk-container-id-1 div.sk-serial {display: flex;flex-direction: column;align-items: center;background-color: white;padding-right: 0.2em;padding-left: 0.2em;position: relative;}#sk-container-id-1 div.sk-item {position: relative;z-index: 1;}#sk-container-id-1 div.sk-parallel {display: flex;align-items: stretch;justify-content: center;background-color: white;position: relative;}#sk-container-id-1 div.sk-item::before, #sk-container-id-1 div.sk-parallel-item::before {content: \"\";position: absolute;border-left: 1px solid gray;box-sizing: border-box;top: 0;bottom: 0;left: 50%;z-index: -1;}#sk-container-id-1 div.sk-parallel-item {display: flex;flex-direction: column;z-index: 1;position: relative;background-color: white;}#sk-container-id-1 div.sk-parallel-item:first-child::after {align-self: flex-end;width: 50%;}#sk-container-id-1 div.sk-parallel-item:last-child::after {align-self: flex-start;width: 50%;}#sk-container-id-1 div.sk-parallel-item:only-child::after {width: 0;}#sk-container-id-1 div.sk-dashed-wrapped {border: 1px dashed gray;margin: 0 0.4em 0.5em 0.4em;box-sizing: border-box;padding-bottom: 0.4em;background-color: white;}#sk-container-id-1 div.sk-label label {font-family: monospace;font-weight: bold;display: inline-block;line-height: 1.2em;}#sk-container-id-1 div.sk-label-container {text-align: center;}#sk-container-id-1 div.sk-container {/* jupyter's `normalize.less` sets `[hidden] { display: none; }` but bootstrap.min.css set `[hidden] { display: none !important; }` so we also need the `!important` here to be able to override the default hidden behavior on the sphinx rendered scikit-learn.org. See: https://github.com/scikit-learn/scikit-learn/issues/21755 */display: inline-block !important;position: relative;}#sk-container-id-1 div.sk-text-repr-fallback {display: none;}</style><div id=\"sk-container-id-1\" class=\"sk-top-container\"><div class=\"sk-text-repr-fallback\"><pre>Pipeline(steps=[(&#x27;standardscaler&#x27;, StandardScaler()),\n",
       "                (&#x27;calibratedclassifiercv&#x27;,\n",
       "                 CalibratedClassifierCV(base_estimator=LinearSVC()))])</pre><b>In a Jupyter environment, please rerun this cell to show the HTML representation or trust the notebook. <br />On GitHub, the HTML representation is unable to render, please try loading this page with nbviewer.org.</b></div><div class=\"sk-container\" hidden><div class=\"sk-item sk-dashed-wrapped\"><div class=\"sk-label-container\"><div class=\"sk-label sk-toggleable\"><input class=\"sk-toggleable__control sk-hidden--visually\" id=\"sk-estimator-id-1\" type=\"checkbox\" ><label for=\"sk-estimator-id-1\" class=\"sk-toggleable__label sk-toggleable__label-arrow\">Pipeline</label><div class=\"sk-toggleable__content\"><pre>Pipeline(steps=[(&#x27;standardscaler&#x27;, StandardScaler()),\n",
       "                (&#x27;calibratedclassifiercv&#x27;,\n",
       "                 CalibratedClassifierCV(base_estimator=LinearSVC()))])</pre></div></div></div><div class=\"sk-serial\"><div class=\"sk-item\"><div class=\"sk-estimator sk-toggleable\"><input class=\"sk-toggleable__control sk-hidden--visually\" id=\"sk-estimator-id-2\" type=\"checkbox\" ><label for=\"sk-estimator-id-2\" class=\"sk-toggleable__label sk-toggleable__label-arrow\">StandardScaler</label><div class=\"sk-toggleable__content\"><pre>StandardScaler()</pre></div></div></div><div class=\"sk-item sk-dashed-wrapped\"><div class=\"sk-label-container\"><div class=\"sk-label sk-toggleable\"><input class=\"sk-toggleable__control sk-hidden--visually\" id=\"sk-estimator-id-3\" type=\"checkbox\" ><label for=\"sk-estimator-id-3\" class=\"sk-toggleable__label sk-toggleable__label-arrow\">calibratedclassifiercv: CalibratedClassifierCV</label><div class=\"sk-toggleable__content\"><pre>CalibratedClassifierCV(base_estimator=LinearSVC())</pre></div></div></div><div class=\"sk-parallel\"><div class=\"sk-parallel-item\"><div class=\"sk-item\"><div class=\"sk-label-container\"><div class=\"sk-label sk-toggleable\"><input class=\"sk-toggleable__control sk-hidden--visually\" id=\"sk-estimator-id-4\" type=\"checkbox\" ><label for=\"sk-estimator-id-4\" class=\"sk-toggleable__label sk-toggleable__label-arrow\">base_estimator: LinearSVC</label><div class=\"sk-toggleable__content\"><pre>LinearSVC()</pre></div></div></div><div class=\"sk-serial\"><div class=\"sk-item\"><div class=\"sk-estimator sk-toggleable\"><input class=\"sk-toggleable__control sk-hidden--visually\" id=\"sk-estimator-id-5\" type=\"checkbox\" ><label for=\"sk-estimator-id-5\" class=\"sk-toggleable__label sk-toggleable__label-arrow\">LinearSVC</label><div class=\"sk-toggleable__content\"><pre>LinearSVC()</pre></div></div></div></div></div></div></div></div></div></div></div></div>"
      ],
      "text/plain": [
       "Pipeline(steps=[('standardscaler', StandardScaler()),\n",
       "                ('calibratedclassifiercv',\n",
       "                 CalibratedClassifierCV(base_estimator=LinearSVC()))])"
      ]
     },
     "execution_count": 57,
     "metadata": {},
     "output_type": "execute_result"
    }
   ],
   "source": [
    "SVC_model"
   ]
  },
  {
   "cell_type": "code",
   "execution_count": 58,
   "id": "8f9f242f-7b91-4095-898e-3eb7b2c97b1d",
   "metadata": {},
   "outputs": [
    {
     "name": "stdout",
     "output_type": "stream",
     "text": [
      "[['TN' 'FP']\n",
      " ['FN' 'TP']]\n",
      "[[45770 13989]\n",
      " [26095 22023]]\n"
     ]
    }
   ],
   "source": [
    "y_pred_SVC = SVC_model.predict(X_test)\n",
    "print(np.asarray([['TN', 'FP'], ['FN', 'TP']]))\n",
    "print(metrics.confusion_matrix(y_test, y_pred_SVC))"
   ]
  },
  {
   "cell_type": "code",
   "execution_count": 59,
   "id": "07d72019-c7bf-4ad6-8c78-b1c5bebcad38",
   "metadata": {},
   "outputs": [
    {
     "name": "stdout",
     "output_type": "stream",
     "text": [
      "Accuracy:  0.6284286733965535\n",
      "Precision:  0.6115461512829057\n",
      "Recall: 0.457687351926514\n",
      "f1 Score: 0.5235468917152027\n",
      "Cohens Kappa Score: 0.22921391647581946\n"
     ]
    }
   ],
   "source": [
    "evaluate_model(y_test, y_pred_SVC)"
   ]
  },
  {
   "cell_type": "code",
   "execution_count": 60,
   "id": "2ae866aa-52ea-4216-90d5-b3027f9db68d",
   "metadata": {},
   "outputs": [
    {
     "name": "stdout",
     "output_type": "stream",
     "text": [
      "Accuracy: 0.6284286733965535\n",
      "              precision    recall  f1-score   support\n",
      "\n",
      "           0       0.64      0.77      0.70     59759\n",
      "           1       0.61      0.46      0.52     48118\n",
      "\n",
      "    accuracy                           0.63    107877\n",
      "   macro avg       0.62      0.61      0.61    107877\n",
      "weighted avg       0.63      0.63      0.62    107877\n",
      "\n"
     ]
    },
    {
     "data": {
      "image/png": "[encoded data removed]",
      "text/plain": [
       "<Figure size 432x288 with 2 Axes>"
      ]
     },
     "metadata": {
      "needs_background": "light"
     },
     "output_type": "display_data"
    }
   ],
   "source": [
    "score_heatmap(X_test, y_pred_SVC)"
   ]
  },
  {
   "cell_type": "code",
   "execution_count": 61,
   "id": "4cbaa5b2",
   "metadata": {},
   "outputs": [
    {
     "name": "stdout",
     "output_type": "stream",
     "text": [
      "\u001b[32mThe area under the curve is\u001b[0m 0.6480036998382257\n"
     ]
    },
    {
     "data": {
      "image/png": "[encoded data removed]",
      "text/plain": [
       "<Figure size 432x288 with 1 Axes>"
      ]
     },
     "metadata": {
      "needs_background": "light"
     },
     "output_type": "display_data"
    }
   ],
   "source": [
    "preds_SVC = SVC_model.predict_proba(X_test)[:,1]\n",
    "plot_model(X_test, y_test, preds_SVC)"
   ]
  },
  {
   "cell_type": "markdown",
   "id": "4c15ed29-2707-4606-bb0f-6840c0cc2ee6",
   "metadata": {
    "tags": []
   },
   "source": [
    "# Models Comparison"
   ]
  },
  {
   "cell_type": "code",
   "execution_count": 62,
   "id": "80cbb222-e0fb-43fc-a73b-1243e442fff9",
   "metadata": {},
   "outputs": [
    {
     "name": "stdout",
     "output_type": "stream",
     "text": [
      "Confusion matrix\n",
      "[['TN' 'FP']\n",
      " ['FN' 'TP']]\n",
      "Logistic Regression\n",
      "[[45752 14007]\n",
      " [26179 21939]]\n",
      "Naive Bayes\n",
      "[[45579 14180]\n",
      " [25662 22456]]\n",
      "Decision Tree\n",
      "[[46795 12964]\n",
      " [26509 21609]]\n",
      "Support Vector Machine\n",
      "[[45770 13989]\n",
      " [26095 22023]]\n"
     ]
    }
   ],
   "source": [
    "print(\"Confusion matrix\")\n",
    "print(np.asarray([['TN', 'FP'], ['FN', 'TP']]))\n",
    "print(\"Logistic Regression\")\n",
    "print(metrics.confusion_matrix(y_test, y_pred_class))\n",
    "print(\"Naive Bayes\")\n",
    "print(metrics.confusion_matrix(y_test, y_pred_Nb))\n",
    "print(\"Decision Tree\")\n",
    "print(metrics.confusion_matrix(y_test, y_pred_DT))\n",
    "print(\"Support Vector Machine\")\n",
    "print(metrics.confusion_matrix(y_test, y_pred_SVC))"
   ]
  },
  {
   "cell_type": "code",
   "execution_count": 72,
   "id": "7b01e0e9-aeb5-464c-b693-7ffd42e64323",
   "metadata": {},
   "outputs": [
    {
     "name": "stdout",
     "output_type": "stream",
     "text": [
      "Accuracy, Precision, Recall, f1-score, and kappa score\n",
      "\n",
      "Logistic Regression\n",
      "Accuracy:  0.6274831521084198\n",
      "Precision:  0.6103321649140377\n",
      "Recall: 0.4559416434598279\n",
      "f1 Score: 0.5219594594594594\n",
      "Cohens Kappa Score: 0.22714668711520658\n",
      "\n",
      "Naive Bayes\n",
      "Accuracy:  0.6306719690017335\n",
      "Precision:  0.6129490119008626\n",
      "Recall: 0.46668606342740765\n",
      "f1 Score: 0.5299100927389859\n",
      "Cohens Kappa Score: 0.23485811967713777\n",
      "\n",
      "Decision Tree\n",
      "Accuracy:  0.6340925313088054\n",
      "Precision:  0.6250253087669568\n",
      "Recall: 0.44908350305498984\n",
      "f1 Score: 0.5226445441462796\n",
      "Cohens Kappa Score: 0.23868975339208864\n",
      "\n",
      "Support Vector Machine\n",
      "Accuracy:  0.6284286733965535\n",
      "Precision:  0.6115461512829057\n",
      "Recall: 0.457687351926514\n",
      "f1 Score: 0.5235468917152027\n",
      "Cohens Kappa Score: 0.22921391647581946\n"
     ]
    }
   ],
   "source": [
    "print(\"Accuracy, Precision, Recall, f1-score, and kappa score\\n\")\n",
    "print(\"Logistic Regression\")\n",
    "acc_lg,prec_lg = evaluate_model(y_test, y_pred_class)\n",
    "print(\"\\nNaive Bayes\")\n",
    "acc_nb,prec_nb = evaluate_model(y_test, y_pred_Nb)\n",
    "print(\"\\nDecision Tree\")\n",
    "acc_dt,prec_dt = evaluate_model(y_test, y_pred_DT)\n",
    "print(\"\\nSupport Vector Machine\")\n",
    "acc_svm,prec_svm = evaluate_model(y_test, y_pred_SVC)\n"
   ]
  },
  {
   "cell_type": "code",
   "execution_count": null,
   "id": "08daa839",
   "metadata": {},
   "outputs": [],
   "source": []
  },
  {
   "cell_type": "code",
   "execution_count": 89,
   "id": "baef8116-1d8e-4c98-bd07-eaa56cfb171f",
   "metadata": {},
   "outputs": [],
   "source": [
    "fpr_log, tpr_log, _ = metrics.roc_curve(y_test, preds_log)\n",
    "fpr_nb, tpr_nb, _ = metrics.roc_curve(y_test, preds_Nb)\n",
    "fpr_DT, tpr_DT, threshold_DT = metrics.roc_curve(y_test, preds_DT)\n",
    "fpr_SVC, tpr_SVC, _ = metrics.roc_curve(y_test, preds_SVC)\n",
    "\n",
    "AUC_log = metrics.roc_auc_score(y_test, preds_log)\n",
    "AUC_nb = metrics.roc_auc_score(y_test, preds_Nb)\n",
    "AUC_DT = metrics.roc_auc_score(y_test, preds_DT)\n",
    "AUC_SVC = metrics.roc_auc_score(y_test, preds_SVC)"
   ]
  },
  {
   "cell_type": "code",
   "execution_count": 90,
   "id": "2811f2bb-f9f9-4bc3-b6d0-30581aa810b0",
   "metadata": {},
   "outputs": [
    {
     "data": {
      "image/png": "[encoded data removed]",
      "text/plain": [
       "<Figure size 1080x720 with 1 Axes>"
      ]
     },
     "metadata": {
      "needs_background": "light"
     },
     "output_type": "display_data"
    }
   ],
   "source": [
    "## Comparing ROC Curve\n",
    "plt.figure(figsize=(15,10))\n",
    "plt.plot([0, 1], [0, 1], color = 'navy', linestyle = '--')\n",
    "plt.plot(fpr_log, tpr_log, label='Logistic Regression, auc = {:0.5f}'.format(AUC_log))\n",
    "plt.plot(fpr_nb, tpr_nb, label='Naive Bayes, auc = {:0.5f}'.format(AUC_nb))\n",
    "plt.plot(fpr_DT, tpr_DT, label='Decision Tree, auc = {:0.5f}'.format(AUC_DT))\n",
    "plt.plot(fpr_SVC, tpr_SVC, label='SVC, auc = {:0.5f}'.format(AUC_SVC))\n",
    "\n",
    "\n",
    "## Configure x and y axis\n",
    "plt.xlabel('False Positive Rate', fontweight='bold')\n",
    "plt.ylabel('True Positive Rate', fontweight='bold')\n",
    "\n",
    "## Create legend & title\n",
    "plt.title('ROC Curve', fontsize=14, fontweight='bold')\n",
    "plt.legend(loc=4)\n",
    "\n",
    "plt.show()"
   ]
  },
  {
   "cell_type": "code",
   "execution_count": 77,
   "id": "092b5b68",
   "metadata": {},
   "outputs": [
    {
     "data": {
      "text/html": [
       "<div>\n",
       "<style scoped>\n",
       "    .dataframe tbody tr th:only-of-type {\n",
       "        vertical-align: middle;\n",
       "    }\n",
       "\n",
       "    .dataframe tbody tr th {\n",
       "        vertical-align: top;\n",
       "    }\n",
       "\n",
       "    .dataframe thead th {\n",
       "        text-align: right;\n",
       "    }\n",
       "</style>\n",
       "<table border=\"1\" class=\"dataframe\">\n",
       "  <thead>\n",
       "    <tr style=\"text-align: right;\">\n",
       "      <th></th>\n",
       "      <th>Index</th>\n",
       "      <th>Accuracy</th>\n",
       "      <th>Precision</th>\n",
       "    </tr>\n",
       "  </thead>\n",
       "  <tbody>\n",
       "    <tr>\n",
       "      <th>2</th>\n",
       "      <td>Decision Tree</td>\n",
       "      <td>0.634093</td>\n",
       "      <td>0.625025</td>\n",
       "    </tr>\n",
       "    <tr>\n",
       "      <th>1</th>\n",
       "      <td>Naive Bayes</td>\n",
       "      <td>0.630672</td>\n",
       "      <td>0.612949</td>\n",
       "    </tr>\n",
       "    <tr>\n",
       "      <th>3</th>\n",
       "      <td>Support Vector Machine</td>\n",
       "      <td>0.628429</td>\n",
       "      <td>0.611546</td>\n",
       "    </tr>\n",
       "    <tr>\n",
       "      <th>0</th>\n",
       "      <td>Logistic Regression</td>\n",
       "      <td>0.627483</td>\n",
       "      <td>0.610332</td>\n",
       "    </tr>\n",
       "  </tbody>\n",
       "</table>\n",
       "</div>"
      ],
      "text/plain": [
       "                    Index  Accuracy  Precision\n",
       "2           Decision Tree  0.634093   0.625025\n",
       "1             Naive Bayes  0.630672   0.612949\n",
       "3  Support Vector Machine  0.628429   0.611546\n",
       "0     Logistic Regression  0.627483   0.610332"
      ]
     },
     "execution_count": 77,
     "metadata": {},
     "output_type": "execute_result"
    }
   ],
   "source": [
    "model_comparision_df = pd.DataFrame({\"Accuracy\":[acc_lg,acc_nb,acc_dt,acc_svm],\n",
    "                                     \"Precision\":[prec_lg,prec_nb,prec_dt,prec_svm],\n",
    "                                    \"Index\":[\"Logistic Regression\",\"Naive Bayes\",\"Decision Tree\",\n",
    "                                             \"Support Vector Machine\"]},columns = [\"Index\",\"Accuracy\",\"Precision\"])\n",
    "model_comparision_df.sort_values(by=\"Precision\",ascending = False)"
   ]
  },
  {
   "cell_type": "markdown",
   "id": "c51f495e",
   "metadata": {},
   "source": [
    "<h1 style=\"color:red\"> Model Selection: Accuracy, Precision and Time to train</h1>\n",
    "<h2 style=\"color:green\">Precision: If the model predicts Positive, how often it is correct?</h2>\n",
    "<h3>Reasons: We want reduce the delay rate with minimum resources. We can tolerate the model predicting not delay wrong, but we don't want to waste resource on \"Fault Delay\".</h3>\n",
    "<h3>Decision Tree: We selected Decision tree since it has the best precision rate</h3>"
   ]
  },
  {
   "cell_type": "code",
   "execution_count": 78,
   "id": "642c3139",
   "metadata": {},
   "outputs": [
    {
     "name": "stdout",
     "output_type": "stream",
     "text": [
      "Accuracy: 0.6340925313088054\n",
      "              precision    recall  f1-score   support\n",
      "\n",
      "           0       0.64      0.78      0.70     59759\n",
      "           1       0.63      0.45      0.52     48118\n",
      "\n",
      "    accuracy                           0.63    107877\n",
      "   macro avg       0.63      0.62      0.61    107877\n",
      "weighted avg       0.63      0.63      0.62    107877\n",
      "\n"
     ]
    },
    {
     "data": {
      "image/png": "[encoded data removed]",
      "text/plain": [
       "<Figure size 432x288 with 2 Axes>"
      ]
     },
     "metadata": {
      "needs_background": "light"
     },
     "output_type": "display_data"
    }
   ],
   "source": [
    "score_heatmap(X_test, y_pred_DT)"
   ]
  },
  {
   "cell_type": "markdown",
   "id": "c8a2087b",
   "metadata": {},
   "source": [
    "<h3>Delay rate at the airport is 45%. If we take a wild guess without using this model: it will take has the chance of predicting delay correctly is 45%. This model can help to increase the chance to 63%</h3>"
   ]
  },
  {
   "cell_type": "markdown",
   "id": "7eeea43a",
   "metadata": {},
   "source": [
    "# Stakeholder is the gornverment. With the budget of ten mil, they can only support ten thousands flights, as supporting cost is one thousand dollar per flight. "
   ]
  },
  {
   "cell_type": "code",
   "execution_count": 66,
   "id": "7d672953",
   "metadata": {},
   "outputs": [],
   "source": [
    "# number of positive cases depend on thredhold"
   ]
  },
  {
   "cell_type": "code",
   "execution_count": 187,
   "id": "c3644aaf",
   "metadata": {},
   "outputs": [],
   "source": [
    "small_thres = threshold_DT[(threshold_DT>0.5)&(threshold_DT<1)]"
   ]
  },
  {
   "cell_type": "code",
   "execution_count": 188,
   "id": "2ec49a3e",
   "metadata": {},
   "outputs": [],
   "source": [
    "total_positive_preds_list = []\n",
    "fpr_list = []\n",
    "c = dict(zip(threshold_DT,fpr_DT))\n",
    "for i in small_thres[small_thres<1]:\n",
    "    total_positive_preds = (preds_DT >i).sum()\n",
    "    fpr_i = c[i]\n",
    "    fpr_list.append(fpr_i)\n",
    "    total_positive_preds_list.append(total_positive_preds)"
   ]
  },
  {
   "cell_type": "code",
   "execution_count": 202,
   "id": "a46bc549",
   "metadata": {},
   "outputs": [
    {
     "data": {
      "text/plain": [
       "Text(0, 0.5, 'FPR')"
      ]
     },
     "execution_count": 202,
     "metadata": {},
     "output_type": "execute_result"
    },
    {
     "data": {
      "image/png": "[encoded data removed]",
      "text/plain": [
       "<Figure size 432x288 with 2 Axes>"
      ]
     },
     "metadata": {
      "needs_background": "light"
     },
     "output_type": "display_data"
    }
   ],
   "source": [
    "\n",
    "left_data = total_positive_preds_list\n",
    "right_data = fpr_list\n",
    "\n",
    "fig, ax_left = plt.subplots()\n",
    "ax_right = ax_left.twinx()\n",
    "ax_left.plot(small_thres,left_data, color='black')\n",
    "ax_right.plot(small_thres,right_data, color='red')\n",
    "ax_left.set_xlabel(\"Thresholds\")\n",
    "ax_left.set_ylabel(\"Total Positive Predictions\")\n",
    "ax_right.set_ylabel(\"FPR\")"
   ]
  },
  {
   "cell_type": "code",
   "execution_count": 181,
   "id": "caecd96e",
   "metadata": {},
   "outputs": [
    {
     "name": "stdout",
     "output_type": "stream",
     "text": [
      "At threshold:  0.5\n",
      "              precision    recall  f1-score   support\n",
      "\n",
      "           0       0.64      0.78      0.70     59759\n",
      "           1       0.63      0.45      0.52     48118\n",
      "\n",
      "    accuracy                           0.63    107877\n",
      "   macro avg       0.63      0.62      0.61    107877\n",
      "weighted avg       0.63      0.63      0.62    107877\n",
      "\n",
      "\n",
      "\n",
      "At threshold:  0.65\n",
      "              precision    recall  f1-score   support\n",
      "\n",
      "           0       0.59      0.92      0.72     59759\n",
      "           1       0.68      0.20      0.31     48118\n",
      "\n",
      "    accuracy                           0.60    107877\n",
      "   macro avg       0.64      0.56      0.52    107877\n",
      "weighted avg       0.63      0.60      0.54    107877\n",
      "\n",
      "\n",
      "\n"
     ]
    }
   ],
   "source": [
    "from sklearn.base import BaseEstimator, ClassifierMixin\n",
    "\n",
    "class CustomThreshold(BaseEstimator, ClassifierMixin):\n",
    "    \"\"\" Custom threshold wrapper for binary classification\"\"\"\n",
    "    def __init__(self, base, threshold=0.5):\n",
    "        self.base = base\n",
    "        self.threshold = threshold\n",
    "    def fit(self, *args, **kwargs):\n",
    "        self.base.fit(*args, **kwargs)\n",
    "        return self\n",
    "    def predict(self, X):\n",
    "        return (self.base.predict_proba(X)[:, 1] > self.threshold).astype(int)\n",
    "\n",
    "clf = [CustomThreshold(DT_model, threshold) for threshold in [0.5, 0.65]]\n",
    "\n",
    "for model,threshold in zip(clf,[0.5, 0.65]):\n",
    "    print(\"At threshold: \",threshold)\n",
    "    print(classification_report(y_test, model.predict(X_test)))\n",
    "    print('\\n')"
   ]
  },
  {
   "cell_type": "code",
   "execution_count": 186,
   "id": "e84ec3d3",
   "metadata": {},
   "outputs": [
    {
     "name": "stdout",
     "output_type": "stream",
     "text": [
      "Saved:  $500,000.00\n"
     ]
    }
   ],
   "source": [
    "import locale\n",
    "locale.setlocale( locale.LC_ALL, '' )\n",
    "\n",
    "amt = 0.05*10000000\n",
    "\n",
    "print(\"Saved: \",locale.currency(amt, grouping=True))\n"
   ]
  },
  {
   "cell_type": "code",
   "execution_count": null,
   "id": "89d99929",
   "metadata": {},
   "outputs": [],
   "source": []
  }
 ],
 "metadata": {
  "kernelspec": {
   "display_name": "Python 3 (ipykernel)",
   "language": "python",
   "name": "python3"
  },
  "language_info": {
   "codemirror_mode": {
    "name": "ipython",
    "version": 3
   },
   "file_extension": ".py",
   "mimetype": "text/x-python",
   "name": "python",
   "nbconvert_exporter": "python",
   "pygments_lexer": "ipython3",
   "version": "3.9.12"
  }
 },
 "nbformat": 4,
 "nbformat_minor": 5
}
